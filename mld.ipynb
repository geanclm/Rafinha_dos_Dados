{
 "cells": [
  {
   "cell_type": "code",
   "execution_count": 1,
   "metadata": {},
   "outputs": [],
   "source": [
    "# Curso: Machine Learning Descomplicado - Método RD\n",
    "# Autor: Rafinha dos Dados\n",
    "# - - -\n",
    "# suporte: alunos@rafinhadosdados.com.br\n",
    "# comunidade: facebook\n",
    "# Hotmart Sparkle\n",
    "# - - -\n",
    "# início dos estudos em 09/08/2021\n",
    "# by geanclm"
   ]
  },
  {
   "cell_type": "markdown",
   "metadata": {},
   "source": [
    "[Princípios de Machine Learning: Parte 1](#pmlp1)<br>\n",
    "[Princípios de Machine Learning: Parte 2](#pmlp2)"
   ]
  },
  {
   "cell_type": "markdown",
   "metadata": {},
   "source": [
    "<center style=\"font-size:18pt; background-color:#0f79b6\">\n",
    "    <br/>\n",
    "        <b style=\"color: #ffffff\">\n",
    "            Cronograma de Liberação dos Módulos - Turma C\n",
    "            <br/>&nbsp;\n",
    "</center>"
   ]
  },
  {
   "cell_type": "code",
   "execution_count": 2,
   "metadata": {},
   "outputs": [],
   "source": [
    "# by geanclm\n",
    "import pandas as pd\n",
    "from pathlib import Path \n",
    "\n",
    "FilePath = Path(r'cronograma.csv')\n",
    "df = pd.read_csv(FilePath, sep=';')\n",
    "\n",
    "# renomear campos para um nome mais prático no script python\n",
    "df = df.rename(columns={'DATA DE LIBERAÇÃO': 'data'})\n",
    "df = df.rename(columns={'Módulo': 'module'})\n",
    "\n",
    "# # substituindo caracteres da data\n",
    "# df['data'] = df['data'].apply(lambda x: str(x).replace(\"/\" , \"-\"))\n",
    "\n",
    "df.loc[:,'data'] = pd.to_datetime(df.data, format='%d/%m/%Y')"
   ]
  },
  {
   "cell_type": "code",
   "execution_count": 3,
   "metadata": {},
   "outputs": [
    {
     "data": {
      "text/html": [
       "<div>\n",
       "<style scoped>\n",
       "    .dataframe tbody tr th:only-of-type {\n",
       "        vertical-align: middle;\n",
       "    }\n",
       "\n",
       "    .dataframe tbody tr th {\n",
       "        vertical-align: top;\n",
       "    }\n",
       "\n",
       "    .dataframe thead th {\n",
       "        text-align: right;\n",
       "    }\n",
       "</style>\n",
       "<table border=\"1\" class=\"dataframe\">\n",
       "  <thead>\n",
       "    <tr style=\"text-align: right;\">\n",
       "      <th></th>\n",
       "      <th>module</th>\n",
       "      <th>data</th>\n",
       "    </tr>\n",
       "  </thead>\n",
       "  <tbody>\n",
       "    <tr>\n",
       "      <th>20</th>\n",
       "      <td>Dataprep e \"juntar tudo\" (parte 1)</td>\n",
       "      <td>2021-12-13</td>\n",
       "    </tr>\n",
       "    <tr>\n",
       "      <th>21</th>\n",
       "      <td>Dataprep e \"juntar tudo\" (parte 2)</td>\n",
       "      <td>2021-12-20</td>\n",
       "    </tr>\n",
       "    <tr>\n",
       "      <th>22</th>\n",
       "      <td>Dataprep e \"juntar tudo\" (parte 3)</td>\n",
       "      <td>2021-12-27</td>\n",
       "    </tr>\n",
       "    <tr>\n",
       "      <th>23</th>\n",
       "      <td>Dataprep e \"juntar tudo\" (parte 4)</td>\n",
       "      <td>2022-01-03</td>\n",
       "    </tr>\n",
       "    <tr>\n",
       "      <th>24</th>\n",
       "      <td>Dataprep e \"juntar tudo\" (parte 5)</td>\n",
       "      <td>2022-01-10</td>\n",
       "    </tr>\n",
       "  </tbody>\n",
       "</table>\n",
       "</div>"
      ],
      "text/plain": [
       "                                module       data\n",
       "20  Dataprep e \"juntar tudo\" (parte 1) 2021-12-13\n",
       "21  Dataprep e \"juntar tudo\" (parte 2) 2021-12-20\n",
       "22  Dataprep e \"juntar tudo\" (parte 3) 2021-12-27\n",
       "23  Dataprep e \"juntar tudo\" (parte 4) 2022-01-03\n",
       "24  Dataprep e \"juntar tudo\" (parte 5) 2022-01-10"
      ]
     },
     "execution_count": 3,
     "metadata": {},
     "output_type": "execute_result"
    }
   ],
   "source": [
    "df.tail()"
   ]
  },
  {
   "cell_type": "code",
   "execution_count": 4,
   "metadata": {},
   "outputs": [
    {
     "data": {
      "text/plain": [
       "'Classificação (parte 2)'"
      ]
     },
     "execution_count": 4,
     "metadata": {},
     "output_type": "execute_result"
    }
   ],
   "source": [
    "# =-=-=-=-=-=-=-=-=-=-=-=-=-=-=-=-=-=-=-=-=\n",
    "# RETORNA UM VALOR ESPECÍFICO DO DATA FRAME\n",
    "# by geanclm in 19/08/2021\n",
    "# =-=-=-=-=-=-=-=-=-=-=-=-=-=-=-=-=-=-=-=-=\n",
    "# df.loc[df.data=='2022-01-10']\n",
    "# df.groupby(['data','module']).sum()\n",
    "# df.loc[df.data=='2021-08-09'].iloc[2].module\n",
    "# df.loc[df.data=='2021-08-23']\n",
    "# df.iloc[4].module\n",
    "# df.loc[df.data=='2021-08-23'].module\n",
    "# df.loc[[0]]\n",
    "# df.iloc[0]\n",
    "# df['module'][4]\n",
    "# df.loc[4]['module']\n",
    "df.iloc[5][0]"
   ]
  },
  {
   "cell_type": "markdown",
   "metadata": {},
   "source": [
    "<center style=\"font-size:18pt; background-color:greenyellow\">\n",
    "    <br/>Insights [sugestão de melhorias] by geanclm<br/>&nbsp;</center>"
   ]
  },
  {
   "cell_type": "markdown",
   "metadata": {},
   "source": [
    "- <b>DICAS DE OURO</b>\n",
    "    - mapa conceitual machine learning\n",
    "    - newssletter\n",
    "    - pequeno projeto a cada módulo\n",
    "    - dica py (super dica de python)\n",
    "    - dica mat (super dica de matemática)\n",
    "    - dica lib (super dica de biblioteca ML)\n",
    "    - dica dc (mão na massa com data science)\n",
    "    - dica IA"
   ]
  },
  {
   "cell_type": "markdown",
   "metadata": {},
   "source": [
    "-  <b>PLANNER CIENTISTA DE DADOS</b>\n",
    "    - entendimento do que se precisa saber\n",
    "    - coleta dos dados necessários\n",
    "    - tratamento dos dados  "
   ]
  },
  {
   "cell_type": "markdown",
   "metadata": {},
   "source": [
    "- <b>REQUISITOS</b>\n",
    " - python\n",
    " - matemática e estastística\n",
    " - compreender a regra de negócio\n",
    " - definir área (financeiro, saúde, varejo, web, esporte, política)\n",
    " - machine learning (classificação, regressão, agrupamento)\n",
    " - inglês"
   ]
  },
  {
   "cell_type": "code",
   "execution_count": 18,
   "metadata": {},
   "outputs": [
    {
     "name": "stdout",
     "output_type": "stream",
     "text": [
      "A toda equipe\n",
      "Rafinha dos dados\n",
      "desejo um super 4S\n",
      "['saúde', 'segurança', 'sorte', 'sucesso']\n",
      "com a dose na medida ideal de 5P\n",
      "['planejamento', 'paciência', 'persistência', 'profissionalismo', 'prosperidade', 'propósito']\n"
     ]
    }
   ],
   "source": [
    "# by geanclm in 26/08/2021 in 14:30h\n",
    "# acesso restabelecido na plataforma com a conta geanclm@yahoo.com\n",
    "# Saudação 4S+5P\n",
    "s = ['saúde','segurança','sorte','sucesso']\n",
    "p = ['planejamento','paciência', 'persistência',\n",
    "     'profissionalismo','prosperidade', 'propósito']\n",
    "print (f'''A toda equipe\n",
    "Rafinha dos dados\n",
    "desejo um super 4S\n",
    "{s}\n",
    "com a dose na medida ideal de 5P\n",
    "{p}''')"
   ]
  },
  {
   "cell_type": "markdown",
   "metadata": {},
   "source": [
    "<center style=\"font-size:18pt; background-color:#0f79b6\">\n",
    "    <br/>\n",
    "        <b style=\"color: #ffffff\">\n",
    "            Programação Python e Jupyter\n",
    "        </b>\n",
    "    <br/>&nbsp;\n",
    "</center>"
   ]
  },
  {
   "cell_type": "markdown",
   "metadata": {},
   "source": [
    "### Como instalar o Anaconda Python\n",
    "\n",
    "[Anaconda](https://www.anaconda.com/)"
   ]
  },
  {
   "cell_type": "code",
   "execution_count": 2,
   "metadata": {},
   "outputs": [],
   "source": [
    "# Na entrega dos modelos é trabalhado o script python"
   ]
  },
  {
   "cell_type": "markdown",
   "metadata": {},
   "source": [
    "### Como usar o Google Colab\n",
    "[Google Colaboratory](https://colab.research.google.com/?utm_source=scs-index)"
   ]
  },
  {
   "cell_type": "markdown",
   "metadata": {},
   "source": [
    "### Variáveis"
   ]
  },
  {
   "cell_type": "code",
   "execution_count": 6,
   "metadata": {},
   "outputs": [
    {
     "data": {
      "text/html": [
       "<div>\n",
       "<style scoped>\n",
       "    .dataframe tbody tr th:only-of-type {\n",
       "        vertical-align: middle;\n",
       "    }\n",
       "\n",
       "    .dataframe tbody tr th {\n",
       "        vertical-align: top;\n",
       "    }\n",
       "\n",
       "    .dataframe thead th {\n",
       "        text-align: right;\n",
       "    }\n",
       "</style>\n",
       "<table border=\"1\" class=\"dataframe\">\n",
       "  <thead>\n",
       "    <tr style=\"text-align: right;\">\n",
       "      <th></th>\n",
       "      <th>nome</th>\n",
       "      <th>var</th>\n",
       "      <th>logic</th>\n",
       "      <th>valor</th>\n",
       "      <th>x</th>\n",
       "      <th>y</th>\n",
       "      <th>z</th>\n",
       "      <th>w</th>\n",
       "    </tr>\n",
       "  </thead>\n",
       "  <tbody>\n",
       "    <tr>\n",
       "      <th>0</th>\n",
       "      <td>gean</td>\n",
       "      <td>78.25</td>\n",
       "      <td>True</td>\n",
       "      <td>None</td>\n",
       "      <td>1</td>\n",
       "      <td>2</td>\n",
       "      <td>3</td>\n",
       "      <td>14</td>\n",
       "    </tr>\n",
       "    <tr>\n",
       "      <th>1</th>\n",
       "      <td>carlos</td>\n",
       "      <td>75.23</td>\n",
       "      <td>True</td>\n",
       "      <td>None</td>\n",
       "      <td>1</td>\n",
       "      <td>2</td>\n",
       "      <td>3</td>\n",
       "      <td>14</td>\n",
       "    </tr>\n",
       "    <tr>\n",
       "      <th>2</th>\n",
       "      <td>&lt;class 'list'&gt;</td>\n",
       "      <td>&lt;class 'list'&gt;</td>\n",
       "      <td>&lt;class 'bool'&gt;</td>\n",
       "      <td>&lt;class 'NoneType'&gt;</td>\n",
       "      <td>&lt;class 'int'&gt;</td>\n",
       "      <td>&lt;class 'int'&gt;</td>\n",
       "      <td>&lt;class 'int'&gt;</td>\n",
       "      <td>&lt;class 'int'&gt;</td>\n",
       "    </tr>\n",
       "  </tbody>\n",
       "</table>\n",
       "</div>"
      ],
      "text/plain": [
       "             nome             var           logic               valor  \\\n",
       "0            gean           78.25            True                None   \n",
       "1          carlos           75.23            True                None   \n",
       "2  <class 'list'>  <class 'list'>  <class 'bool'>  <class 'NoneType'>   \n",
       "\n",
       "               x              y              z              w  \n",
       "0              1              2              3             14  \n",
       "1              1              2              3             14  \n",
       "2  <class 'int'>  <class 'int'>  <class 'int'>  <class 'int'>  "
      ]
     },
     "execution_count": 6,
     "metadata": {},
     "output_type": "execute_result"
    }
   ],
   "source": [
    "nome = ['gean','carlos']\n",
    "var = [78.25,75.23]\n",
    "logic = True\n",
    "x,y,z = 1,2,3\n",
    "valor = None\n",
    "w = (x**2)+(y**2)+(z**2)\n",
    "\n",
    "df = pd.DataFrame({'nome':[nome[0],nome[1],type(nome)], 'var':[var[0],var[1],type(var)],\n",
    "                   'logic':[logic,logic,type(logic)], 'valor':[valor,valor,type(valor)],\n",
    "                   'x':[x,x,type(x)], 'y':[y,y,type(y)],\n",
    "                   'z':[z,z,type(z)], 'w':[w,w,type(w)]},\n",
    "                 index = None)\n",
    "df"
   ]
  },
  {
   "cell_type": "code",
   "execution_count": 60,
   "metadata": {},
   "outputs": [
    {
     "data": {
      "text/plain": [
       "2"
      ]
     },
     "execution_count": 60,
     "metadata": {},
     "output_type": "execute_result"
    }
   ],
   "source": [
    "df.loc[0]['y']"
   ]
  },
  {
   "cell_type": "markdown",
   "metadata": {},
   "source": [
    "### Condicionais"
   ]
  },
  {
   "cell_type": "code",
   "execution_count": 61,
   "metadata": {},
   "outputs": [
    {
     "name": "stdout",
     "output_type": "stream",
     "text": [
      "1\n"
     ]
    }
   ],
   "source": [
    "if True:\n",
    "    print(1)\n",
    "else:\n",
    "    print(0)"
   ]
  },
  {
   "cell_type": "markdown",
   "metadata": {},
   "source": [
    "### Tabela verdade E"
   ]
  },
  {
   "cell_type": "code",
   "execution_count": 16,
   "metadata": {},
   "outputs": [
    {
     "name": "stdout",
     "output_type": "stream",
     "text": [
      "True\n",
      "False\n",
      "False\n",
      "False\n"
     ]
    }
   ],
   "source": [
    "print (True & True)\n",
    "print (True and False)\n",
    "print (False & True)\n",
    "print (False and False)"
   ]
  },
  {
   "cell_type": "markdown",
   "metadata": {},
   "source": [
    "### Tabela verdade OU"
   ]
  },
  {
   "cell_type": "code",
   "execution_count": 17,
   "metadata": {},
   "outputs": [
    {
     "name": "stdout",
     "output_type": "stream",
     "text": [
      "True\n",
      "True\n",
      "True\n",
      "False\n"
     ]
    }
   ],
   "source": [
    "print (True | True)\n",
    "print (True or False)\n",
    "print (False | True)\n",
    "print (False or False)"
   ]
  },
  {
   "cell_type": "code",
   "execution_count": 143,
   "metadata": {},
   "outputs": [
    {
     "data": {
      "text/plain": [
       "18000.0"
      ]
     },
     "execution_count": 143,
     "metadata": {},
     "output_type": "execute_result"
    }
   ],
   "source": [
    "idade = 29\n",
    "vencimento = 12000\n",
    "if (idade>=50) & (vencimento<10000):\n",
    "    vencimento = vencimento*1.2\n",
    "elif (idade>=50) &(vencimento<=15000):\n",
    "    vencimento = vencimento*1.1\n",
    "else:\n",
    "    vencimento = vencimento*1.5\n",
    "vencimento"
   ]
  },
  {
   "cell_type": "markdown",
   "metadata": {},
   "source": [
    "### Teste de mesa\n",
    "#### Calcular manualmente em papel e caneta quando a expressão ficar muito complexa"
   ]
  },
  {
   "cell_type": "markdown",
   "metadata": {},
   "source": [
    "### LISTA"
   ]
  },
  {
   "cell_type": "code",
   "execution_count": 2,
   "metadata": {},
   "outputs": [],
   "source": [
    "idade = [28,35,50,45,48,50]"
   ]
  },
  {
   "cell_type": "code",
   "execution_count": 3,
   "metadata": {},
   "outputs": [
    {
     "data": {
      "text/plain": [
       "[28, 35, 50, 45, 48, 50]"
      ]
     },
     "execution_count": 3,
     "metadata": {},
     "output_type": "execute_result"
    }
   ],
   "source": [
    "idade"
   ]
  },
  {
   "cell_type": "code",
   "execution_count": 6,
   "metadata": {},
   "outputs": [
    {
     "data": {
      "text/plain": [
       "(28, 50, [45, 48, 50], [28, 35, 50])"
      ]
     },
     "execution_count": 6,
     "metadata": {},
     "output_type": "execute_result"
    }
   ],
   "source": [
    "idade[0], idade[-1], idade[-3:], idade[:3]"
   ]
  },
  {
   "cell_type": "code",
   "execution_count": 9,
   "metadata": {},
   "outputs": [],
   "source": [
    "idade.append(18)"
   ]
  },
  {
   "cell_type": "code",
   "execution_count": 10,
   "metadata": {},
   "outputs": [
    {
     "data": {
      "text/plain": [
       "[28, 35, 50, 45, 48, 50, 18, 18, 18]"
      ]
     },
     "execution_count": 10,
     "metadata": {},
     "output_type": "execute_result"
    }
   ],
   "source": [
    "idade"
   ]
  },
  {
   "cell_type": "code",
   "execution_count": 11,
   "metadata": {},
   "outputs": [
    {
     "data": {
      "text/plain": [
       "18"
      ]
     },
     "execution_count": 11,
     "metadata": {},
     "output_type": "execute_result"
    }
   ],
   "source": [
    "idade.pop(-1)"
   ]
  },
  {
   "cell_type": "code",
   "execution_count": 12,
   "metadata": {},
   "outputs": [
    {
     "data": {
      "text/plain": [
       "[28, 35, 50, 45, 48, 50, 18, 18]"
      ]
     },
     "execution_count": 12,
     "metadata": {},
     "output_type": "execute_result"
    }
   ],
   "source": [
    "idade"
   ]
  },
  {
   "cell_type": "code",
   "execution_count": 164,
   "metadata": {},
   "outputs": [
    {
     "data": {
      "text/plain": [
       "5"
      ]
     },
     "execution_count": 164,
     "metadata": {},
     "output_type": "execute_result"
    }
   ],
   "source": [
    "len(idade)"
   ]
  },
  {
   "cell_type": "markdown",
   "metadata": {},
   "source": [
    "### DICIONÁRIO"
   ]
  },
  {
   "cell_type": "code",
   "execution_count": 16,
   "metadata": {},
   "outputs": [],
   "source": [
    "dic = {\n",
    "    'nome':'Gean',\n",
    "    'idade':2,\n",
    "    'profissão':'policial civil',\n",
    "    'cargo':'perito oficial criminal',\n",
    "    'área':'teconologia da informação' \n",
    "    }"
   ]
  },
  {
   "cell_type": "code",
   "execution_count": 17,
   "metadata": {},
   "outputs": [
    {
     "data": {
      "text/plain": [
       "{'nome': 'Gean',\n",
       " 'idade': 2,\n",
       " 'profissão': 'policial civil',\n",
       " 'cargo': 'perito oficial criminal',\n",
       " 'área': 'teconologia da informação'}"
      ]
     },
     "execution_count": 17,
     "metadata": {},
     "output_type": "execute_result"
    }
   ],
   "source": [
    "dic"
   ]
  },
  {
   "cell_type": "code",
   "execution_count": 11,
   "metadata": {},
   "outputs": [
    {
     "data": {
      "text/plain": [
       "dict_keys(['nome', 'idade', 'profissão', 'cargo', 'área'])"
      ]
     },
     "execution_count": 11,
     "metadata": {},
     "output_type": "execute_result"
    }
   ],
   "source": [
    "data.keys()"
   ]
  },
  {
   "cell_type": "code",
   "execution_count": 12,
   "metadata": {},
   "outputs": [
    {
     "data": {
      "text/plain": [
       "dict_values(['Gean', 46, 'policial civil', 'perito oficial criminal', 'teconologia da informação'])"
      ]
     },
     "execution_count": 12,
     "metadata": {},
     "output_type": "execute_result"
    }
   ],
   "source": [
    "data.values()"
   ]
  },
  {
   "cell_type": "code",
   "execution_count": 224,
   "metadata": {},
   "outputs": [
    {
     "data": {
      "text/plain": [
       "('Gean', 46)"
      ]
     },
     "execution_count": 224,
     "metadata": {},
     "output_type": "execute_result"
    }
   ],
   "source": [
    "data['nome'], data['idade']"
   ]
  },
  {
   "cell_type": "code",
   "execution_count": 222,
   "metadata": {},
   "outputs": [
    {
     "name": "stdout",
     "output_type": "stream",
     "text": [
      "True\n"
     ]
    }
   ],
   "source": [
    "print('nome' in data)"
   ]
  },
  {
   "cell_type": "markdown",
   "metadata": {},
   "source": [
    "### WHILE"
   ]
  },
  {
   "cell_type": "code",
   "execution_count": 1,
   "metadata": {},
   "outputs": [],
   "source": [
    "orig = 3000\n",
    "pag = 3000"
   ]
  },
  {
   "cell_type": "code",
   "execution_count": 2,
   "metadata": {},
   "outputs": [
    {
     "name": "stdout",
     "output_type": "stream",
     "text": [
      "3030.0\n",
      "3060.3\n",
      "3090.9030000000002\n",
      "3121.8120300000005\n",
      "3153.0301503000005\n",
      "3184.5604518030004\n",
      "3216.4060563210305\n",
      "3248.5701168842406\n",
      "3281.055818053083\n",
      "3313.8663762336137\n"
     ]
    }
   ],
   "source": [
    "while pag<3300:\n",
    "    pag = pag*1.01\n",
    "    print (pag)"
   ]
  },
  {
   "cell_type": "code",
   "execution_count": 34,
   "metadata": {},
   "outputs": [
    {
     "name": "stdout",
     "output_type": "stream",
     "text": [
      "diferença do aumento = R$313.86637623361366\n"
     ]
    }
   ],
   "source": [
    "print (f'''diferença do aumento = R${pag-orig}''')"
   ]
  },
  {
   "cell_type": "markdown",
   "metadata": {},
   "source": [
    "### LOOP FOR"
   ]
  },
  {
   "cell_type": "code",
   "execution_count": 12,
   "metadata": {},
   "outputs": [],
   "source": [
    "import numpy as np\n",
    "from random import sample"
   ]
  },
  {
   "cell_type": "code",
   "execution_count": 22,
   "metadata": {},
   "outputs": [],
   "source": [
    "listas = sorted(sample(range(1, 10),9)) # lista com o range\n",
    "listan = np.arange(1,10,1) # lista com o numpy\n",
    "lista = [11,22,33,44,55,66,77,88,99] # lista padrão do python\n",
    "lista1 = [1,2,3,4,5,6,7,8,9]\n",
    "lista2 = [111,222,333,444,555,666,777,888,999]"
   ]
  },
  {
   "cell_type": "code",
   "execution_count": 23,
   "metadata": {},
   "outputs": [
    {
     "name": "stdout",
     "output_type": "stream",
     "text": [
      "0 11\n",
      "1 22\n",
      "2 33\n",
      "3 44\n",
      "4 55\n",
      "5 66\n",
      "6 77\n",
      "7 88\n",
      "8 99\n"
     ]
    }
   ],
   "source": [
    "for i,lista in enumerate (lista):\n",
    "    print (i, lista)"
   ]
  },
  {
   "cell_type": "code",
   "execution_count": 24,
   "metadata": {},
   "outputs": [
    {
     "name": "stdout",
     "output_type": "stream",
     "text": [
      "1 111\n",
      "2 222\n",
      "3 333\n",
      "4 444\n",
      "5 555\n",
      "6 666\n",
      "7 777\n",
      "8 888\n",
      "9 999\n"
     ]
    }
   ],
   "source": [
    "for i1,i2 in zip(lista1,lista2):\n",
    "    print (i1,i2)"
   ]
  },
  {
   "cell_type": "code",
   "execution_count": 25,
   "metadata": {},
   "outputs": [
    {
     "name": "stdout",
     "output_type": "stream",
     "text": [
      "2\n",
      "4\n",
      "6\n",
      "8\n"
     ]
    }
   ],
   "source": [
    "# list comprehension python\n",
    "[print(i) for i in lista1 if i%2==0];"
   ]
  },
  {
   "cell_type": "markdown",
   "metadata": {},
   "source": [
    "### FUNÇÕES"
   ]
  },
  {
   "cell_type": "code",
   "execution_count": 29,
   "metadata": {},
   "outputs": [],
   "source": [
    "def aumentaSalario (idade, salario):\n",
    "    if (idade>40) & (salario<7000):\n",
    "        return salario*1.1\n",
    "    else:\n",
    "        return salario"
   ]
  },
  {
   "cell_type": "code",
   "execution_count": 31,
   "metadata": {},
   "outputs": [
    {
     "data": {
      "text/plain": [
       "2750.0"
      ]
     },
     "execution_count": 31,
     "metadata": {},
     "output_type": "execute_result"
    }
   ],
   "source": [
    "aumentaSalario(42,2500)"
   ]
  },
  {
   "cell_type": "markdown",
   "metadata": {},
   "source": [
    "<center style=\"font-size:18pt; background-color:#c9d976\">\n",
    "    <br/>\n",
    "        <b style=\"color: #033409\">\n",
    "            Numpy\n",
    "        </b>\n",
    "    <br/>&nbsp;\n",
    "</center>"
   ]
  },
  {
   "cell_type": "code",
   "execution_count": 1,
   "metadata": {},
   "outputs": [],
   "source": [
    "import numpy as np\n",
    "from numpy.random import default_rng"
   ]
  },
  {
   "cell_type": "code",
   "execution_count": 2,
   "metadata": {},
   "outputs": [
    {
     "data": {
      "text/plain": [
       "<module 'numpy' from 'C:\\\\Users\\\\geanc\\\\anaconda3\\\\lib\\\\site-packages\\\\numpy\\\\__init__.py'>"
      ]
     },
     "execution_count": 2,
     "metadata": {},
     "output_type": "execute_result"
    }
   ],
   "source": [
    "np"
   ]
  },
  {
   "cell_type": "code",
   "execution_count": 7,
   "metadata": {},
   "outputs": [],
   "source": [
    "arange = np.arange(0,10,1)"
   ]
  },
  {
   "cell_type": "code",
   "execution_count": 8,
   "metadata": {},
   "outputs": [],
   "source": [
    "a = np.array([0.82,0.78,0.77,0.76,0.75,0.75,0.74,0.74,0.73,0.73])"
   ]
  },
  {
   "cell_type": "code",
   "execution_count": 9,
   "metadata": {},
   "outputs": [
    {
     "data": {
      "text/plain": [
       "array([-0.04, -0.01, -0.01, -0.01,  0.  , -0.01,  0.  , -0.01,  0.  ])"
      ]
     },
     "execution_count": 9,
     "metadata": {},
     "output_type": "execute_result"
    }
   ],
   "source": [
    "np.diff(a)"
   ]
  },
  {
   "cell_type": "code",
   "execution_count": 10,
   "metadata": {},
   "outputs": [
    {
     "data": {
      "text/plain": [
       "array([0.73, 0.73, 0.74, 0.74, 0.75, 0.75, 0.76, 0.77, 0.78, 0.82])"
      ]
     },
     "execution_count": 10,
     "metadata": {},
     "output_type": "execute_result"
    }
   ],
   "source": [
    "np.sort(a)"
   ]
  },
  {
   "cell_type": "code",
   "execution_count": 13,
   "metadata": {},
   "outputs": [
    {
     "name": "stdout",
     "output_type": "stream",
     "text": [
      "-----------------------------\n",
      "--| RELATÓRIO ESTATÍSTICO |--\n",
      "-----------------------------\n",
      "amostra: [0.82 0.78 0.77 0.76 0.75 0.75 0.74 0.74 0.73 0.73]\n",
      "-----------------------------\n",
      "valor máx: 0.82\n",
      "valor mín: 0.73\n",
      "média: 0.76\n",
      "variância amostral: 0.00\n",
      "variância populacional: 0.00\n",
      "desvio padrão amostral: 0.03\n",
      "desvio padrão populacional: 0.03\n",
      "coeficiente de variação [com base no dpa] = 3.63%\n"
     ]
    }
   ],
   "source": [
    "# by geanclm in 04/06/2022 at 16:34h\n",
    "# - - -\n",
    "# Cálculo manual da variância\n",
    "# https://www.youtube.com/watch?v=JEwd0Vlqapo\n",
    "# https://youtu.be/pKwL379DdCg\n",
    "# - - -\n",
    "soma = 0\n",
    "m = a.mean() # cálculo da média\n",
    "# m = np.average(a)\n",
    "\n",
    "for i in range(0,len(a)):\n",
    "    soma += ((np.abs(a[i]-a.mean()))**2)\n",
    "    \n",
    "varfa = soma/(len(a)-1) # variância amostral\n",
    "varfp = soma/len(a) # variância populacional\n",
    "# a.var() # Cálculo da variância populacional com o método\n",
    "\n",
    "dpa = varfa**0.5 # cálculo manual do desvio padrão amostral\n",
    "dpp = varfp**0.5 # cálculo manual do desvio padrão populacional\n",
    "# a.std() # cálculo do desvio padrão populacional com o método\n",
    "\n",
    "# coeficiente de variação = (desvio padrão / média) * 100\n",
    "cv = ((dpa/a.mean())*100)\n",
    "\n",
    "texto ='--| RELATÓRIO ESTATÍSTICO |--'\n",
    "print ('-'*len(texto))\n",
    "print (texto)\n",
    "print ('-'*len(texto))\n",
    "print (f'amostra: {a}')\n",
    "print ('-'*len(texto))\n",
    "print (f'valor máx: {a.max()}')\n",
    "print (f'valor mín: {a.min()}')\n",
    "print (f'média: {m:.2f}')\n",
    "print (f'variância amostral: {varfa:.2f}')\n",
    "print (f'variância populacional: {varfp:.2f}')\n",
    "print (f'desvio padrão amostral: {dpa:.2f}')\n",
    "print (f'desvio padrão populacional: {dpp:.2f}')\n",
    "print (f'coeficiente de variação [com base no dpa] = {cv:.2f}%')"
   ]
  },
  {
   "cell_type": "code",
   "execution_count": 184,
   "metadata": {},
   "outputs": [],
   "source": [
    "from statistics import pstdev"
   ]
  },
  {
   "cell_type": "code",
   "execution_count": 187,
   "metadata": {},
   "outputs": [
    {
     "data": {
      "text/plain": [
       "(34, array([ 8, 15, 24, 34], dtype=int32), 1.118033988749895, 1.0)"
      ]
     },
     "execution_count": 187,
     "metadata": {},
     "output_type": "execute_result"
    }
   ],
   "source": [
    "a.sum(), a.cumsum(), a.std(), pstdev(a)"
   ]
  },
  {
   "cell_type": "code",
   "execution_count": 171,
   "metadata": {},
   "outputs": [
    {
     "data": {
      "text/plain": [
       "(1,\n",
       " array([3.16227766, 4.47213595, 3.46410162, 4.12310563, 4.        ]),\n",
       " array([10, 12, 16, 17, 20]))"
      ]
     },
     "execution_count": 171,
     "metadata": {},
     "output_type": "execute_result"
    }
   ],
   "source": [
    "a.argmax(), np.sqrt(a), np.unique(a)"
   ]
  },
  {
   "cell_type": "code",
   "execution_count": 3,
   "metadata": {},
   "outputs": [
    {
     "data": {
      "text/plain": [
       "array([0, 1, 2, 3, 4, 5, 6, 7, 8, 9])"
      ]
     },
     "execution_count": 3,
     "metadata": {},
     "output_type": "execute_result"
    }
   ],
   "source": [
    "x = np.arange(10)\n",
    "x"
   ]
  },
  {
   "cell_type": "code",
   "execution_count": 4,
   "metadata": {},
   "outputs": [
    {
     "data": {
      "text/plain": [
       "array([ 1,  2,  3,  4,  5,  6,  7,  8,  9, 10, 11, 12, 13, 14, 15, 16, 17,\n",
       "       18, 19, 20, 21, 22, 23, 24, 25, 26, 27, 28, 29, 30, 31, 32, 33, 34,\n",
       "       35, 36, 37, 38, 39, 40, 41, 42, 43, 44, 45, 46, 47, 48, 49, 50, 51,\n",
       "       52, 53, 54, 55, 56, 57, 58, 59, 60])"
      ]
     },
     "execution_count": 4,
     "metadata": {},
     "output_type": "execute_result"
    }
   ],
   "source": [
    "l = np.arange(1,61,1)\n",
    "l"
   ]
  },
  {
   "cell_type": "code",
   "execution_count": 90,
   "metadata": {},
   "outputs": [
    {
     "data": {
      "text/plain": [
       "50.5"
      ]
     },
     "execution_count": 90,
     "metadata": {},
     "output_type": "execute_result"
    }
   ],
   "source": [
    "l.mean()"
   ]
  },
  {
   "cell_type": "code",
   "execution_count": 83,
   "metadata": {},
   "outputs": [
    {
     "data": {
      "text/plain": [
       "5050"
      ]
     },
     "execution_count": 83,
     "metadata": {},
     "output_type": "execute_result"
    }
   ],
   "source": [
    "l.sum()"
   ]
  },
  {
   "cell_type": "code",
   "execution_count": 84,
   "metadata": {},
   "outputs": [
    {
     "data": {
      "text/plain": [
       "array([1, 1, 1, 1, 1, 1, 1, 1, 1, 1, 1, 1, 1, 1, 1, 1, 1, 1, 1, 1, 1, 1,\n",
       "       1, 1, 1, 1, 1, 1, 1, 1, 1, 1, 1, 1, 1, 1, 1, 1, 1, 1, 1, 1, 1, 1,\n",
       "       1, 1, 1, 1, 1, 1, 1, 1, 1, 1, 1, 1, 1, 1, 1, 1, 1, 1, 1, 1, 1, 1,\n",
       "       1, 1, 1, 1, 1, 1, 1, 1, 1, 1, 1, 1, 1, 1, 1, 1, 1, 1, 1, 1, 1, 1,\n",
       "       1, 1, 1, 1, 1, 1, 1, 1, 1, 1, 1])"
      ]
     },
     "execution_count": 84,
     "metadata": {},
     "output_type": "execute_result"
    }
   ],
   "source": [
    "np.diff(l)"
   ]
  },
  {
   "cell_type": "markdown",
   "metadata": {},
   "source": [
    "<center style=\"font-size:18pt; background-color:#c9d976\">\n",
    "    <br/>\n",
    "        <b style=\"color: #033409\">\n",
    "            MATPLOTLIB\n",
    "        </b>\n",
    "    <br/>&nbsp;\n",
    "</center>"
   ]
  },
  {
   "cell_type": "markdown",
   "metadata": {},
   "source": [
    "[matplotlib](https://matplotlib.org/stable/#)"
   ]
  },
  {
   "cell_type": "code",
   "execution_count": 14,
   "metadata": {},
   "outputs": [],
   "source": [
    "import matplotlib.pyplot as plt"
   ]
  },
  {
   "cell_type": "code",
   "execution_count": 15,
   "metadata": {},
   "outputs": [
    {
     "data": {
      "text/plain": [
       "<module 'matplotlib.pyplot' from 'C:\\\\Users\\\\geanc\\\\anaconda3\\\\lib\\\\site-packages\\\\matplotlib\\\\pyplot.py'>"
      ]
     },
     "execution_count": 15,
     "metadata": {},
     "output_type": "execute_result"
    }
   ],
   "source": [
    "plt"
   ]
  },
  {
   "cell_type": "code",
   "execution_count": 16,
   "metadata": {},
   "outputs": [
    {
     "data": {
      "image/png": "[encoded data removed]",
      "text/plain": [
       "<Figure size 1080x360 with 1 Axes>"
      ]
     },
     "metadata": {
      "needs_background": "light"
     },
     "output_type": "display_data"
    }
   ],
   "source": [
    "plt.figure(figsize=(15,5))\n",
    "x = np.arange(0,48,10)\n",
    "y = np.arange(0,48,10)\n",
    "w = np.arange(10,48,4)\n",
    "z = np.arange(20,58,4)\n",
    "# x = (default_rng().choice(range(1, 30), size=(1, 5), replace=False))\n",
    "# y = (default_rng().choice(range(1, 30), size=(1, 5), replace=False))\n",
    "plt.plot(x,y,'r*--', label=\"case 1\")\n",
    "plt.plot(w,z,'b*--', label=\"case 2\")\n",
    "# plt.bar(x,y, width=2)\n",
    "plt.grid() # exibindo a grade no fundo do gráfico\n",
    "plt.xlim(left=0) #definir ponto zero no gráfico independente dos valores de x e y\n",
    "plt.ylim(bottom=0)\n",
    "plt.title(f'gráfico matplotlib')\n",
    "plt.ylabel('eixo y')\n",
    "plt.xlabel('eixo x')\n",
    "plt.legend();"
   ]
  },
  {
   "cell_type": "code",
   "execution_count": 22,
   "metadata": {},
   "outputs": [
    {
     "data": {
      "image/png": "[encoded data removed]",
      "text/plain": [
       "<Figure size 1080x360 with 1 Axes>"
      ]
     },
     "metadata": {
      "needs_background": "light"
     },
     "output_type": "display_data"
    }
   ],
   "source": [
    "plt.figure(figsize=(15,5))\n",
    "x = ['a','b','c','d','e']\n",
    "y = [80, 42, 68, 91, 77]\n",
    "\n",
    "plt.bar(x,y, edgecolor='black', label=\"pesquisa\", color='orange', width=0.75)\n",
    "\n",
    "# inserir os valores em cada coluna\n",
    "for i, j in enumerate(y):\n",
    "    plt.text(i, j-7, f'{j}', ha='center', fontsize=16)\n",
    "\n",
    "plt.title(f'gráfico de barras')\n",
    "plt.ylabel('eixo y')\n",
    "plt.xlabel('eixo x')\n",
    "plt.legend();"
   ]
  },
  {
   "cell_type": "code",
   "execution_count": 27,
   "metadata": {},
   "outputs": [
    {
     "data": {
      "image/png": "[encoded data removed]",
      "text/plain": [
       "<Figure size 432x288 with 1 Axes>"
      ]
     },
     "metadata": {
      "needs_background": "light"
     },
     "output_type": "display_data"
    }
   ],
   "source": [
    "labels = ['G1', 'G2', 'G3', 'G4', 'G5']\n",
    "men_means = [20, 35, 30, 35, 27]\n",
    "women_means = [25, 32, 34, 20, 25]\n",
    "men_std = [2, 3, 4, 1, 2]\n",
    "women_std = [3, 5, 2, 3, 3]\n",
    "width = 0.35       # the width of the bars: can also be len(x) sequence\n",
    "\n",
    "fig, ax = plt.subplots()\n",
    "ax.bar(labels, men_means, width, yerr=men_std, label='Men')\n",
    "ax.bar(labels, women_means, width, yerr=women_std, bottom=men_means, label='Women')\n",
    "\n",
    "ax.set_ylabel('Scores')\n",
    "ax.set_title('Scores by group and gender')\n",
    "ax.legend()\n",
    "plt.show()"
   ]
  },
  {
   "cell_type": "markdown",
   "metadata": {},
   "source": [
    "<center style=\"font-size:18pt; background-color:#c9d976\">\n",
    "    <br/>\n",
    "        <b style=\"color: #033409\">\n",
    "            PANDAS\n",
    "        </b>\n",
    "    <br/>&nbsp;\n",
    "</center>"
   ]
  },
  {
   "cell_type": "code",
   "execution_count": 7,
   "metadata": {},
   "outputs": [],
   "source": [
    "# https://pandas.pydata.org/\n",
    "import pandas as pd"
   ]
  },
  {
   "cell_type": "code",
   "execution_count": 8,
   "metadata": {},
   "outputs": [
    {
     "data": {
      "text/plain": [
       "<module 'pandas' from 'C:\\\\Users\\\\geanc\\\\anaconda3\\\\lib\\\\site-packages\\\\pandas\\\\__init__.py'>"
      ]
     },
     "execution_count": 8,
     "metadata": {},
     "output_type": "execute_result"
    }
   ],
   "source": [
    "pd"
   ]
  },
  {
   "cell_type": "code",
   "execution_count": 9,
   "metadata": {},
   "outputs": [],
   "source": [
    "file = r'C:\\Users\\geanc\\Downloads\\DATA SCIENCE\\Rafinha dos Dados\\geanclm\\dados.csv'\n",
    "df = pd.read_csv(file, sep=';')"
   ]
  },
  {
   "cell_type": "code",
   "execution_count": 10,
   "metadata": {},
   "outputs": [
    {
     "data": {
      "text/html": [
       "<div>\n",
       "<style scoped>\n",
       "    .dataframe tbody tr th:only-of-type {\n",
       "        vertical-align: middle;\n",
       "    }\n",
       "\n",
       "    .dataframe tbody tr th {\n",
       "        vertical-align: top;\n",
       "    }\n",
       "\n",
       "    .dataframe thead th {\n",
       "        text-align: right;\n",
       "    }\n",
       "</style>\n",
       "<table border=\"1\" class=\"dataframe\">\n",
       "  <thead>\n",
       "    <tr style=\"text-align: right;\">\n",
       "      <th></th>\n",
       "      <th>nome</th>\n",
       "      <th>idade</th>\n",
       "      <th>cpf</th>\n",
       "      <th>nascimento</th>\n",
       "      <th>peso</th>\n",
       "      <th>estado</th>\n",
       "      <th>registro</th>\n",
       "      <th>cargo</th>\n",
       "      <th>rg</th>\n",
       "      <th>investidor</th>\n",
       "      <th>projeto</th>\n",
       "      <th>renda</th>\n",
       "    </tr>\n",
       "  </thead>\n",
       "  <tbody>\n",
       "    <tr>\n",
       "      <th>0</th>\n",
       "      <td>gean</td>\n",
       "      <td>40</td>\n",
       "      <td>12345678910</td>\n",
       "      <td>1995-10-11</td>\n",
       "      <td>70</td>\n",
       "      <td>SC</td>\n",
       "      <td>2021-11-25</td>\n",
       "      <td>empresário</td>\n",
       "      <td>1234567</td>\n",
       "      <td>sim</td>\n",
       "      <td>True</td>\n",
       "      <td>3500</td>\n",
       "    </tr>\n",
       "    <tr>\n",
       "      <th>1</th>\n",
       "      <td>carlos</td>\n",
       "      <td>41</td>\n",
       "      <td>12345678911</td>\n",
       "      <td>1995-10-12</td>\n",
       "      <td>71</td>\n",
       "      <td>SC</td>\n",
       "      <td>2021-11-26</td>\n",
       "      <td>investidor</td>\n",
       "      <td>1234568</td>\n",
       "      <td>não</td>\n",
       "      <td>True</td>\n",
       "      <td>3501</td>\n",
       "    </tr>\n",
       "    <tr>\n",
       "      <th>2</th>\n",
       "      <td>luciano</td>\n",
       "      <td>42</td>\n",
       "      <td>12345678912</td>\n",
       "      <td>1995-10-13</td>\n",
       "      <td>72</td>\n",
       "      <td>DF</td>\n",
       "      <td>2021-11-27</td>\n",
       "      <td>cientista de dados</td>\n",
       "      <td>1234569</td>\n",
       "      <td>sim</td>\n",
       "      <td>False</td>\n",
       "      <td>3502</td>\n",
       "    </tr>\n",
       "    <tr>\n",
       "      <th>3</th>\n",
       "      <td>geanclm</td>\n",
       "      <td>43</td>\n",
       "      <td>12345678913</td>\n",
       "      <td>1995-10-14</td>\n",
       "      <td>73</td>\n",
       "      <td>PB</td>\n",
       "      <td>2021-11-28</td>\n",
       "      <td>perito oficial</td>\n",
       "      <td>1234570</td>\n",
       "      <td>não</td>\n",
       "      <td>True</td>\n",
       "      <td>3503</td>\n",
       "    </tr>\n",
       "    <tr>\n",
       "      <th>4</th>\n",
       "      <td>gclm</td>\n",
       "      <td>44</td>\n",
       "      <td>12345678914</td>\n",
       "      <td>1995-10-15</td>\n",
       "      <td>74</td>\n",
       "      <td>PB</td>\n",
       "      <td>2022-02-16</td>\n",
       "      <td>policial</td>\n",
       "      <td>1234571</td>\n",
       "      <td>sim</td>\n",
       "      <td>True</td>\n",
       "      <td>3504</td>\n",
       "    </tr>\n",
       "    <tr>\n",
       "      <th>5</th>\n",
       "      <td>clm</td>\n",
       "      <td>45</td>\n",
       "      <td>12345678915</td>\n",
       "      <td>1995-10-16</td>\n",
       "      <td>75</td>\n",
       "      <td>PB</td>\n",
       "      <td>2022-02-16</td>\n",
       "      <td>tecnologia</td>\n",
       "      <td>1234572</td>\n",
       "      <td>sim</td>\n",
       "      <td>True</td>\n",
       "      <td>3505</td>\n",
       "    </tr>\n",
       "  </tbody>\n",
       "</table>\n",
       "</div>"
      ],
      "text/plain": [
       "      nome  idade          cpf  nascimento  peso estado    registro  \\\n",
       "0     gean     40  12345678910  1995-10-11    70     SC  2021-11-25   \n",
       "1   carlos     41  12345678911  1995-10-12    71     SC  2021-11-26   \n",
       "2  luciano     42  12345678912  1995-10-13    72     DF  2021-11-27   \n",
       "3  geanclm     43  12345678913  1995-10-14    73     PB  2021-11-28   \n",
       "4     gclm     44  12345678914  1995-10-15    74     PB  2022-02-16   \n",
       "5      clm     45  12345678915  1995-10-16    75     PB  2022-02-16   \n",
       "\n",
       "                cargo       rg investidor  projeto  renda  \n",
       "0          empresário  1234567        sim     True   3500  \n",
       "1          investidor  1234568        não     True   3501  \n",
       "2  cientista de dados  1234569        sim    False   3502  \n",
       "3      perito oficial  1234570        não     True   3503  \n",
       "4            policial  1234571        sim     True   3504  \n",
       "5          tecnologia  1234572        sim     True   3505  "
      ]
     },
     "execution_count": 10,
     "metadata": {},
     "output_type": "execute_result"
    }
   ],
   "source": [
    "df"
   ]
  },
  {
   "cell_type": "code",
   "execution_count": 11,
   "metadata": {},
   "outputs": [
    {
     "name": "stdout",
     "output_type": "stream",
     "text": [
      "<class 'pandas.core.frame.DataFrame'>\n",
      "RangeIndex: 6 entries, 0 to 5\n",
      "Data columns (total 12 columns):\n",
      " #   Column      Non-Null Count  Dtype \n",
      "---  ------      --------------  ----- \n",
      " 0   nome        6 non-null      object\n",
      " 1   idade       6 non-null      int64 \n",
      " 2   cpf         6 non-null      int64 \n",
      " 3   nascimento  6 non-null      object\n",
      " 4   peso        6 non-null      int64 \n",
      " 5   estado      6 non-null      object\n",
      " 6   registro    6 non-null      object\n",
      " 7   cargo       6 non-null      object\n",
      " 8   rg          6 non-null      int64 \n",
      " 9   investidor  6 non-null      object\n",
      " 10  projeto     6 non-null      bool  \n",
      " 11  renda       6 non-null      int64 \n",
      "dtypes: bool(1), int64(5), object(6)\n",
      "memory usage: 662.0+ bytes\n"
     ]
    }
   ],
   "source": [
    "df.info()"
   ]
  },
  {
   "cell_type": "code",
   "execution_count": 12,
   "metadata": {},
   "outputs": [
    {
     "data": {
      "text/plain": [
       "PB    3\n",
       "SC    2\n",
       "DF    1\n",
       "Name: estado, dtype: int64"
      ]
     },
     "execution_count": 12,
     "metadata": {},
     "output_type": "execute_result"
    }
   ],
   "source": [
    "df.estado.value_counts()"
   ]
  },
  {
   "cell_type": "code",
   "execution_count": 13,
   "metadata": {},
   "outputs": [
    {
     "data": {
      "text/html": [
       "<div>\n",
       "<style scoped>\n",
       "    .dataframe tbody tr th:only-of-type {\n",
       "        vertical-align: middle;\n",
       "    }\n",
       "\n",
       "    .dataframe tbody tr th {\n",
       "        vertical-align: top;\n",
       "    }\n",
       "\n",
       "    .dataframe thead th {\n",
       "        text-align: right;\n",
       "    }\n",
       "</style>\n",
       "<table border=\"1\" class=\"dataframe\">\n",
       "  <thead>\n",
       "    <tr style=\"text-align: right;\">\n",
       "      <th></th>\n",
       "      <th>nome</th>\n",
       "      <th>cargo</th>\n",
       "      <th>renda</th>\n",
       "    </tr>\n",
       "  </thead>\n",
       "  <tbody>\n",
       "    <tr>\n",
       "      <th>0</th>\n",
       "      <td>gean</td>\n",
       "      <td>empresário</td>\n",
       "      <td>3500</td>\n",
       "    </tr>\n",
       "    <tr>\n",
       "      <th>1</th>\n",
       "      <td>carlos</td>\n",
       "      <td>investidor</td>\n",
       "      <td>3501</td>\n",
       "    </tr>\n",
       "    <tr>\n",
       "      <th>2</th>\n",
       "      <td>luciano</td>\n",
       "      <td>cientista de dados</td>\n",
       "      <td>3502</td>\n",
       "    </tr>\n",
       "    <tr>\n",
       "      <th>3</th>\n",
       "      <td>geanclm</td>\n",
       "      <td>perito oficial</td>\n",
       "      <td>3503</td>\n",
       "    </tr>\n",
       "    <tr>\n",
       "      <th>4</th>\n",
       "      <td>gclm</td>\n",
       "      <td>policial</td>\n",
       "      <td>3504</td>\n",
       "    </tr>\n",
       "    <tr>\n",
       "      <th>5</th>\n",
       "      <td>clm</td>\n",
       "      <td>tecnologia</td>\n",
       "      <td>3505</td>\n",
       "    </tr>\n",
       "  </tbody>\n",
       "</table>\n",
       "</div>"
      ],
      "text/plain": [
       "      nome               cargo  renda\n",
       "0     gean          empresário   3500\n",
       "1   carlos          investidor   3501\n",
       "2  luciano  cientista de dados   3502\n",
       "3  geanclm      perito oficial   3503\n",
       "4     gclm            policial   3504\n",
       "5      clm          tecnologia   3505"
      ]
     },
     "execution_count": 13,
     "metadata": {},
     "output_type": "execute_result"
    }
   ],
   "source": [
    "df[['nome','cargo','renda']]"
   ]
  },
  {
   "cell_type": "code",
   "execution_count": 14,
   "metadata": {},
   "outputs": [
    {
     "data": {
      "text/plain": [
       "12345678911"
      ]
     },
     "execution_count": 14,
     "metadata": {},
     "output_type": "execute_result"
    }
   ],
   "source": [
    "df.iloc[1,2]"
   ]
  },
  {
   "cell_type": "code",
   "execution_count": 15,
   "metadata": {},
   "outputs": [],
   "source": [
    "df.dropna(inplace=True)"
   ]
  },
  {
   "cell_type": "code",
   "execution_count": 16,
   "metadata": {},
   "outputs": [
    {
     "data": {
      "text/html": [
       "<div>\n",
       "<style scoped>\n",
       "    .dataframe tbody tr th:only-of-type {\n",
       "        vertical-align: middle;\n",
       "    }\n",
       "\n",
       "    .dataframe tbody tr th {\n",
       "        vertical-align: top;\n",
       "    }\n",
       "\n",
       "    .dataframe thead th {\n",
       "        text-align: right;\n",
       "    }\n",
       "</style>\n",
       "<table border=\"1\" class=\"dataframe\">\n",
       "  <thead>\n",
       "    <tr style=\"text-align: right;\">\n",
       "      <th></th>\n",
       "      <th>nome</th>\n",
       "      <th>idade</th>\n",
       "      <th>cpf</th>\n",
       "      <th>nascimento</th>\n",
       "      <th>peso</th>\n",
       "      <th>estado</th>\n",
       "      <th>registro</th>\n",
       "      <th>cargo</th>\n",
       "      <th>rg</th>\n",
       "      <th>investidor</th>\n",
       "      <th>projeto</th>\n",
       "      <th>renda</th>\n",
       "    </tr>\n",
       "  </thead>\n",
       "  <tbody>\n",
       "    <tr>\n",
       "      <th>0</th>\n",
       "      <td>gean</td>\n",
       "      <td>40</td>\n",
       "      <td>12345678910</td>\n",
       "      <td>1995-10-11</td>\n",
       "      <td>70</td>\n",
       "      <td>SC</td>\n",
       "      <td>2021-11-25</td>\n",
       "      <td>empresário</td>\n",
       "      <td>1234567</td>\n",
       "      <td>sim</td>\n",
       "      <td>True</td>\n",
       "      <td>3500</td>\n",
       "    </tr>\n",
       "    <tr>\n",
       "      <th>1</th>\n",
       "      <td>carlos</td>\n",
       "      <td>41</td>\n",
       "      <td>12345678911</td>\n",
       "      <td>1995-10-12</td>\n",
       "      <td>71</td>\n",
       "      <td>SC</td>\n",
       "      <td>2021-11-26</td>\n",
       "      <td>investidor</td>\n",
       "      <td>1234568</td>\n",
       "      <td>não</td>\n",
       "      <td>True</td>\n",
       "      <td>3501</td>\n",
       "    </tr>\n",
       "    <tr>\n",
       "      <th>2</th>\n",
       "      <td>luciano</td>\n",
       "      <td>42</td>\n",
       "      <td>12345678912</td>\n",
       "      <td>1995-10-13</td>\n",
       "      <td>72</td>\n",
       "      <td>DF</td>\n",
       "      <td>2021-11-27</td>\n",
       "      <td>cientista de dados</td>\n",
       "      <td>1234569</td>\n",
       "      <td>sim</td>\n",
       "      <td>False</td>\n",
       "      <td>3502</td>\n",
       "    </tr>\n",
       "    <tr>\n",
       "      <th>3</th>\n",
       "      <td>geanclm</td>\n",
       "      <td>43</td>\n",
       "      <td>12345678913</td>\n",
       "      <td>1995-10-14</td>\n",
       "      <td>73</td>\n",
       "      <td>PB</td>\n",
       "      <td>2021-11-28</td>\n",
       "      <td>perito oficial</td>\n",
       "      <td>1234570</td>\n",
       "      <td>não</td>\n",
       "      <td>True</td>\n",
       "      <td>3503</td>\n",
       "    </tr>\n",
       "    <tr>\n",
       "      <th>4</th>\n",
       "      <td>gclm</td>\n",
       "      <td>44</td>\n",
       "      <td>12345678914</td>\n",
       "      <td>1995-10-15</td>\n",
       "      <td>74</td>\n",
       "      <td>PB</td>\n",
       "      <td>2022-02-16</td>\n",
       "      <td>policial</td>\n",
       "      <td>1234571</td>\n",
       "      <td>sim</td>\n",
       "      <td>True</td>\n",
       "      <td>3504</td>\n",
       "    </tr>\n",
       "    <tr>\n",
       "      <th>5</th>\n",
       "      <td>clm</td>\n",
       "      <td>45</td>\n",
       "      <td>12345678915</td>\n",
       "      <td>1995-10-16</td>\n",
       "      <td>75</td>\n",
       "      <td>PB</td>\n",
       "      <td>2022-02-16</td>\n",
       "      <td>tecnologia</td>\n",
       "      <td>1234572</td>\n",
       "      <td>sim</td>\n",
       "      <td>True</td>\n",
       "      <td>3505</td>\n",
       "    </tr>\n",
       "  </tbody>\n",
       "</table>\n",
       "</div>"
      ],
      "text/plain": [
       "      nome  idade          cpf  nascimento  peso estado    registro  \\\n",
       "0     gean     40  12345678910  1995-10-11    70     SC  2021-11-25   \n",
       "1   carlos     41  12345678911  1995-10-12    71     SC  2021-11-26   \n",
       "2  luciano     42  12345678912  1995-10-13    72     DF  2021-11-27   \n",
       "3  geanclm     43  12345678913  1995-10-14    73     PB  2021-11-28   \n",
       "4     gclm     44  12345678914  1995-10-15    74     PB  2022-02-16   \n",
       "5      clm     45  12345678915  1995-10-16    75     PB  2022-02-16   \n",
       "\n",
       "                cargo       rg investidor  projeto  renda  \n",
       "0          empresário  1234567        sim     True   3500  \n",
       "1          investidor  1234568        não     True   3501  \n",
       "2  cientista de dados  1234569        sim    False   3502  \n",
       "3      perito oficial  1234570        não     True   3503  \n",
       "4            policial  1234571        sim     True   3504  \n",
       "5          tecnologia  1234572        sim     True   3505  "
      ]
     },
     "execution_count": 16,
     "metadata": {},
     "output_type": "execute_result"
    }
   ],
   "source": [
    "df"
   ]
  },
  {
   "cell_type": "code",
   "execution_count": 10,
   "metadata": {},
   "outputs": [],
   "source": [
    "# df.fillna(111)"
   ]
  },
  {
   "cell_type": "code",
   "execution_count": 11,
   "metadata": {},
   "outputs": [
    {
     "data": {
      "text/plain": [
       "(5, 12)"
      ]
     },
     "execution_count": 11,
     "metadata": {},
     "output_type": "execute_result"
    }
   ],
   "source": [
    "df.shape"
   ]
  },
  {
   "cell_type": "code",
   "execution_count": 12,
   "metadata": {},
   "outputs": [
    {
     "data": {
      "text/plain": [
       "nome           object\n",
       "idade           int64\n",
       "cpf             int64\n",
       "nascimento     object\n",
       "peso            int64\n",
       "estado         object\n",
       "registro       object\n",
       "cargo          object\n",
       "rg            float64\n",
       "investidor     object\n",
       "projeto          bool\n",
       "renda           int64\n",
       "dtype: object"
      ]
     },
     "execution_count": 12,
     "metadata": {},
     "output_type": "execute_result"
    }
   ],
   "source": [
    "df.dtypes"
   ]
  },
  {
   "cell_type": "code",
   "execution_count": 13,
   "metadata": {},
   "outputs": [],
   "source": [
    "df['nascimento'] = pd.to_datetime(df['nascimento'])"
   ]
  },
  {
   "cell_type": "code",
   "execution_count": 14,
   "metadata": {},
   "outputs": [],
   "source": [
    "df['registro'] = pd.to_datetime(df['registro'])"
   ]
  },
  {
   "cell_type": "code",
   "execution_count": 15,
   "metadata": {},
   "outputs": [],
   "source": [
    "df['rg'] = df['rg'].astype(int)"
   ]
  },
  {
   "cell_type": "code",
   "execution_count": 16,
   "metadata": {},
   "outputs": [
    {
     "data": {
      "text/plain": [
       "nome                  object\n",
       "idade                  int64\n",
       "cpf                    int64\n",
       "nascimento    datetime64[ns]\n",
       "peso                   int64\n",
       "estado                object\n",
       "registro      datetime64[ns]\n",
       "cargo                 object\n",
       "rg                     int32\n",
       "investidor            object\n",
       "projeto                 bool\n",
       "renda                  int64\n",
       "dtype: object"
      ]
     },
     "execution_count": 16,
     "metadata": {},
     "output_type": "execute_result"
    }
   ],
   "source": [
    "df.dtypes"
   ]
  },
  {
   "cell_type": "code",
   "execution_count": 58,
   "metadata": {},
   "outputs": [],
   "source": [
    "# df['anos'] = df['registro']-df['nascimento']"
   ]
  },
  {
   "cell_type": "code",
   "execution_count": 59,
   "metadata": {},
   "outputs": [],
   "source": [
    "# df['anos'] = df['anos']"
   ]
  },
  {
   "cell_type": "code",
   "execution_count": 17,
   "metadata": {},
   "outputs": [
    {
     "data": {
      "text/html": [
       "<div>\n",
       "<style scoped>\n",
       "    .dataframe tbody tr th:only-of-type {\n",
       "        vertical-align: middle;\n",
       "    }\n",
       "\n",
       "    .dataframe tbody tr th {\n",
       "        vertical-align: top;\n",
       "    }\n",
       "\n",
       "    .dataframe thead th {\n",
       "        text-align: right;\n",
       "    }\n",
       "</style>\n",
       "<table border=\"1\" class=\"dataframe\">\n",
       "  <thead>\n",
       "    <tr style=\"text-align: right;\">\n",
       "      <th></th>\n",
       "      <th>nome</th>\n",
       "      <th>idade</th>\n",
       "      <th>cpf</th>\n",
       "      <th>nascimento</th>\n",
       "      <th>peso</th>\n",
       "      <th>estado</th>\n",
       "      <th>registro</th>\n",
       "      <th>cargo</th>\n",
       "      <th>rg</th>\n",
       "      <th>investidor</th>\n",
       "      <th>projeto</th>\n",
       "      <th>renda</th>\n",
       "    </tr>\n",
       "  </thead>\n",
       "  <tbody>\n",
       "    <tr>\n",
       "      <th>0</th>\n",
       "      <td>gean</td>\n",
       "      <td>40</td>\n",
       "      <td>12345678910</td>\n",
       "      <td>1995-10-11</td>\n",
       "      <td>70</td>\n",
       "      <td>SC</td>\n",
       "      <td>2021-11-25</td>\n",
       "      <td>empresário</td>\n",
       "      <td>1234567</td>\n",
       "      <td>sim</td>\n",
       "      <td>True</td>\n",
       "      <td>3500</td>\n",
       "    </tr>\n",
       "    <tr>\n",
       "      <th>1</th>\n",
       "      <td>carlos</td>\n",
       "      <td>41</td>\n",
       "      <td>12345678911</td>\n",
       "      <td>1995-10-12</td>\n",
       "      <td>71</td>\n",
       "      <td>SC</td>\n",
       "      <td>2021-11-26</td>\n",
       "      <td>investidor</td>\n",
       "      <td>1234568</td>\n",
       "      <td>não</td>\n",
       "      <td>True</td>\n",
       "      <td>3501</td>\n",
       "    </tr>\n",
       "    <tr>\n",
       "      <th>2</th>\n",
       "      <td>luciano</td>\n",
       "      <td>42</td>\n",
       "      <td>12345678912</td>\n",
       "      <td>1995-10-13</td>\n",
       "      <td>72</td>\n",
       "      <td>DF</td>\n",
       "      <td>2021-11-27</td>\n",
       "      <td>cientista de dados</td>\n",
       "      <td>1234569</td>\n",
       "      <td>sim</td>\n",
       "      <td>False</td>\n",
       "      <td>3502</td>\n",
       "    </tr>\n",
       "    <tr>\n",
       "      <th>3</th>\n",
       "      <td>geanclm</td>\n",
       "      <td>43</td>\n",
       "      <td>12345678913</td>\n",
       "      <td>1995-10-14</td>\n",
       "      <td>73</td>\n",
       "      <td>PB</td>\n",
       "      <td>2021-11-28</td>\n",
       "      <td>perito oficial</td>\n",
       "      <td>1234570</td>\n",
       "      <td>não</td>\n",
       "      <td>True</td>\n",
       "      <td>3503</td>\n",
       "    </tr>\n",
       "    <tr>\n",
       "      <th>4</th>\n",
       "      <td>gclm</td>\n",
       "      <td>44</td>\n",
       "      <td>12345678914</td>\n",
       "      <td>1995-10-15</td>\n",
       "      <td>74</td>\n",
       "      <td>PB</td>\n",
       "      <td>2022-02-16</td>\n",
       "      <td>policial</td>\n",
       "      <td>1234571</td>\n",
       "      <td>sim</td>\n",
       "      <td>True</td>\n",
       "      <td>3504</td>\n",
       "    </tr>\n",
       "    <tr>\n",
       "      <th>5</th>\n",
       "      <td>clm</td>\n",
       "      <td>45</td>\n",
       "      <td>12345678915</td>\n",
       "      <td>1995-10-16</td>\n",
       "      <td>75</td>\n",
       "      <td>PB</td>\n",
       "      <td>2022-02-16</td>\n",
       "      <td>tecnologia</td>\n",
       "      <td>1234572</td>\n",
       "      <td>sim</td>\n",
       "      <td>True</td>\n",
       "      <td>3505</td>\n",
       "    </tr>\n",
       "  </tbody>\n",
       "</table>\n",
       "</div>"
      ],
      "text/plain": [
       "      nome  idade          cpf  nascimento  peso estado    registro  \\\n",
       "0     gean     40  12345678910  1995-10-11    70     SC  2021-11-25   \n",
       "1   carlos     41  12345678911  1995-10-12    71     SC  2021-11-26   \n",
       "2  luciano     42  12345678912  1995-10-13    72     DF  2021-11-27   \n",
       "3  geanclm     43  12345678913  1995-10-14    73     PB  2021-11-28   \n",
       "4     gclm     44  12345678914  1995-10-15    74     PB  2022-02-16   \n",
       "5      clm     45  12345678915  1995-10-16    75     PB  2022-02-16   \n",
       "\n",
       "                cargo       rg investidor  projeto  renda  \n",
       "0          empresário  1234567        sim     True   3500  \n",
       "1          investidor  1234568        não     True   3501  \n",
       "2  cientista de dados  1234569        sim    False   3502  \n",
       "3      perito oficial  1234570        não     True   3503  \n",
       "4            policial  1234571        sim     True   3504  \n",
       "5          tecnologia  1234572        sim     True   3505  "
      ]
     },
     "execution_count": 17,
     "metadata": {},
     "output_type": "execute_result"
    }
   ],
   "source": [
    "df"
   ]
  },
  {
   "cell_type": "code",
   "execution_count": 61,
   "metadata": {},
   "outputs": [],
   "source": [
    "# df.fillna('faltou dado na planilha')"
   ]
  },
  {
   "cell_type": "code",
   "execution_count": 25,
   "metadata": {},
   "outputs": [
    {
     "data": {
      "text/plain": [
       "estado\n",
       "DF    15000.000000\n",
       "PB    11833.333333\n",
       "SC     8500.000000\n",
       "Name: renda, dtype: float64"
      ]
     },
     "execution_count": 25,
     "metadata": {},
     "output_type": "execute_result"
    }
   ],
   "source": [
    "df.groupby(['estado'])['renda'].mean()"
   ]
  },
  {
   "cell_type": "code",
   "execution_count": 23,
   "metadata": {},
   "outputs": [
    {
     "data": {
      "image/png": "[encoded data removed]",
      "text/plain": [
       "<Figure size 432x288 with 1 Axes>"
      ]
     },
     "metadata": {
      "needs_background": "light"
     },
     "output_type": "display_data"
    }
   ],
   "source": [
    "df.groupby(['estado'])['idade'].mean().plot.bar(grid=True);"
   ]
  },
  {
   "cell_type": "code",
   "execution_count": 18,
   "metadata": {},
   "outputs": [
    {
     "data": {
      "text/plain": [
       "estado\n",
       "DF    15000\n",
       "PB    35500\n",
       "SC     8500\n",
       "Name: renda, dtype: int64"
      ]
     },
     "execution_count": 18,
     "metadata": {},
     "output_type": "execute_result"
    }
   ],
   "source": [
    "df.groupby(['estado'])['renda'].sum()"
   ]
  },
  {
   "cell_type": "code",
   "execution_count": 19,
   "metadata": {},
   "outputs": [
    {
     "data": {
      "text/plain": [
       "estado\n",
       "DF         NaN\n",
       "PB    1.527525\n",
       "SC         NaN\n",
       "Name: idade, dtype: float64"
      ]
     },
     "execution_count": 19,
     "metadata": {},
     "output_type": "execute_result"
    }
   ],
   "source": [
    "df.groupby(['estado'])['idade'].std()"
   ]
  },
  {
   "cell_type": "code",
   "execution_count": 26,
   "metadata": {},
   "outputs": [
    {
     "data": {
      "text/plain": [
       "estado\n",
       "DF    48.000000\n",
       "PB    48.666667\n",
       "SC    46.000000\n",
       "Name: idade, dtype: float64"
      ]
     },
     "execution_count": 26,
     "metadata": {},
     "output_type": "execute_result"
    }
   ],
   "source": [
    "df.groupby(['estado'])['idade'].mean()"
   ]
  },
  {
   "cell_type": "markdown",
   "metadata": {},
   "source": [
    "<a name=\"pmlp1\"></a>\n",
    "<center style=\"font-size:18pt; background-color:orange\">\n",
    "    <br/>\n",
    "        <b style=\"color: #033409\">\n",
    "            Princípios de Machine Learning: Parte 1\n",
    "        </b>\n",
    "    <br/>&nbsp;\n",
    "</center>"
   ]
  },
  {
   "cell_type": "markdown",
   "metadata": {},
   "source": [
    "__O que é Machine Learning?__\n",
    "\n",
    "    Underfitting (falta de ajuste)<br>\n",
    "    Overfitting (sobreajuste)"
   ]
  },
  {
   "cell_type": "markdown",
   "metadata": {},
   "source": [
    "__Modelo Dummy__<br>\n",
    "\n",
    "    df.loc[:,'predicoes'] = df.valor.shift(1)\n",
    "    df.loc[:,'erro'] = df.predicoes - df.valor\n",
    "    \n",
    "[aula_001_O que é ML_Dummy.ipynb](http://localhost:8888/notebooks/Downloads/DATA%20SCIENCE/Rafinha%20dos%20Dados/Machine%20Learning%20Descomplicado%20-%20curso/Princ%C3%ADpios%20de%20Machine%20Learning/aula_001_O%20que%20%C3%A9%20ML_Dummy.ipynb#)"
   ]
  },
  {
   "cell_type": "markdown",
   "metadata": {},
   "source": [
    "__Áreas__\n",
    "\n",
    "    CLASSIFICAÇÃO [supervisionado]\n",
    "        variável FINITA e não ordenada\n",
    "        from sklearn.ensemble import RandomForestClassifier\n",
    "    REGRESSÃO [supervisionado]\n",
    "        variável CONTÍNUA e ordenada\n",
    "    AGRUPAMENTO [não supervisionado]\n",
    "        encontrar GRUPOS e PADRÕES\n",
    "\n",
    "__Classificação Multiclasse__\n",
    "\n",
    "    Rever esses conceitos. Aula um pouco confusa."
   ]
  },
  {
   "cell_type": "markdown",
   "metadata": {},
   "source": [
    "<a name=\"pmlp2\"></a>\n",
    "<center style=\"font-size:18pt; background-color:orange\">\n",
    "    <br/>\n",
    "        <b style=\"color: #033409\">\n",
    "            Princípios de Machine Learning: Parte 2\n",
    "        </b>\n",
    "    <br/>&nbsp;\n",
    "</center>"
   ]
  },
  {
   "cell_type": "markdown",
   "metadata": {},
   "source": [
    "- IMPORTANTE TER UM CARDERNO PARA ANOTAÇÕES (caderno do cientista de dados)\n",
    "\n",
    "\n",
    "### Desenhando um problema de ML - Bloco 1\n",
    "    - caderno do cientista de dados\n",
    "    - entender a necessidade do problema/desafio (dor)\n",
    "        - exemplo: ligações desnecessarias que são feitas para pessoas \n",
    "    \n",
    "    \n",
    "### Desenhando um problema de ML - Bloco 2\n",
    "    - dados estruturados\n",
    "    - organização dos dados\n",
    "    - wordcloud (recurso para localizar as palavras mais frequentes\n",
    "    - ! usar o poder dos textos <b>white paper</b>\n",
    "\n",
    "\n",
    "    \n",
    "### Desenhando um problema de ML - Bloco 3\n",
    "    - Entender o melhor possível sobre o problema proposto\n",
    "    para ter menos esforço durante a constução do modelo\n",
    "\n",
    "\n",
    "    - CLASSIFICAÇÃO\n",
    "        ?\n",
    "        - sim ou não\n",
    "        - variáveis finitas\n",
    "     \n",
    "     \n",
    "    - AGRUPAMENTO\n",
    "        ?\n",
    "        - regras diferentes para grupos e/ou perfis específicos\n",
    "    \n",
    "    \n",
    "    - REGRESSÃO\n",
    "        ?\n",
    "        - prever variável com certas restrições\n",
    "        - Vai chover? Qual o tempo?\n",
    "        - Vai vender? Quanto?\n",
    "        - Vai funcionar? Quanto tempo? \n",
    "        - predição"
   ]
  },
  {
   "cell_type": "markdown",
   "metadata": {},
   "source": [
    "#### CRISP-DM (Cross-Industry Standard Process for Data Mining)"
   ]
  },
  {
   "attachments": {
    "1554133049377.png": {
     "image/png": "[encoded data removed]"
    }
   },
   "cell_type": "markdown",
   "metadata": {},
   "source": [
    "![1554133049377.png](attachment:1554133049377.png)"
   ]
  },
  {
   "cell_type": "code",
   "execution_count": 2,
   "metadata": {},
   "outputs": [],
   "source": [
    "# 0 - business understanfing -> 3 semanas\n",
    "# 1 - data understanfing ->\n",
    "# 2 - data preparation -> 3 meses\n",
    "# 3 - modeling ->\n",
    "# 4 - evaluation -> 2 mês\n",
    "# 5 - deployment -> \n",
    "\n",
    "# Projeto com 1 ou 2 modelos leva entre 3 e 6 meses"
   ]
  },
  {
   "cell_type": "markdown",
   "metadata": {},
   "source": [
    "<center style=\"font-size:18pt; background-color:#0f79b6\">\n",
    "    <br/><b><FONT COLOR=\"#ffffff\">Classificação: Parte 1</FONT><br/><b>&nbsp;</center>"
   ]
  },
  {
   "cell_type": "markdown",
   "metadata": {},
   "source": [
    "O que é Classificação?<br>\n",
    "Encontrar regras para separar as classes\n",
    "\n",
    "\n",
    "Primeiros insights!\n",
    "\n",
    "- Underfit e Overfit\n",
    "    - Overfit: quando o modelo decora os dados e não é capaz de gerar novos resultados. é aceitável assumir erros para um melhor aprendizado.\n",
    "    O modelo vicia em alguns regultados e fica perdido e sem respostas para novas situações.\n",
    "    - Underfit: modelo muito genérico e incapaz de reconhecer novos resultados\n",
    "    O modelo cria falsos positivos. Dependendo do cenário precisa de mais análise dos dados, seja na área da saúde, finanças, previsão de tempo, varejo.\n",
    "    \n",
    "\t- entender que não se pode viciar e nem generalizar de mais um modelo. Que referência podemos utilizar para entender o quão distante nosso modelo está de um bom resultado?\n",
    "- variáveis\n",
    "\t- importante identificar a idependêncai entre variáveis para evitar\n",
    "esforço desnecessário e/ou expectativa de gráficos ineficientes em razão de uma variável\n",
    "escolhida não interferir em outra variável  tanbém escolhida.\n",
    "\tUma dúvida que ficou: como podemos testar essa interdependência de variáeveis com o data frame inicial? Existe algum gráfico mais indicado e amigável para essa compreensão?\n",
    "    \n",
    "    \n",
    "    \n",
    "- naive bayes (sugestões para o módulo e também para o curso by geanclm in 16/09/2021)"
   ]
  },
  {
   "cell_type": "markdown",
   "metadata": {},
   "source": [
    "<center style=\"font-size:18pt; background-color:#0f79b6\">\n",
    "    <br/><b><FONT COLOR=\"#ffffff\">Classificação: Parte 2</FONT><br/><b>&nbsp;</center>"
   ]
  },
  {
   "cell_type": "markdown",
   "metadata": {},
   "source": [
    "    - https://pt.wikipedia.org/wiki/Matriz_de_confus%C3%A3o\n",
    "    - Métricas de Classificação\n",
    "    - Importância de Variáveis"
   ]
  },
  {
   "cell_type": "markdown",
   "metadata": {},
   "source": [
    "<center style=\"font-size:18pt; background-color:#0f79b6\">\n",
    "    <br/>\n",
    "        <b>\n",
    "            <FONT COLOR=\"#ffffff\">\n",
    "                Classificação: Parte 3\n",
    "            </FONT><br/>\n",
    "        <b>&nbsp;\n",
    "</center>"
   ]
  },
  {
   "cell_type": "markdown",
   "metadata": {},
   "source": [
    "- SVM Linear ---> REVER ESSA AULA!<br>\n",
    "[Support Vector Machines](https://scikit-learn.org/stable/modules/svm.html#svm-classification)\n",
    "\n",
    "\n",
    "- SVM Não Linear\n",
    "\n",
    "\n",
    "- [SVM Não Linear Outros Kernels](https://www.csie.ntu.edu.tw/~cjlin/libsvm/)"
   ]
  },
  {
   "cell_type": "markdown",
   "metadata": {},
   "source": [
    "<center style=\"font-size:18pt; background-color:#0f79b6\">\n",
    "    <br/>\n",
    "        <b>\n",
    "            <FONT COLOR=\"#ffffff\">\n",
    "                Classificação: Parte 4\n",
    "            </FONT><br/>\n",
    "        <b>&nbsp;\n",
    "</center>"
   ]
  },
  {
   "cell_type": "markdown",
   "metadata": {},
   "source": [
    "[Logistic regression](https://scikit-learn.org/stable/modules/linear_model.html#logistic-regression)\n",
    "\n",
    "- Regressão Logística\n",
    "    - retorna a probabilidade"
   ]
  },
  {
   "cell_type": "code",
   "execution_count": null,
   "metadata": {},
   "outputs": [],
   "source": []
  },
  {
   "cell_type": "code",
   "execution_count": null,
   "metadata": {},
   "outputs": [],
   "source": []
  },
  {
   "cell_type": "code",
   "execution_count": null,
   "metadata": {},
   "outputs": [],
   "source": []
  },
  {
   "cell_type": "code",
   "execution_count": null,
   "metadata": {},
   "outputs": [],
   "source": []
  },
  {
   "cell_type": "markdown",
   "metadata": {},
   "source": [
    "<center style=\"font-size:18pt; background-color:orange\">\n",
    "    <br/><b>data science checklist</b><br/>&nbsp;</center>"
   ]
  },
  {
   "cell_type": "code",
   "execution_count": 1,
   "metadata": {},
   "outputs": [],
   "source": [
    "# rodmap"
   ]
  },
  {
   "cell_type": "code",
   "execution_count": 1,
   "metadata": {},
   "outputs": [],
   "source": [
    "# to do list Machine Learning\n",
    "# by geanclm in 28/02/2022 at 17:03h"
   ]
  },
  {
   "cell_type": "code",
   "execution_count": null,
   "metadata": {},
   "outputs": [],
   "source": [
    "# Business understanding"
   ]
  },
  {
   "cell_type": "code",
   "execution_count": 8,
   "metadata": {},
   "outputs": [],
   "source": [
    "# Title"
   ]
  },
  {
   "cell_type": "code",
   "execution_count": 9,
   "metadata": {},
   "outputs": [],
   "source": [
    "# Head"
   ]
  },
  {
   "cell_type": "code",
   "execution_count": 10,
   "metadata": {},
   "outputs": [],
   "source": [
    "# Challenge"
   ]
  },
  {
   "cell_type": "code",
   "execution_count": 1,
   "metadata": {},
   "outputs": [],
   "source": [
    "# Data understanding"
   ]
  },
  {
   "cell_type": "code",
   "execution_count": 11,
   "metadata": {},
   "outputs": [],
   "source": [
    "# Local files"
   ]
  },
  {
   "cell_type": "code",
   "execution_count": 12,
   "metadata": {},
   "outputs": [],
   "source": [
    "# Import libs"
   ]
  },
  {
   "cell_type": "code",
   "execution_count": null,
   "metadata": {},
   "outputs": [],
   "source": [
    "# Automation"
   ]
  },
  {
   "cell_type": "code",
   "execution_count": 13,
   "metadata": {},
   "outputs": [],
   "source": [
    "# Dataset"
   ]
  },
  {
   "cell_type": "code",
   "execution_count": 1,
   "metadata": {},
   "outputs": [],
   "source": [
    "# Metadata"
   ]
  },
  {
   "cell_type": "code",
   "execution_count": 1,
   "metadata": {},
   "outputs": [],
   "source": [
    "# Data validation"
   ]
  },
  {
   "cell_type": "code",
   "execution_count": null,
   "metadata": {},
   "outputs": [],
   "source": [
    "# Data cleaning"
   ]
  },
  {
   "cell_type": "code",
   "execution_count": 14,
   "metadata": {},
   "outputs": [],
   "source": [
    "# Data preparation"
   ]
  },
  {
   "cell_type": "code",
   "execution_count": 15,
   "metadata": {},
   "outputs": [],
   "source": [
    "# Data visualization"
   ]
  },
  {
   "cell_type": "code",
   "execution_count": 1,
   "metadata": {},
   "outputs": [],
   "source": [
    "# Data graph"
   ]
  },
  {
   "cell_type": "code",
   "execution_count": null,
   "metadata": {},
   "outputs": [],
   "source": [
    "# Insights"
   ]
  },
  {
   "cell_type": "markdown",
   "metadata": {},
   "source": [
    "<center style=\"font-size:18pt; background-color:orange\">\n",
    "    <br/><b>Machine learning [step by step]</b><br/>&nbsp;</center>"
   ]
  },
  {
   "cell_type": "code",
   "execution_count": null,
   "metadata": {},
   "outputs": [],
   "source": [
    "# Sepmentar o dataframe em X (Varável preditiva. Dados sem a resposta)\n",
    "# e\n",
    "# y(resposta). Coluna com as informações de resultado registrado até o momento.\n",
    "# .\n",
    "# X = df - coluna resposta (y)\n",
    "# y = coluna resposta"
   ]
  },
  {
   "cell_type": "code",
   "execution_count": null,
   "metadata": {},
   "outputs": [],
   "source": [
    "# Separar treino e teste\n",
    "from sklearn.model_selection import train_test_split as tts\n",
    "X_tr, X_ts, y_tr, y_ts = tts(X,y, test_size=0.3)"
   ]
  },
  {
   "cell_type": "code",
   "execution_count": null,
   "metadata": {},
   "outputs": [],
   "source": [
    "# Treinar o modelo\n",
    "# from sklearn.ensemble import RandomForestRegressor\n",
    "# rf = RandomForestRegressor(n_estimators=500, max_depth=8, n_jobs=-1)\n",
    "# rf.fit(X_tr, y_tr)"
   ]
  },
  {
   "cell_type": "code",
   "execution_count": null,
   "metadata": {},
   "outputs": [],
   "source": [
    "# Observação:\n",
    "# fit -> utilizado para variáveis 'tr'\n",
    "# transform -> utilizado para variáveis 'ts'"
   ]
  },
  {
   "cell_type": "code",
   "execution_count": null,
   "metadata": {},
   "outputs": [],
   "source": [
    "# Verificar propensão calculada\n",
    "# pred = rf.predict(X_ts) # para algorítmo de REGRESSÃO\n",
    "# pred = rf.predict_proba(X_ts) # algorítmo de CLASSIFFICAÇÃO"
   ]
  },
  {
   "cell_type": "code",
   "execution_count": null,
   "metadata": {},
   "outputs": [],
   "source": [
    "# Verificar o quanto o modelo errou\n",
    "# Mean Absolute Error (also called MAE)\n",
    "\n",
    "# from sklearn.metrics import mean_absolute_error\n",
    "# mean_absolute_error(y_ts, rf.predict(X_ts))"
   ]
  },
  {
   "cell_type": "code",
   "execution_count": null,
   "metadata": {},
   "outputs": [],
   "source": [
    "# Verificar curácia\n",
    "# from sklearn.metrics import roc_auc_score\n",
    "# roc_auc_score(y_ts, pred)*100"
   ]
  },
  {
   "cell_type": "code",
   "execution_count": null,
   "metadata": {},
   "outputs": [],
   "source": [
    "# Model validation"
   ]
  },
  {
   "cell_type": "code",
   "execution_count": 18,
   "metadata": {},
   "outputs": [],
   "source": [
    "# Gráfico"
   ]
  }
 ],
 "metadata": {
  "kernelspec": {
   "display_name": "Python 3",
   "language": "python",
   "name": "python3"
  },
  "language_info": {
   "codemirror_mode": {
    "name": "ipython",
    "version": 3
   },
   "file_extension": ".py",
   "mimetype": "text/x-python",
   "name": "python",
   "nbconvert_exporter": "python",
   "pygments_lexer": "ipython3",
   "version": "3.8.5"
  }
 },
 "nbformat": 4,
 "nbformat_minor": 4
}
