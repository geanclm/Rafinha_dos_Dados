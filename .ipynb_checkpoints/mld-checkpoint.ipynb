{
 "cells": [
  {
   "cell_type": "code",
   "execution_count": 1,
   "metadata": {},
   "outputs": [],
   "source": [
    "# Curso: Machine Learning Descomplicado - Método RD\n",
    "# Autor: Rafinha dos Dados\n",
    "# - - -\n",
    "# suporte: alunos@rafinhadosdados.com.br\n",
    "# comunidade: facebook\n",
    "# Hotmart Sparkle\n",
    "# - - -\n",
    "# início dos estudos sobre machine learning em 09/08/2021\n",
    "# - - -\n",
    "# continuação dos estudos com Programa FLAI Dominando Data Science 3.0 em 09/06/2022\n",
    "# by geanclm"
   ]
  },
  {
   "cell_type": "markdown",
   "metadata": {},
   "source": [
    "[Numpy - estatística](#numpy)<br>\n",
    "[data science checklist](#dsc)<br>\n",
    "[Princípios de Machine Learning: Parte 1](#pmlp1)<br>\n",
    "[Princípios de Machine Learning: Parte 2](#pmlp2)<br>"
   ]
  },
  {
   "cell_type": "markdown",
   "metadata": {},
   "source": [
    "<center style=\"font-size:18pt; background-color:#0f79b6\">\n",
    "    <br/>\n",
    "        <b style=\"color: #ffffff\">\n",
    "            Cronograma de Liberação dos Módulos - Turma C\n",
    "            <br/>&nbsp;\n",
    "</center>"
   ]
  },
  {
   "cell_type": "code",
   "execution_count": 1,
   "metadata": {},
   "outputs": [],
   "source": [
    "# by geanclm\n",
    "import pandas as pd\n",
    "from pathlib import Path \n",
    "\n",
    "FilePath = Path(r'cronograma.csv')\n",
    "df = pd.read_csv(FilePath, sep=';')\n",
    "\n",
    "# renomear campos para um nome mais prático no script python\n",
    "df = df.rename(columns={'DATA DE LIBERAÇÃO': 'data'})\n",
    "df = df.rename(columns={'Módulo': 'module'})\n",
    "\n",
    "# # substituindo caracteres da data\n",
    "# df['data'] = df['data'].apply(lambda x: str(x).replace(\"/\" , \"-\"))\n",
    "\n",
    "df.loc[:,'data'] = pd.to_datetime(df.data, format='%d/%m/%Y')"
   ]
  },
  {
   "cell_type": "code",
   "execution_count": 3,
   "metadata": {},
   "outputs": [
    {
     "data": {
      "text/html": [
       "<div>\n",
       "<style scoped>\n",
       "    .dataframe tbody tr th:only-of-type {\n",
       "        vertical-align: middle;\n",
       "    }\n",
       "\n",
       "    .dataframe tbody tr th {\n",
       "        vertical-align: top;\n",
       "    }\n",
       "\n",
       "    .dataframe thead th {\n",
       "        text-align: right;\n",
       "    }\n",
       "</style>\n",
       "<table border=\"1\" class=\"dataframe\">\n",
       "  <thead>\n",
       "    <tr style=\"text-align: right;\">\n",
       "      <th></th>\n",
       "      <th>module</th>\n",
       "      <th>data</th>\n",
       "    </tr>\n",
       "  </thead>\n",
       "  <tbody>\n",
       "    <tr>\n",
       "      <th>20</th>\n",
       "      <td>Dataprep e \"juntar tudo\" (parte 1)</td>\n",
       "      <td>2021-12-13</td>\n",
       "    </tr>\n",
       "    <tr>\n",
       "      <th>21</th>\n",
       "      <td>Dataprep e \"juntar tudo\" (parte 2)</td>\n",
       "      <td>2021-12-20</td>\n",
       "    </tr>\n",
       "    <tr>\n",
       "      <th>22</th>\n",
       "      <td>Dataprep e \"juntar tudo\" (parte 3)</td>\n",
       "      <td>2021-12-27</td>\n",
       "    </tr>\n",
       "    <tr>\n",
       "      <th>23</th>\n",
       "      <td>Dataprep e \"juntar tudo\" (parte 4)</td>\n",
       "      <td>2022-01-03</td>\n",
       "    </tr>\n",
       "    <tr>\n",
       "      <th>24</th>\n",
       "      <td>Dataprep e \"juntar tudo\" (parte 5)</td>\n",
       "      <td>2022-01-10</td>\n",
       "    </tr>\n",
       "  </tbody>\n",
       "</table>\n",
       "</div>"
      ],
      "text/plain": [
       "                                module       data\n",
       "20  Dataprep e \"juntar tudo\" (parte 1) 2021-12-13\n",
       "21  Dataprep e \"juntar tudo\" (parte 2) 2021-12-20\n",
       "22  Dataprep e \"juntar tudo\" (parte 3) 2021-12-27\n",
       "23  Dataprep e \"juntar tudo\" (parte 4) 2022-01-03\n",
       "24  Dataprep e \"juntar tudo\" (parte 5) 2022-01-10"
      ]
     },
     "execution_count": 3,
     "metadata": {},
     "output_type": "execute_result"
    }
   ],
   "source": [
    "df.tail()"
   ]
  },
  {
   "cell_type": "code",
   "execution_count": 4,
   "metadata": {},
   "outputs": [
    {
     "data": {
      "text/plain": [
       "'Classificação (parte 2)'"
      ]
     },
     "execution_count": 4,
     "metadata": {},
     "output_type": "execute_result"
    }
   ],
   "source": [
    "# =-=-=-=-=-=-=-=-=-=-=-=-=-=-=-=-=-=-=-=-=\n",
    "# RETORNA UM VALOR ESPECÍFICO DO DATA FRAME\n",
    "# by geanclm in 19/08/2021\n",
    "# =-=-=-=-=-=-=-=-=-=-=-=-=-=-=-=-=-=-=-=-=\n",
    "# df.loc[df.data=='2022-01-10']\n",
    "# df.groupby(['data','module']).sum()\n",
    "# df.loc[df.data=='2021-08-09'].iloc[2].module\n",
    "# df.loc[df.data=='2021-08-23']\n",
    "# df.iloc[4].module\n",
    "# df.loc[df.data=='2021-08-23'].module\n",
    "# df.loc[[0]]\n",
    "# df.iloc[0]\n",
    "# df['module'][4]\n",
    "# df.loc[4]['module']\n",
    "df.iloc[5][0]"
   ]
  },
  {
   "cell_type": "markdown",
   "metadata": {},
   "source": [
    "<center style=\"font-size:18pt; background-color:greenyellow\">\n",
    "    <br/>Insights [sugestão de melhorias] by geanclm<br/>&nbsp;</center>"
   ]
  },
  {
   "cell_type": "markdown",
   "metadata": {},
   "source": [
    "- <b>DICAS DE OURO</b>\n",
    "    - mapa conceitual machine learning\n",
    "    - newssletter\n",
    "    - pequeno projeto a cada módulo\n",
    "    - dica py (super dica de python)\n",
    "    - dica mat (super dica de matemática)\n",
    "    - dica lib (super dica de biblioteca ML)\n",
    "    - dica dc (mão na massa com data science)\n",
    "    - dica IA"
   ]
  },
  {
   "cell_type": "markdown",
   "metadata": {},
   "source": [
    "-  <b>PLANNER CIENTISTA DE DADOS</b>\n",
    "    - entendimento do que se precisa saber\n",
    "    - coleta dos dados necessários\n",
    "    - tratamento dos dados  "
   ]
  },
  {
   "cell_type": "markdown",
   "metadata": {},
   "source": [
    "- <b>REQUISITOS</b>\n",
    " - python\n",
    " - matemática e estastística\n",
    " - compreender a regra de negócio\n",
    " - definir área (financeiro, saúde, varejo, web, esporte, política)\n",
    " - machine learning (classificação, regressão, agrupamento)\n",
    " - inglês"
   ]
  },
  {
   "cell_type": "code",
   "execution_count": 18,
   "metadata": {},
   "outputs": [
    {
     "name": "stdout",
     "output_type": "stream",
     "text": [
      "A toda equipe\n",
      "Rafinha dos dados\n",
      "desejo um super 4S\n",
      "['saúde', 'segurança', 'sorte', 'sucesso']\n",
      "com a dose na medida ideal de 5P\n",
      "['planejamento', 'paciência', 'persistência', 'profissionalismo', 'prosperidade', 'propósito']\n"
     ]
    }
   ],
   "source": [
    "# by geanclm in 26/08/2021 in 14:30h\n",
    "# acesso restabelecido na plataforma com a conta geanclm@yahoo.com\n",
    "# Saudação 4S+5P\n",
    "s = ['saúde','segurança','sorte','sucesso']\n",
    "p = ['planejamento','paciência', 'persistência',\n",
    "     'profissionalismo','prosperidade', 'propósito']\n",
    "print (f'''A toda equipe\n",
    "Rafinha dos dados\n",
    "desejo um super 4S\n",
    "{s}\n",
    "com a dose na medida ideal de 5P\n",
    "{p}''')"
   ]
  },
  {
   "cell_type": "markdown",
   "metadata": {},
   "source": [
    "<center style=\"font-size:18pt; background-color:#0f79b6\">\n",
    "    <br/>\n",
    "        <b style=\"color: #ffffff\">\n",
    "            Programação Python e Jupyter\n",
    "        </b>\n",
    "    <br/>&nbsp;\n",
    "</center>"
   ]
  },
  {
   "cell_type": "markdown",
   "metadata": {},
   "source": [
    "### Como instalar o Anaconda Python\n",
    "\n",
    "[Anaconda](https://www.anaconda.com/)"
   ]
  },
  {
   "cell_type": "code",
   "execution_count": 2,
   "metadata": {},
   "outputs": [],
   "source": [
    "# Na entrega dos modelos é trabalhado o script python"
   ]
  },
  {
   "cell_type": "markdown",
   "metadata": {},
   "source": [
    "### Como usar o Google Colab\n",
    "[Google Colaboratory](https://colab.research.google.com/?utm_source=scs-index)"
   ]
  },
  {
   "cell_type": "markdown",
   "metadata": {},
   "source": [
    "### Variáveis"
   ]
  },
  {
   "cell_type": "code",
   "execution_count": 27,
   "metadata": {},
   "outputs": [
    {
     "data": {
      "text/plain": [
       "[1, 2, 3, 4, 5, 6, 7, 8, 9]"
      ]
     },
     "execution_count": 27,
     "metadata": {},
     "output_type": "execute_result"
    }
   ],
   "source": [
    "seq = list(range(1,10,1))\n",
    "seq"
   ]
  },
  {
   "cell_type": "code",
   "execution_count": 28,
   "metadata": {},
   "outputs": [],
   "source": [
    "texto = 'Learning'"
   ]
  },
  {
   "cell_type": "code",
   "execution_count": 29,
   "metadata": {},
   "outputs": [
    {
     "data": {
      "text/plain": [
       "['L', 'e', 'a', 'r', 'n', 'i', 'n', 'g']"
      ]
     },
     "execution_count": 29,
     "metadata": {},
     "output_type": "execute_result"
    }
   ],
   "source": [
    "list(texto)"
   ]
  },
  {
   "cell_type": "code",
   "execution_count": 13,
   "metadata": {},
   "outputs": [
    {
     "data": {
      "text/plain": [
       "'gninraeL enihcaM'"
      ]
     },
     "execution_count": 13,
     "metadata": {},
     "output_type": "execute_result"
    }
   ],
   "source": [
    "texto[::-1]"
   ]
  },
  {
   "cell_type": "code",
   "execution_count": 24,
   "metadata": {},
   "outputs": [
    {
     "data": {
      "text/plain": [
       "'McieLann'"
      ]
     },
     "execution_count": 24,
     "metadata": {},
     "output_type": "execute_result"
    }
   ],
   "source": [
    "texto[::2]"
   ]
  },
  {
   "cell_type": "code",
   "execution_count": 3,
   "metadata": {},
   "outputs": [
    {
     "data": {
      "text/html": [
       "<div>\n",
       "<style scoped>\n",
       "    .dataframe tbody tr th:only-of-type {\n",
       "        vertical-align: middle;\n",
       "    }\n",
       "\n",
       "    .dataframe tbody tr th {\n",
       "        vertical-align: top;\n",
       "    }\n",
       "\n",
       "    .dataframe thead th {\n",
       "        text-align: right;\n",
       "    }\n",
       "</style>\n",
       "<table border=\"1\" class=\"dataframe\">\n",
       "  <thead>\n",
       "    <tr style=\"text-align: right;\">\n",
       "      <th></th>\n",
       "      <th>nome</th>\n",
       "      <th>var</th>\n",
       "      <th>logic</th>\n",
       "      <th>valor</th>\n",
       "      <th>x</th>\n",
       "      <th>y</th>\n",
       "      <th>z</th>\n",
       "      <th>w</th>\n",
       "    </tr>\n",
       "  </thead>\n",
       "  <tbody>\n",
       "    <tr>\n",
       "      <th>0</th>\n",
       "      <td>gean</td>\n",
       "      <td>78.25</td>\n",
       "      <td>True</td>\n",
       "      <td>None</td>\n",
       "      <td>1</td>\n",
       "      <td>2</td>\n",
       "      <td>3</td>\n",
       "      <td>14</td>\n",
       "    </tr>\n",
       "    <tr>\n",
       "      <th>1</th>\n",
       "      <td>carlos</td>\n",
       "      <td>75.23</td>\n",
       "      <td>True</td>\n",
       "      <td>None</td>\n",
       "      <td>1</td>\n",
       "      <td>2</td>\n",
       "      <td>3</td>\n",
       "      <td>14</td>\n",
       "    </tr>\n",
       "    <tr>\n",
       "      <th>2</th>\n",
       "      <td>&lt;class 'list'&gt;</td>\n",
       "      <td>&lt;class 'list'&gt;</td>\n",
       "      <td>&lt;class 'bool'&gt;</td>\n",
       "      <td>&lt;class 'NoneType'&gt;</td>\n",
       "      <td>&lt;class 'int'&gt;</td>\n",
       "      <td>&lt;class 'int'&gt;</td>\n",
       "      <td>&lt;class 'int'&gt;</td>\n",
       "      <td>&lt;class 'int'&gt;</td>\n",
       "    </tr>\n",
       "  </tbody>\n",
       "</table>\n",
       "</div>"
      ],
      "text/plain": [
       "             nome             var           logic               valor  \\\n",
       "0            gean           78.25            True                None   \n",
       "1          carlos           75.23            True                None   \n",
       "2  <class 'list'>  <class 'list'>  <class 'bool'>  <class 'NoneType'>   \n",
       "\n",
       "               x              y              z              w  \n",
       "0              1              2              3             14  \n",
       "1              1              2              3             14  \n",
       "2  <class 'int'>  <class 'int'>  <class 'int'>  <class 'int'>  "
      ]
     },
     "execution_count": 3,
     "metadata": {},
     "output_type": "execute_result"
    }
   ],
   "source": [
    "nome = ['gean','carlos']\n",
    "var = [78.25,75.23]\n",
    "logic = True\n",
    "x,y,z = 1,2,3\n",
    "valor = None\n",
    "w = (x**2)+(y**2)+(z**2)\n",
    "\n",
    "df = pd.DataFrame({'nome':[nome[0],nome[1],type(nome)],\n",
    "                   'var':[var[0],var[1],type(var)],\n",
    "                   'logic':[logic,logic,type(logic)],\n",
    "                   'valor':[valor,valor,type(valor)],\n",
    "                   'x':[x,x,type(x)], 'y':[y,y,type(y)],\n",
    "                   'z':[z,z,type(z)], 'w':[w,w,type(w)]},\n",
    "                 index = None)\n",
    "df"
   ]
  },
  {
   "cell_type": "code",
   "execution_count": 22,
   "metadata": {},
   "outputs": [
    {
     "data": {
      "text/plain": [
       "2"
      ]
     },
     "execution_count": 22,
     "metadata": {},
     "output_type": "execute_result"
    }
   ],
   "source": [
    "df.loc[0]['y']"
   ]
  },
  {
   "cell_type": "markdown",
   "metadata": {},
   "source": [
    "### Condicionais"
   ]
  },
  {
   "cell_type": "code",
   "execution_count": 4,
   "metadata": {},
   "outputs": [
    {
     "name": "stdout",
     "output_type": "stream",
     "text": [
      "1\n"
     ]
    }
   ],
   "source": [
    "if True:\n",
    "    print(1)\n",
    "else:\n",
    "    print(0)"
   ]
  },
  {
   "cell_type": "markdown",
   "metadata": {},
   "source": [
    "### Tabela verdade E"
   ]
  },
  {
   "cell_type": "code",
   "execution_count": 16,
   "metadata": {},
   "outputs": [
    {
     "name": "stdout",
     "output_type": "stream",
     "text": [
      "True\n",
      "False\n",
      "False\n",
      "False\n"
     ]
    }
   ],
   "source": [
    "print (True & True)\n",
    "print (True and False)\n",
    "print (False & True)\n",
    "print (False and False)"
   ]
  },
  {
   "cell_type": "markdown",
   "metadata": {},
   "source": [
    "### Tabela verdade OU"
   ]
  },
  {
   "cell_type": "code",
   "execution_count": 5,
   "metadata": {},
   "outputs": [
    {
     "name": "stdout",
     "output_type": "stream",
     "text": [
      "True\n",
      "True\n",
      "True\n",
      "False\n"
     ]
    }
   ],
   "source": [
    "print (True | True)\n",
    "print (True or False)\n",
    "print (False | True)\n",
    "print (False or False)"
   ]
  },
  {
   "cell_type": "code",
   "execution_count": 14,
   "metadata": {},
   "outputs": [
    {
     "data": {
      "text/plain": [
       "13200.0"
      ]
     },
     "execution_count": 14,
     "metadata": {},
     "output_type": "execute_result"
    }
   ],
   "source": [
    "idade = 51\n",
    "vencimento = 12_000\n",
    "if (idade>=50) & (vencimento<10000):\n",
    "    vencimento = vencimento*1.2\n",
    "elif (idade>=50) &(vencimento<=15000):\n",
    "    vencimento = vencimento*1.1\n",
    "else:\n",
    "    vencimento = vencimento*1.5\n",
    "# print(f'{vencimento:.2f}')\n",
    "round(vencimento,2)"
   ]
  },
  {
   "cell_type": "markdown",
   "metadata": {},
   "source": [
    "### Teste de mesa\n",
    "#### Calcular manualmente em papel e caneta quando a expressão ficar muito complexa"
   ]
  },
  {
   "cell_type": "markdown",
   "metadata": {},
   "source": [
    "### LISTA"
   ]
  },
  {
   "cell_type": "code",
   "execution_count": 1,
   "metadata": {},
   "outputs": [],
   "source": [
    "idade = [28,35,50,45,48,50]"
   ]
  },
  {
   "cell_type": "code",
   "execution_count": 2,
   "metadata": {},
   "outputs": [
    {
     "data": {
      "text/plain": [
       "[50, 45, 48, 50]"
      ]
     },
     "execution_count": 2,
     "metadata": {},
     "output_type": "execute_result"
    }
   ],
   "source": [
    "idade[2:]"
   ]
  },
  {
   "cell_type": "code",
   "execution_count": 17,
   "metadata": {},
   "outputs": [
    {
     "data": {
      "text/plain": [
       "(28, 50, [45, 48, 50], [28, 35, 50])"
      ]
     },
     "execution_count": 17,
     "metadata": {},
     "output_type": "execute_result"
    }
   ],
   "source": [
    "idade[0], idade[-1], idade[-3:], idade[:3]"
   ]
  },
  {
   "cell_type": "code",
   "execution_count": 9,
   "metadata": {},
   "outputs": [],
   "source": [
    "idade.append(18)"
   ]
  },
  {
   "cell_type": "code",
   "execution_count": 10,
   "metadata": {},
   "outputs": [
    {
     "data": {
      "text/plain": [
       "[28, 35, 50, 45, 48, 50, 18, 18, 18]"
      ]
     },
     "execution_count": 10,
     "metadata": {},
     "output_type": "execute_result"
    }
   ],
   "source": [
    "idade"
   ]
  },
  {
   "cell_type": "code",
   "execution_count": 11,
   "metadata": {},
   "outputs": [
    {
     "data": {
      "text/plain": [
       "18"
      ]
     },
     "execution_count": 11,
     "metadata": {},
     "output_type": "execute_result"
    }
   ],
   "source": [
    "idade.pop(-1)"
   ]
  },
  {
   "cell_type": "code",
   "execution_count": 12,
   "metadata": {},
   "outputs": [
    {
     "data": {
      "text/plain": [
       "[28, 35, 50, 45, 48, 50, 18, 18]"
      ]
     },
     "execution_count": 12,
     "metadata": {},
     "output_type": "execute_result"
    }
   ],
   "source": [
    "idade"
   ]
  },
  {
   "cell_type": "code",
   "execution_count": 3,
   "metadata": {},
   "outputs": [
    {
     "data": {
      "text/plain": [
       "6"
      ]
     },
     "execution_count": 3,
     "metadata": {},
     "output_type": "execute_result"
    }
   ],
   "source": [
    "len(idade)"
   ]
  },
  {
   "cell_type": "markdown",
   "metadata": {},
   "source": [
    "### DICIONÁRIO"
   ]
  },
  {
   "cell_type": "code",
   "execution_count": 2,
   "metadata": {},
   "outputs": [],
   "source": [
    "dic = {\n",
    "    'nome':'Gean',\n",
    "    'idade':2,\n",
    "    'profissão':'policial civil',\n",
    "    'cargo':'perito oficial criminal',\n",
    "    'área':'teconologia da informação' \n",
    "    }"
   ]
  },
  {
   "cell_type": "code",
   "execution_count": 3,
   "metadata": {},
   "outputs": [
    {
     "data": {
      "text/plain": [
       "{'nome': 'Gean',\n",
       " 'idade': 2,\n",
       " 'profissão': 'policial civil',\n",
       " 'cargo': 'perito oficial criminal',\n",
       " 'área': 'teconologia da informação'}"
      ]
     },
     "execution_count": 3,
     "metadata": {},
     "output_type": "execute_result"
    }
   ],
   "source": [
    "dic"
   ]
  },
  {
   "cell_type": "code",
   "execution_count": 8,
   "metadata": {},
   "outputs": [
    {
     "data": {
      "text/plain": [
       "dict_keys(['nome', 'idade', 'profissão', 'cargo', 'área'])"
      ]
     },
     "execution_count": 8,
     "metadata": {},
     "output_type": "execute_result"
    }
   ],
   "source": [
    "dic.keys()"
   ]
  },
  {
   "cell_type": "code",
   "execution_count": 9,
   "metadata": {},
   "outputs": [
    {
     "data": {
      "text/plain": [
       "dict_values(['Gean', 2, 'policial civil', 'perito oficial criminal', 'teconologia da informação'])"
      ]
     },
     "execution_count": 9,
     "metadata": {},
     "output_type": "execute_result"
    }
   ],
   "source": [
    "dic.values()"
   ]
  },
  {
   "cell_type": "code",
   "execution_count": 10,
   "metadata": {},
   "outputs": [
    {
     "data": {
      "text/plain": [
       "{'n': None, 'o': None, 'm': None, 'e': None}"
      ]
     },
     "execution_count": 10,
     "metadata": {},
     "output_type": "execute_result"
    }
   ],
   "source": [
    "dic.fromkeys('nome')"
   ]
  },
  {
   "cell_type": "code",
   "execution_count": 224,
   "metadata": {},
   "outputs": [
    {
     "data": {
      "text/plain": [
       "('Gean', 46)"
      ]
     },
     "execution_count": 224,
     "metadata": {},
     "output_type": "execute_result"
    }
   ],
   "source": [
    "data['nome'], data['idade']"
   ]
  },
  {
   "cell_type": "code",
   "execution_count": 222,
   "metadata": {},
   "outputs": [
    {
     "name": "stdout",
     "output_type": "stream",
     "text": [
      "True\n"
     ]
    }
   ],
   "source": [
    "print('nome' in data)"
   ]
  },
  {
   "cell_type": "markdown",
   "metadata": {},
   "source": [
    "### WHILE"
   ]
  },
  {
   "cell_type": "code",
   "execution_count": 15,
   "metadata": {},
   "outputs": [],
   "source": [
    "orig = 3000\n",
    "pag = 3000"
   ]
  },
  {
   "cell_type": "code",
   "execution_count": 16,
   "metadata": {},
   "outputs": [
    {
     "name": "stdout",
     "output_type": "stream",
     "text": [
      "3030.00\n",
      "3060.30\n",
      "3090.90\n",
      "3121.81\n",
      "3153.03\n",
      "3184.56\n",
      "3216.41\n",
      "3248.57\n",
      "3281.06\n",
      "3313.87\n"
     ]
    }
   ],
   "source": [
    "while pag<3300:\n",
    "    pag = pag*1.01\n",
    "    print (f'{pag:.2f}')"
   ]
  },
  {
   "cell_type": "code",
   "execution_count": 18,
   "metadata": {},
   "outputs": [
    {
     "name": "stdout",
     "output_type": "stream",
     "text": [
      "diferença do aumento = R$313.87\n"
     ]
    }
   ],
   "source": [
    "print (f'''diferença do aumento = R${(pag-orig):.2f}''')"
   ]
  },
  {
   "cell_type": "markdown",
   "metadata": {},
   "source": [
    "### LOOP FOR"
   ]
  },
  {
   "cell_type": "code",
   "execution_count": 30,
   "metadata": {},
   "outputs": [],
   "source": [
    "import numpy as np\n",
    "from random import sample"
   ]
  },
  {
   "cell_type": "code",
   "execution_count": 31,
   "metadata": {},
   "outputs": [],
   "source": [
    "listas = sorted(sample(range(1, 10),9)) # lista com o range\n",
    "listan = np.arange(1,10,1) # lista com o numpy\n",
    "lista = [11,22,33,44,55,66,77,88,99] # lista padrão do python\n",
    "lista1 = [11,22,33,44,55,66,77,88,99]\n",
    "lista2 = [1111,2222,3333,4444,5555,6666,7777,8888,9999]"
   ]
  },
  {
   "cell_type": "code",
   "execution_count": 32,
   "metadata": {},
   "outputs": [
    {
     "name": "stdout",
     "output_type": "stream",
     "text": [
      "0 11\n",
      "1 22\n",
      "2 33\n",
      "3 44\n",
      "4 55\n",
      "5 66\n",
      "6 77\n",
      "7 88\n",
      "8 99\n"
     ]
    }
   ],
   "source": [
    "for i,lista in enumerate (lista):\n",
    "    print (i, lista)"
   ]
  },
  {
   "cell_type": "code",
   "execution_count": 36,
   "metadata": {},
   "outputs": [
    {
     "name": "stdout",
     "output_type": "stream",
     "text": [
      "11 1111\n",
      "22 2222\n",
      "33 3333\n",
      "44 4444\n",
      "55 5555\n",
      "66 6666\n",
      "77 7777\n",
      "88 8888\n",
      "99 9999\n"
     ]
    }
   ],
   "source": [
    "for i1,i2 in zip(lista1,lista2):\n",
    "    print (i1,i2)"
   ]
  },
  {
   "cell_type": "code",
   "execution_count": 38,
   "metadata": {},
   "outputs": [
    {
     "name": "stdout",
     "output_type": "stream",
     "text": [
      "0 11\n",
      "2 33\n",
      "4 55\n",
      "6 77\n",
      "8 99\n"
     ]
    }
   ],
   "source": [
    "# list comprehension python\n",
    "# [print(i) for i in lista1 if i%2==0];\n",
    "[print(i,lista) for i,lista in enumerate (lista1) if i%2==0];"
   ]
  },
  {
   "cell_type": "markdown",
   "metadata": {},
   "source": [
    "### FUNÇÕES"
   ]
  },
  {
   "cell_type": "code",
   "execution_count": 46,
   "metadata": {},
   "outputs": [],
   "source": [
    "# função com docstring\n",
    "def aumentaSalario (idade, salario):\n",
    "    \"\"\"\n",
    "    -> Faz o cálculo salarial com base na idade e mostra o resultado na tela\n",
    "    param idade: valor inteiro da idade [ex: 31]\n",
    "    param salario: valor real do salário atual [ex: 2550]\n",
    "    return: retorna o valor final do salário [saída automatica do resultado]\n",
    "    by geanclm in 23/06/2022 16:23h\n",
    "    \"\"\"\n",
    "    if (idade>40) & (salario<7000):\n",
    "        return salario*1.1\n",
    "    else:\n",
    "        return salario"
   ]
  },
  {
   "cell_type": "code",
   "execution_count": 44,
   "metadata": {},
   "outputs": [
    {
     "data": {
      "text/plain": [
       "2750.0"
      ]
     },
     "execution_count": 44,
     "metadata": {},
     "output_type": "execute_result"
    }
   ],
   "source": [
    "aumentaSalario(42,2500)"
   ]
  },
  {
   "cell_type": "code",
   "execution_count": 45,
   "metadata": {},
   "outputs": [
    {
     "name": "stdout",
     "output_type": "stream",
     "text": [
      "Help on function aumentaSalario in module __main__:\n",
      "\n",
      "aumentaSalario(idade, salario)\n",
      "    -> Faz o cálculo salarial com base na idade e mostra o resultado na tela\n",
      "    param idade: valor inteiro da idade [ex: 31]\n",
      "    param salario: valor real do salário atual [ex: 2550]\n",
      "    return: retorna o valor final do salário [saída automatica do resultado]\n",
      "    by geanclm in 15/04/2022 at 11:22h\n",
      "\n"
     ]
    }
   ],
   "source": [
    "help (aumentaSalario)"
   ]
  },
  {
   "cell_type": "markdown",
   "metadata": {},
   "source": [
    "### BIBLIOTECAS"
   ]
  },
  {
   "cell_type": "code",
   "execution_count": 82,
   "metadata": {},
   "outputs": [],
   "source": [
    "from math import pi"
   ]
  },
  {
   "cell_type": "code",
   "execution_count": 83,
   "metadata": {},
   "outputs": [
    {
     "name": "stdout",
     "output_type": "stream",
     "text": [
      "3.141592653589793\n"
     ]
    }
   ],
   "source": [
    "print(pi)"
   ]
  },
  {
   "cell_type": "markdown",
   "metadata": {},
   "source": [
    "<a name=\"numpy\"></a>\n",
    "<center style=\"font-size:18pt; background-color:#c9d976\">\n",
    "    <br/>\n",
    "        <b style=\"color: #033409\">\n",
    "            Numpy\n",
    "        </b>\n",
    "    <br/>&nbsp;\n",
    "</center>"
   ]
  },
  {
   "cell_type": "code",
   "execution_count": 5,
   "metadata": {},
   "outputs": [],
   "source": [
    "# Estudo de estatística com Numpy + matplotlib + pandas"
   ]
  },
  {
   "cell_type": "markdown",
   "metadata": {},
   "source": [
    "## Import libs"
   ]
  },
  {
   "cell_type": "code",
   "execution_count": 6,
   "metadata": {},
   "outputs": [],
   "source": [
    "import matplotlib.pyplot as plt\n",
    "import numpy as np\n",
    "from numpy.random import default_rng\n",
    "import pandas as pd"
   ]
  },
  {
   "cell_type": "code",
   "execution_count": 7,
   "metadata": {},
   "outputs": [
    {
     "data": {
      "text/plain": [
       "<module 'numpy' from 'C:\\\\Users\\\\geanc\\\\anaconda3\\\\lib\\\\site-packages\\\\numpy\\\\__init__.py'>"
      ]
     },
     "execution_count": 7,
     "metadata": {},
     "output_type": "execute_result"
    }
   ],
   "source": [
    "np"
   ]
  },
  {
   "cell_type": "code",
   "execution_count": 18,
   "metadata": {},
   "outputs": [
    {
     "data": {
      "text/plain": [
       "array([12, 11, 10,  9,  8,  7,  6,  5,  4,  3,  2,  1])"
      ]
     },
     "execution_count": 18,
     "metadata": {},
     "output_type": "execute_result"
    }
   ],
   "source": [
    "arange = np.arange(12,0,-1)\n",
    "arange"
   ]
  },
  {
   "cell_type": "code",
   "execution_count": 19,
   "metadata": {},
   "outputs": [
    {
     "name": "stdout",
     "output_type": "stream",
     "text": [
      "12 11 10 9 8 7 6 5 4 3 2 1 "
     ]
    }
   ],
   "source": [
    "for i in range(12,0,-1):\n",
    "    print (i, end=' ')"
   ]
  },
  {
   "cell_type": "code",
   "execution_count": 4,
   "metadata": {},
   "outputs": [
    {
     "name": "stdout",
     "output_type": "stream",
     "text": [
      "-----------------------------\n",
      "--| RELATÓRIO ESTATÍSTICO |--\n",
      "-----------------------------\n",
      "amostra: [19 60 45  5 28 11  6 14 57  4]\n",
      "-----------------------------\n",
      "tamanho da amostra: 10 \n",
      "-----------------------------\n",
      "frequência de cada número: {4: 1, 5: 1, 6: 1, 11: 1, 14: 1, 19: 1, 28: 1, 45: 1, 57: 1, 60: 1}\n",
      "-----------------------------\n",
      "valor máx: 60\n",
      "valor mín: 4\n",
      "amplitude: 56\n",
      "média: 24.90\n",
      "mediana: 16.50\n",
      "quartil 1: 8.50\n",
      "quartil 2: 16.50\n",
      "quartil 3: 36.50\n",
      "variância amostral: 468.10\n",
      "variância populacional: 421.29\n",
      "desvio padrão amostral: 21.64\n",
      "desvio padrão populacional: 20.53\n",
      "coeficiente de variação com base no desvio padrão amostral = 86.89%\n"
     ]
    }
   ],
   "source": [
    "# by geanclm in 04/06/2022 at 16:34h\n",
    "# - - -\n",
    "# Cálculo manual da variância\n",
    "# https://www.youtube.com/watch?v=JEwd0Vlqapo\n",
    "# https://youtu.be/pKwL379DdCg\n",
    "# - - -\n",
    "\n",
    "# ---\n",
    "# gerando a amostra com o numpy\n",
    "# a = np.array([9,10,10,22,20,6,9,22,15,17,2,36,9,12,4,22,34,28,40,15])\n",
    "a = np.random.randint(1,61,size=(10))\n",
    "# ---\n",
    "\n",
    "m = a.mean() # cálculo da média\n",
    "# m = np.average(a)\n",
    "\n",
    "me = np.median(a) # cálculo da mediana com método do numpy\n",
    "\n",
    "# cálculo dos quartis da amostra\n",
    "q1 = np.quantile(a,.25, interpolation='midpoint')\n",
    "q2 = np.quantile(a,.5, interpolation='midpoint')\n",
    "q3 = np.quantile(a,.75, interpolation='midpoint')\n",
    "\n",
    "soma = 0\n",
    "for i in range(0,len(a)):\n",
    "    soma += ((np.abs(a[i]-a.mean()))**2)    \n",
    "    \n",
    "va = soma/(len(a)-1) # variância amostral\n",
    "\n",
    "vp = soma/len(a) # variância populacional\n",
    "# a.var() # Cálculo da variância populacional utilizando o método\n",
    "\n",
    "dpa = va**0.5 # cálculo manual do desvio padrão amostral\n",
    "\n",
    "dpp = vp**0.5 # cálculo manual do desvio padrão populacional\n",
    "# a.std() # cálculo do desvio padrão populacional com o método\n",
    "\n",
    "cv = ((dpa/a.mean())*100) # coeficiente de variação = (desvio padrão / média) * 100\n",
    "\n",
    "\n",
    "# CÁLCULO DA FREQUÊNCIA DE CADA NÚMERO NA AMOSTRA\n",
    "# verificando a frequência de cada elemento na array\n",
    "# by geanclm in 02/07/2022 at 19:06h\n",
    "# np.unique(a, return_counts=True)\n",
    "unique, counts = np.unique(a, return_counts=True)\n",
    "# freq = np.column_stack((unique, counts))\n",
    "# np.sort(freq, axis=1)\n",
    "# for u,c in zip(unique,counts):\n",
    "#     print(u,c)\n",
    "freq = dict(zip(unique,counts))\n",
    "f = {}\n",
    "for i in sorted(freq, key = freq.get, reverse=True):\n",
    "    f[i]=freq[i]\n",
    "    \n",
    "\n",
    "texto ='--| RELATÓRIO ESTATÍSTICO |--'\n",
    "print ('-'*len(texto))\n",
    "print (texto)\n",
    "print ('-'*len(texto))\n",
    "print (f'amostra: {a}')\n",
    "print ('-'*len(texto))\n",
    "print (f'tamanho da amostra: {np.size(a)} ')\n",
    "print ('-'*len(texto))\n",
    "print (f'frequência de cada número: {f}')\n",
    "print ('-'*len(texto))\n",
    "print (f'valor máx: {a.max()}')\n",
    "print (f'valor mín: {a.min()}')\n",
    "print (f'amplitude: {a.max()-a.min()}')\n",
    "print (f'média: {m:.2f}')\n",
    "print (f'mediana: {me:.2f}')\n",
    "\n",
    "print (f'quartil 1: {q1:.2f}')\n",
    "print (f'quartil 2: {q2:.2f}')\n",
    "print (f'quartil 3: {q3:.2f}')\n",
    "\n",
    "print (f'variância amostral: {va:.2f}')\n",
    "print (f'variância populacional: {vp:.2f}')\n",
    "\n",
    "print (f'desvio padrão amostral: {dpa:.2f}')\n",
    "print (f'desvio padrão populacional: {dpp:.2f}')\n",
    "\n",
    "print (f'coeficiente de variação com base no desvio padrão amostral = {cv:.2f}%')"
   ]
  },
  {
   "cell_type": "markdown",
   "metadata": {},
   "source": [
    "## Analisando os dados no pandas"
   ]
  },
  {
   "cell_type": "code",
   "execution_count": 5,
   "metadata": {},
   "outputs": [],
   "source": [
    "df = pd.DataFrame({'valor':f.keys(),\n",
    "                    'freq':f.values()})"
   ]
  },
  {
   "cell_type": "code",
   "execution_count": 6,
   "metadata": {},
   "outputs": [
    {
     "data": {
      "text/html": [
       "<div>\n",
       "<style scoped>\n",
       "    .dataframe tbody tr th:only-of-type {\n",
       "        vertical-align: middle;\n",
       "    }\n",
       "\n",
       "    .dataframe tbody tr th {\n",
       "        vertical-align: top;\n",
       "    }\n",
       "\n",
       "    .dataframe thead th {\n",
       "        text-align: right;\n",
       "    }\n",
       "</style>\n",
       "<table border=\"1\" class=\"dataframe\">\n",
       "  <thead>\n",
       "    <tr style=\"text-align: right;\">\n",
       "      <th></th>\n",
       "      <th>valor</th>\n",
       "      <th>freq</th>\n",
       "    </tr>\n",
       "  </thead>\n",
       "  <tbody>\n",
       "    <tr>\n",
       "      <th>count</th>\n",
       "      <td>10.000000</td>\n",
       "      <td>10.0</td>\n",
       "    </tr>\n",
       "    <tr>\n",
       "      <th>mean</th>\n",
       "      <td>24.900000</td>\n",
       "      <td>1.0</td>\n",
       "    </tr>\n",
       "    <tr>\n",
       "      <th>std</th>\n",
       "      <td>21.635619</td>\n",
       "      <td>0.0</td>\n",
       "    </tr>\n",
       "    <tr>\n",
       "      <th>min</th>\n",
       "      <td>4.000000</td>\n",
       "      <td>1.0</td>\n",
       "    </tr>\n",
       "    <tr>\n",
       "      <th>25%</th>\n",
       "      <td>7.250000</td>\n",
       "      <td>1.0</td>\n",
       "    </tr>\n",
       "    <tr>\n",
       "      <th>50%</th>\n",
       "      <td>16.500000</td>\n",
       "      <td>1.0</td>\n",
       "    </tr>\n",
       "    <tr>\n",
       "      <th>75%</th>\n",
       "      <td>40.750000</td>\n",
       "      <td>1.0</td>\n",
       "    </tr>\n",
       "    <tr>\n",
       "      <th>max</th>\n",
       "      <td>60.000000</td>\n",
       "      <td>1.0</td>\n",
       "    </tr>\n",
       "  </tbody>\n",
       "</table>\n",
       "</div>"
      ],
      "text/plain": [
       "           valor  freq\n",
       "count  10.000000  10.0\n",
       "mean   24.900000   1.0\n",
       "std    21.635619   0.0\n",
       "min     4.000000   1.0\n",
       "25%     7.250000   1.0\n",
       "50%    16.500000   1.0\n",
       "75%    40.750000   1.0\n",
       "max    60.000000   1.0"
      ]
     },
     "execution_count": 6,
     "metadata": {},
     "output_type": "execute_result"
    }
   ],
   "source": [
    "df.describe()"
   ]
  },
  {
   "cell_type": "markdown",
   "metadata": {},
   "source": [
    "## Analisando os dados no matplotlib"
   ]
  },
  {
   "cell_type": "code",
   "execution_count": 9,
   "metadata": {},
   "outputs": [
    {
     "data": {
      "image/png": "[encoded data removed]",
      "text/plain": [
       "<Figure size 1080x360 with 1 Axes>"
      ]
     },
     "metadata": {
      "needs_background": "light"
     },
     "output_type": "display_data"
    }
   ],
   "source": [
    "plt.figure(figsize=(15,5))\n",
    "plt.bar(f.keys(),f.values(), edgecolor='black', label=\"ocorrências\", color='g', alpha=.3, width=.8)\n",
    "\n",
    "for i, j in enumerate(f):\n",
    "    plt.text(j, 0.05, f'{j}', ha='center')\n",
    "    \n",
    "plt.grid()\n",
    "plt.xlim(left=0)\n",
    "plt.ylim(bottom=0)\n",
    "plt.title(f'frequência dos elementros da amostra')\n",
    "plt.ylabel('FREQUÊNCIA')\n",
    "plt.xlabel('VALORES',)\n",
    "plt.legend();"
   ]
  },
  {
   "cell_type": "code",
   "execution_count": 56,
   "metadata": {},
   "outputs": [
    {
     "data": {
      "text/plain": [
       "dict_keys([6, 10, 26, 27, 35, 37, 40, 41, 46, 51])"
      ]
     },
     "execution_count": 56,
     "metadata": {},
     "output_type": "execute_result"
    }
   ],
   "source": [
    "f.keys()"
   ]
  },
  {
   "cell_type": "code",
   "execution_count": 57,
   "metadata": {},
   "outputs": [
    {
     "data": {
      "text/plain": [
       "dict_values([1, 1, 1, 1, 1, 1, 1, 1, 1, 1])"
      ]
     },
     "execution_count": 57,
     "metadata": {},
     "output_type": "execute_result"
    }
   ],
   "source": [
    "f.values()"
   ]
  },
  {
   "cell_type": "code",
   "execution_count": 58,
   "metadata": {},
   "outputs": [
    {
     "name": "stdout",
     "output_type": "stream",
     "text": [
      "1 6\n",
      "1 10\n",
      "1 26\n",
      "1 27\n",
      "1 35\n",
      "1 37\n",
      "1 40\n",
      "1 41\n",
      "1 46\n",
      "1 51\n"
     ]
    }
   ],
   "source": [
    "for i in freq:\n",
    "    print(freq[i],i)"
   ]
  },
  {
   "cell_type": "code",
   "execution_count": 63,
   "metadata": {},
   "outputs": [
    {
     "data": {
      "text/plain": [
       "array([  1,   0,  12,  -2, -14,   3,  13,  -7,   2, -15,  34, -27,   3,\n",
       "        -8,  18,  12,  -6,  12, -25])"
      ]
     },
     "execution_count": 63,
     "metadata": {},
     "output_type": "execute_result"
    }
   ],
   "source": [
    "np.diff(a)"
   ]
  },
  {
   "cell_type": "code",
   "execution_count": 57,
   "metadata": {},
   "outputs": [
    {
     "data": {
      "text/plain": [
       "array([ 2,  4,  6,  9,  9,  9, 10, 10, 12, 15, 15, 17, 20, 22, 22, 22, 28,\n",
       "       34, 36, 40])"
      ]
     },
     "execution_count": 57,
     "metadata": {},
     "output_type": "execute_result"
    }
   ],
   "source": [
    "np.sort(a)"
   ]
  },
  {
   "cell_type": "code",
   "execution_count": 58,
   "metadata": {},
   "outputs": [],
   "source": [
    "from statistics import pstdev"
   ]
  },
  {
   "cell_type": "code",
   "execution_count": 59,
   "metadata": {},
   "outputs": [
    {
     "data": {
      "text/plain": [
       "(342,\n",
       " array([  9,  19,  29,  51,  71,  77,  86, 108, 123, 140, 142, 178, 187,\n",
       "        199, 203, 225, 259, 287, 327, 342], dtype=int32),\n",
       " 10.539924098398432,\n",
       " 10.535653752852738)"
      ]
     },
     "execution_count": 59,
     "metadata": {},
     "output_type": "execute_result"
    }
   ],
   "source": [
    "a.sum(), a.cumsum(), a.std(), pstdev(a)"
   ]
  },
  {
   "cell_type": "code",
   "execution_count": 60,
   "metadata": {},
   "outputs": [
    {
     "data": {
      "text/plain": [
       "(18,\n",
       " array([3.        , 3.16227766, 3.16227766, 4.69041576, 4.47213595,\n",
       "        2.44948974, 3.        , 4.69041576, 3.87298335, 4.12310563,\n",
       "        1.41421356, 6.        , 3.        , 3.46410162, 2.        ,\n",
       "        4.69041576, 5.83095189, 5.29150262, 6.32455532, 3.87298335]),\n",
       " array([ 2,  4,  6,  9, 10, 12, 15, 17, 20, 22, 28, 34, 36, 40]))"
      ]
     },
     "execution_count": 60,
     "metadata": {},
     "output_type": "execute_result"
    }
   ],
   "source": [
    "a.argmax(), np.sqrt(a), np.unique(a)"
   ]
  },
  {
   "cell_type": "code",
   "execution_count": 61,
   "metadata": {},
   "outputs": [
    {
     "data": {
      "text/plain": [
       "array([0, 1, 2, 3, 4, 5, 6, 7, 8, 9])"
      ]
     },
     "execution_count": 61,
     "metadata": {},
     "output_type": "execute_result"
    }
   ],
   "source": [
    "x = np.arange(10)\n",
    "x"
   ]
  },
  {
   "cell_type": "code",
   "execution_count": 13,
   "metadata": {},
   "outputs": [
    {
     "data": {
      "text/plain": [
       "array([ 1,  2,  3,  4,  5,  6,  7,  8,  9, 10, 11, 12, 13, 14, 15, 16, 17,\n",
       "       18, 19, 20, 21, 22, 23, 24, 25, 26, 27, 28, 29, 30, 31, 32, 33, 34,\n",
       "       35, 36, 37, 38, 39, 40, 41, 42, 43, 44, 45, 46, 47, 48, 49, 50, 51,\n",
       "       52, 53, 54, 55, 56, 57, 58, 59, 60])"
      ]
     },
     "execution_count": 13,
     "metadata": {},
     "output_type": "execute_result"
    }
   ],
   "source": [
    "l = np.arange(1,61,1)\n",
    "l"
   ]
  },
  {
   "cell_type": "code",
   "execution_count": 14,
   "metadata": {},
   "outputs": [
    {
     "data": {
      "text/plain": [
       "30.5"
      ]
     },
     "execution_count": 14,
     "metadata": {},
     "output_type": "execute_result"
    }
   ],
   "source": [
    "l.mean()"
   ]
  },
  {
   "cell_type": "code",
   "execution_count": 15,
   "metadata": {},
   "outputs": [
    {
     "data": {
      "text/plain": [
       "1830"
      ]
     },
     "execution_count": 15,
     "metadata": {},
     "output_type": "execute_result"
    }
   ],
   "source": [
    "l.sum()"
   ]
  },
  {
   "cell_type": "code",
   "execution_count": 14,
   "metadata": {},
   "outputs": [
    {
     "data": {
      "text/plain": [
       "array([-1.42094751,  0.15971303, -0.69774563,  0.21448095,  0.99145201,\n",
       "       -1.34939597, -0.41022032, -0.30372447,  0.77133792, -1.00176777])"
      ]
     },
     "execution_count": 14,
     "metadata": {},
     "output_type": "execute_result"
    }
   ],
   "source": [
    "np.random.normal(0, 1, size=(10))"
   ]
  },
  {
   "cell_type": "code",
   "execution_count": 34,
   "metadata": {},
   "outputs": [],
   "source": [
    "# help(np.random.normal)"
   ]
  },
  {
   "cell_type": "code",
   "execution_count": 16,
   "metadata": {},
   "outputs": [
    {
     "data": {
      "text/plain": [
       "array([ 7., 32., 56., 58.,  2., 16.])"
      ]
     },
     "execution_count": 16,
     "metadata": {},
     "output_type": "execute_result"
    }
   ],
   "source": [
    "np.random.uniform(0,60,6).round(0)"
   ]
  },
  {
   "cell_type": "code",
   "execution_count": 17,
   "metadata": {},
   "outputs": [
    {
     "name": "stdout",
     "output_type": "stream",
     "text": [
      "tempo utilizando o \"for\"\n",
      "4.31 ms ± 122 µs per loop (mean ± std. dev. of 7 runs, 100 loops each)\n",
      " \n",
      "tempo utilizando o \"np.dot\"\n",
      "3.66 µs ± 141 ns per loop (mean ± std. dev. of 7 runs, 100000 loops each)\n"
     ]
    }
   ],
   "source": [
    "def produto(u, v):\n",
    "    prod = 0\n",
    "    for i in range(u.size):\n",
    "        prod += u[i] * v[i]\n",
    "    return prod\n",
    "\n",
    "u = np.random.rand(10000)\n",
    "v = np.random.rand(10000)\n",
    "\n",
    "print ('tempo utilizando o \"for\"')\n",
    "%timeit produto_interno(u,v)\n",
    "\n",
    "print (' ')\n",
    "\n",
    "print ('tempo utilizando o \"np.dot\"')\n",
    "%timeit np.dot(u,v)"
   ]
  },
  {
   "cell_type": "markdown",
   "metadata": {},
   "source": [
    "## matrizes"
   ]
  },
  {
   "cell_type": "code",
   "execution_count": 46,
   "metadata": {},
   "outputs": [
    {
     "data": {
      "text/plain": [
       "array([[1, 1, 1],\n",
       "       [1, 1, 1]])"
      ]
     },
     "execution_count": 46,
     "metadata": {},
     "output_type": "execute_result"
    }
   ],
   "source": [
    "m0 = np.array([[1,1,1],[1,1,1]])\n",
    "m0"
   ]
  },
  {
   "cell_type": "code",
   "execution_count": 33,
   "metadata": {},
   "outputs": [
    {
     "data": {
      "text/plain": [
       "array([[2, 3, 1],\n",
       "       [0, 1, 2]])"
      ]
     },
     "execution_count": 33,
     "metadata": {},
     "output_type": "execute_result"
    }
   ],
   "source": [
    "m1 = np.array([[2,3,1],[0,1,2]])\n",
    "m1"
   ]
  },
  {
   "cell_type": "code",
   "execution_count": 34,
   "metadata": {},
   "outputs": [
    {
     "data": {
      "text/plain": [
       "(2, 3)"
      ]
     },
     "execution_count": 34,
     "metadata": {},
     "output_type": "execute_result"
    }
   ],
   "source": [
    "m1.shape"
   ]
  },
  {
   "cell_type": "code",
   "execution_count": 35,
   "metadata": {},
   "outputs": [
    {
     "data": {
      "text/plain": [
       "array([[ 2,  0],\n",
       "       [ 1, -1],\n",
       "       [ 3,  5]])"
      ]
     },
     "execution_count": 35,
     "metadata": {},
     "output_type": "execute_result"
    }
   ],
   "source": [
    "m2 = np.array([[2,0],[1,-1],[3,5]])\n",
    "m2"
   ]
  },
  {
   "cell_type": "code",
   "execution_count": 36,
   "metadata": {},
   "outputs": [
    {
     "data": {
      "text/plain": [
       "(3, 2)"
      ]
     },
     "execution_count": 36,
     "metadata": {},
     "output_type": "execute_result"
    }
   ],
   "source": [
    "m2.shape"
   ]
  },
  {
   "cell_type": "code",
   "execution_count": 37,
   "metadata": {},
   "outputs": [
    {
     "data": {
      "text/plain": [
       "array([[10,  2],\n",
       "       [ 7,  9]])"
      ]
     },
     "execution_count": 37,
     "metadata": {},
     "output_type": "execute_result"
    }
   ],
   "source": [
    "m3 = np.dot(m1,m2)\n",
    "m3"
   ]
  },
  {
   "cell_type": "code",
   "execution_count": 39,
   "metadata": {},
   "outputs": [
    {
     "data": {
      "text/plain": [
       "(2, 2)"
      ]
     },
     "execution_count": 39,
     "metadata": {},
     "output_type": "execute_result"
    }
   ],
   "source": [
    "m3.shape"
   ]
  },
  {
   "cell_type": "code",
   "execution_count": 42,
   "metadata": {},
   "outputs": [
    {
     "data": {
      "text/plain": [
       "76.0"
      ]
     },
     "execution_count": 42,
     "metadata": {},
     "output_type": "execute_result"
    }
   ],
   "source": [
    "np.linalg.det(m3)"
   ]
  },
  {
   "cell_type": "code",
   "execution_count": 50,
   "metadata": {},
   "outputs": [
    {
     "data": {
      "text/plain": [
       "array([[3, 4, 2],\n",
       "       [1, 2, 3]])"
      ]
     },
     "execution_count": 50,
     "metadata": {},
     "output_type": "execute_result"
    }
   ],
   "source": [
    "m4 = m0 + m1\n",
    "m4"
   ]
  },
  {
   "cell_type": "code",
   "execution_count": 55,
   "metadata": {},
   "outputs": [
    {
     "data": {
      "text/plain": [
       "array([[ 2,  1,  1],\n",
       "       [ 3,  1,  2],\n",
       "       [ 1, -1,  0]])"
      ]
     },
     "execution_count": 55,
     "metadata": {},
     "output_type": "execute_result"
    }
   ],
   "source": [
    "m5 = np.array([[2,1,1],[3,1,2],[1,-1,0]])\n",
    "m5"
   ]
  },
  {
   "cell_type": "code",
   "execution_count": 56,
   "metadata": {},
   "outputs": [
    {
     "data": {
      "text/plain": [
       "1.9999999999999998"
      ]
     },
     "execution_count": 56,
     "metadata": {},
     "output_type": "execute_result"
    }
   ],
   "source": [
    "np.linalg.det(m5)"
   ]
  },
  {
   "cell_type": "code",
   "execution_count": 58,
   "metadata": {},
   "outputs": [
    {
     "data": {
      "text/plain": [
       "array([[ 1,  0,  0,  3,  1],\n",
       "       [ 0,  0,  0,  2,  0],\n",
       "       [-1,  0,  2,  1, -2],\n",
       "       [ 3,  1,  0, -2,  2],\n",
       "       [ 2,  0,  1,  1,  0]])"
      ]
     },
     "execution_count": 58,
     "metadata": {},
     "output_type": "execute_result"
    }
   ],
   "source": [
    "m6 = np.array([[1,0,0,3,1],[0,0,0,2,0],[-1,0,2,1,-2],[3,1,0,-2,2],[2,0,1,1,0]])\n",
    "m6"
   ]
  },
  {
   "cell_type": "code",
   "execution_count": 60,
   "metadata": {},
   "outputs": [
    {
     "data": {
      "text/plain": [
       "(5, 5)"
      ]
     },
     "execution_count": 60,
     "metadata": {},
     "output_type": "execute_result"
    }
   ],
   "source": [
    "m6.shape"
   ]
  },
  {
   "cell_type": "code",
   "execution_count": 59,
   "metadata": {},
   "outputs": [
    {
     "data": {
      "text/plain": [
       "6.000000000000001"
      ]
     },
     "execution_count": 59,
     "metadata": {},
     "output_type": "execute_result"
    }
   ],
   "source": [
    "np.linalg.det(m6)"
   ]
  },
  {
   "cell_type": "markdown",
   "metadata": {},
   "source": [
    "<center style=\"font-size:18pt; background-color:#c9d976\">\n",
    "    <br/>\n",
    "        <b style=\"color: #033409\">\n",
    "            MATPLOTLIB\n",
    "        </b>\n",
    "    <br/>&nbsp;\n",
    "</center>"
   ]
  },
  {
   "cell_type": "markdown",
   "metadata": {},
   "source": [
    "[matplotlib](https://matplotlib.org/stable/#)"
   ]
  },
  {
   "cell_type": "code",
   "execution_count": 2,
   "metadata": {},
   "outputs": [],
   "source": [
    "import matplotlib.pyplot as plt"
   ]
  },
  {
   "cell_type": "code",
   "execution_count": 3,
   "metadata": {},
   "outputs": [
    {
     "data": {
      "text/plain": [
       "<module 'matplotlib.pyplot' from 'C:\\\\Users\\\\geanc\\\\anaconda3\\\\lib\\\\site-packages\\\\matplotlib\\\\pyplot.py'>"
      ]
     },
     "execution_count": 3,
     "metadata": {},
     "output_type": "execute_result"
    }
   ],
   "source": [
    "plt"
   ]
  },
  {
   "cell_type": "code",
   "execution_count": 4,
   "metadata": {},
   "outputs": [
    {
     "ename": "NameError",
     "evalue": "name 'np' is not defined",
     "output_type": "error",
     "traceback": [
      "\u001b[1;31m---------------------------------------------------------------------------\u001b[0m",
      "\u001b[1;31mNameError\u001b[0m                                 Traceback (most recent call last)",
      "\u001b[1;32m<ipython-input-4-92f1775fd4a6>\u001b[0m in \u001b[0;36m<module>\u001b[1;34m\u001b[0m\n\u001b[0;32m      1\u001b[0m \u001b[0mplt\u001b[0m\u001b[1;33m.\u001b[0m\u001b[0mfigure\u001b[0m\u001b[1;33m(\u001b[0m\u001b[0mfigsize\u001b[0m\u001b[1;33m=\u001b[0m\u001b[1;33m(\u001b[0m\u001b[1;36m15\u001b[0m\u001b[1;33m,\u001b[0m\u001b[1;36m5\u001b[0m\u001b[1;33m)\u001b[0m\u001b[1;33m)\u001b[0m\u001b[1;33m\u001b[0m\u001b[1;33m\u001b[0m\u001b[0m\n\u001b[1;32m----> 2\u001b[1;33m \u001b[0mx\u001b[0m \u001b[1;33m=\u001b[0m \u001b[0mnp\u001b[0m\u001b[1;33m.\u001b[0m\u001b[0marange\u001b[0m\u001b[1;33m(\u001b[0m\u001b[1;36m0\u001b[0m\u001b[1;33m,\u001b[0m\u001b[1;36m48\u001b[0m\u001b[1;33m,\u001b[0m\u001b[1;36m10\u001b[0m\u001b[1;33m)\u001b[0m\u001b[1;33m\u001b[0m\u001b[1;33m\u001b[0m\u001b[0m\n\u001b[0m\u001b[0;32m      3\u001b[0m \u001b[0my\u001b[0m \u001b[1;33m=\u001b[0m \u001b[0mnp\u001b[0m\u001b[1;33m.\u001b[0m\u001b[0marange\u001b[0m\u001b[1;33m(\u001b[0m\u001b[1;36m0\u001b[0m\u001b[1;33m,\u001b[0m\u001b[1;36m48\u001b[0m\u001b[1;33m,\u001b[0m\u001b[1;36m10\u001b[0m\u001b[1;33m)\u001b[0m\u001b[1;33m\u001b[0m\u001b[1;33m\u001b[0m\u001b[0m\n\u001b[0;32m      4\u001b[0m \u001b[0mw\u001b[0m \u001b[1;33m=\u001b[0m \u001b[0mnp\u001b[0m\u001b[1;33m.\u001b[0m\u001b[0marange\u001b[0m\u001b[1;33m(\u001b[0m\u001b[1;36m10\u001b[0m\u001b[1;33m,\u001b[0m\u001b[1;36m48\u001b[0m\u001b[1;33m,\u001b[0m\u001b[1;36m4\u001b[0m\u001b[1;33m)\u001b[0m\u001b[1;33m\u001b[0m\u001b[1;33m\u001b[0m\u001b[0m\n\u001b[0;32m      5\u001b[0m \u001b[0mz\u001b[0m \u001b[1;33m=\u001b[0m \u001b[0mnp\u001b[0m\u001b[1;33m.\u001b[0m\u001b[0marange\u001b[0m\u001b[1;33m(\u001b[0m\u001b[1;36m20\u001b[0m\u001b[1;33m,\u001b[0m\u001b[1;36m58\u001b[0m\u001b[1;33m,\u001b[0m\u001b[1;36m4\u001b[0m\u001b[1;33m)\u001b[0m\u001b[1;33m\u001b[0m\u001b[1;33m\u001b[0m\u001b[0m\n",
      "\u001b[1;31mNameError\u001b[0m: name 'np' is not defined"
     ]
    },
    {
     "data": {
      "text/plain": [
       "<Figure size 1080x360 with 0 Axes>"
      ]
     },
     "metadata": {},
     "output_type": "display_data"
    }
   ],
   "source": [
    "plt.figure(figsize=(15,5))\n",
    "x = np.arange(0,48,10)\n",
    "y = np.arange(0,48,10)\n",
    "w = np.arange(10,48,4)\n",
    "z = np.arange(20,58,4)\n",
    "# x = (default_rng().choice(range(1, 30), size=(1, 5), replace=False))\n",
    "# y = (default_rng().choice(range(1, 30), size=(1, 5), replace=False))\n",
    "plt.plot(x,y,'r*--', label=\"case 1\")\n",
    "plt.plot(w,z,'b*--', label=\"case 2\")\n",
    "# plt.bar(x,y, width=2)\n",
    "plt.grid() # exibindo a grade no fundo do gráfico\n",
    "plt.xlim(left=0) #definir ponto zero no gráfico independente dos valores de x e y\n",
    "plt.ylim(bottom=0)\n",
    "plt.title(f'gráfico matplotlib')\n",
    "plt.ylabel('eixo y')\n",
    "plt.xlabel('eixo x')\n",
    "plt.legend();"
   ]
  },
  {
   "cell_type": "code",
   "execution_count": 7,
   "metadata": {},
   "outputs": [
    {
     "data": {
      "image/png": "[encoded data removed]",
      "text/plain": [
       "<Figure size 1080x360 with 1 Axes>"
      ]
     },
     "metadata": {
      "needs_background": "light"
     },
     "output_type": "display_data"
    }
   ],
   "source": [
    "plt.figure(figsize=(15,5))\n",
    "x = ['a','b','c','d','e']\n",
    "y = [80, 42, 68, 91, 77]\n",
    "\n",
    "plt.bar(x,y, edgecolor='black', label=\"pesquisa\", color='orange', width=0.75)\n",
    "\n",
    "# inserir os valores em cada coluna\n",
    "for i, j in enumerate(y):\n",
    "    plt.text(i, j-7, f'{j}', ha='center', fontsize=15)\n",
    "\n",
    "plt.title(f'gráfico de barras')\n",
    "plt.ylabel('eixo y')\n",
    "plt.xlabel('eixo x')\n",
    "plt.legend();"
   ]
  },
  {
   "cell_type": "code",
   "execution_count": 27,
   "metadata": {},
   "outputs": [
    {
     "data": {
      "image/png": "[encoded data removed]",
      "text/plain": [
       "<Figure size 432x288 with 1 Axes>"
      ]
     },
     "metadata": {
      "needs_background": "light"
     },
     "output_type": "display_data"
    }
   ],
   "source": [
    "labels = ['G1', 'G2', 'G3', 'G4', 'G5']\n",
    "men_means = [20, 35, 30, 35, 27]\n",
    "women_means = [25, 32, 34, 20, 25]\n",
    "men_std = [2, 3, 4, 1, 2]\n",
    "women_std = [3, 5, 2, 3, 3]\n",
    "width = 0.35       # the width of the bars: can also be len(x) sequence\n",
    "\n",
    "fig, ax = plt.subplots()\n",
    "ax.bar(labels, men_means, width, yerr=men_std, label='Men')\n",
    "ax.bar(labels, women_means, width, yerr=women_std, bottom=men_means, label='Women')\n",
    "\n",
    "ax.set_ylabel('Scores')\n",
    "ax.set_title('Scores by group and gender')\n",
    "ax.legend()\n",
    "plt.show()"
   ]
  },
  {
   "cell_type": "markdown",
   "metadata": {},
   "source": [
    "<center style=\"font-size:18pt; background-color:#c9d976\">\n",
    "    <br/>\n",
    "        <b style=\"color: #033409\">\n",
    "            PANDAS\n",
    "        </b>\n",
    "    <br/>&nbsp;\n",
    "</center>"
   ]
  },
  {
   "cell_type": "code",
   "execution_count": 1,
   "metadata": {},
   "outputs": [],
   "source": [
    "# https://pandas.pydata.org/\n",
    "import pandas as pd"
   ]
  },
  {
   "cell_type": "code",
   "execution_count": 2,
   "metadata": {},
   "outputs": [
    {
     "data": {
      "text/plain": [
       "<module 'pandas' from 'C:\\\\Users\\\\geanc\\\\anaconda3\\\\lib\\\\site-packages\\\\pandas\\\\__init__.py'>"
      ]
     },
     "execution_count": 2,
     "metadata": {},
     "output_type": "execute_result"
    }
   ],
   "source": [
    "pd"
   ]
  },
  {
   "cell_type": "code",
   "execution_count": 68,
   "metadata": {},
   "outputs": [
    {
     "name": "stdout",
     "output_type": "stream",
     "text": [
      " O volume na unidade C ‚ Windows\n",
      " O N£mero de S‚rie do Volume ‚ 2656-7D0D\n",
      "\n",
      " Pasta de C:\\Users\\geanc\\Downloads\\DATA SCIENCE\\GitHub\\Rafinha_dos_Dados\n",
      "\n",
      "23/06/2022  17:04    <DIR>          .\n",
      "23/06/2022  17:04    <DIR>          ..\n",
      "05/06/2022  12:53                66 .gitattributes\n",
      "05/06/2022  13:10    <DIR>          .ipynb_checkpoints\n",
      "11/08/2021  19:39             1.033 cronograma.csv\n",
      "11/08/2021  19:38            15.189 cronograma.ods\n",
      "18/06/2022  15:40               707 dados.csv\n",
      "18/06/2022  15:40            22.041 dados.ods\n",
      "31/08/2021  10:03           204.308 Internet-Minute-2021.jpg\n",
      "05/06/2022  12:53             1.090 LICENSE\n",
      "23/06/2022  17:04           366.256 mld.ipynb\n",
      "05/06/2022  13:19            10.466 mld_cronograma.ipynb\n",
      "05/06/2022  13:00                78 README.md\n",
      "              10 arquivo(s)        621.234 bytes\n",
      "               3 pasta(s)   605.935.194.112 bytes dispon¡veis\n"
     ]
    }
   ],
   "source": [
    "!dir"
   ]
  },
  {
   "cell_type": "code",
   "execution_count": 18,
   "metadata": {},
   "outputs": [],
   "source": [
    "# file = r'C:\\Users\\geanc\\Downloads\\DATA SCIENCE\\Rafinha dos Dados\\geanclm\\dados.csv'\n",
    "file = r'dados.csv'\n",
    "df = pd.read_csv(file, sep=';')"
   ]
  },
  {
   "cell_type": "code",
   "execution_count": 19,
   "metadata": {},
   "outputs": [],
   "source": [
    "df['sexo']=df['sexo'].astype('category')\n",
    "df['estado']=df['estado'].astype('category')\n",
    "df['cargo']=df['cargo'].astype('category')\n",
    "df['investidor']=df['investidor'].astype('bool')\n",
    "df['nascimento'] = pd.to_datetime(df['nascimento'], dayfirst=True)\n",
    "df['registro'] = pd.to_datetime(df['registro'], dayfirst=True)\n",
    "df['peso'] = df['peso'].astype('float64')\n",
    "df['renda'] = df['renda'].astype('float64')"
   ]
  },
  {
   "cell_type": "code",
   "execution_count": 20,
   "metadata": {},
   "outputs": [
    {
     "name": "stdout",
     "output_type": "stream",
     "text": [
      "<class 'pandas.core.frame.DataFrame'>\n",
      "RangeIndex: 7 entries, 0 to 6\n",
      "Data columns (total 13 columns):\n",
      " #   Column      Non-Null Count  Dtype         \n",
      "---  ------      --------------  -----         \n",
      " 0   nome        7 non-null      object        \n",
      " 1   idade       7 non-null      int64         \n",
      " 2   cpf         7 non-null      int64         \n",
      " 3   nascimento  7 non-null      datetime64[ns]\n",
      " 4   peso        7 non-null      float64       \n",
      " 5   sexo        7 non-null      category      \n",
      " 6   estado      7 non-null      category      \n",
      " 7   registro    7 non-null      datetime64[ns]\n",
      " 8   cargo       7 non-null      category      \n",
      " 9   rg          7 non-null      int64         \n",
      " 10  investidor  7 non-null      bool          \n",
      " 11  projeto     7 non-null      bool          \n",
      " 12  renda       7 non-null      float64       \n",
      "dtypes: bool(2), category(3), datetime64[ns](2), float64(2), int64(3), object(1)\n",
      "memory usage: 1.2+ KB\n"
     ]
    }
   ],
   "source": [
    "df.info()"
   ]
  },
  {
   "cell_type": "code",
   "execution_count": 21,
   "metadata": {},
   "outputs": [
    {
     "data": {
      "text/html": [
       "<div>\n",
       "<style scoped>\n",
       "    .dataframe tbody tr th:only-of-type {\n",
       "        vertical-align: middle;\n",
       "    }\n",
       "\n",
       "    .dataframe tbody tr th {\n",
       "        vertical-align: top;\n",
       "    }\n",
       "\n",
       "    .dataframe thead th {\n",
       "        text-align: right;\n",
       "    }\n",
       "</style>\n",
       "<table border=\"1\" class=\"dataframe\">\n",
       "  <thead>\n",
       "    <tr style=\"text-align: right;\">\n",
       "      <th></th>\n",
       "      <th>nome</th>\n",
       "      <th>idade</th>\n",
       "      <th>cpf</th>\n",
       "      <th>nascimento</th>\n",
       "      <th>peso</th>\n",
       "      <th>sexo</th>\n",
       "      <th>estado</th>\n",
       "      <th>registro</th>\n",
       "      <th>cargo</th>\n",
       "      <th>rg</th>\n",
       "      <th>investidor</th>\n",
       "      <th>projeto</th>\n",
       "      <th>renda</th>\n",
       "    </tr>\n",
       "  </thead>\n",
       "  <tbody>\n",
       "    <tr>\n",
       "      <th>0</th>\n",
       "      <td>gean</td>\n",
       "      <td>40</td>\n",
       "      <td>12345678910</td>\n",
       "      <td>1995-10-11</td>\n",
       "      <td>70.0</td>\n",
       "      <td>m</td>\n",
       "      <td>SC</td>\n",
       "      <td>2021-11-25</td>\n",
       "      <td>empresário</td>\n",
       "      <td>1234567</td>\n",
       "      <td>True</td>\n",
       "      <td>True</td>\n",
       "      <td>3500.0</td>\n",
       "    </tr>\n",
       "    <tr>\n",
       "      <th>1</th>\n",
       "      <td>carlos</td>\n",
       "      <td>41</td>\n",
       "      <td>12345678911</td>\n",
       "      <td>1995-10-12</td>\n",
       "      <td>71.0</td>\n",
       "      <td>m</td>\n",
       "      <td>SC</td>\n",
       "      <td>2021-11-26</td>\n",
       "      <td>investidor</td>\n",
       "      <td>1234568</td>\n",
       "      <td>True</td>\n",
       "      <td>True</td>\n",
       "      <td>3501.0</td>\n",
       "    </tr>\n",
       "    <tr>\n",
       "      <th>2</th>\n",
       "      <td>luciano</td>\n",
       "      <td>42</td>\n",
       "      <td>12345678912</td>\n",
       "      <td>1995-10-13</td>\n",
       "      <td>72.0</td>\n",
       "      <td>m</td>\n",
       "      <td>DF</td>\n",
       "      <td>2021-11-27</td>\n",
       "      <td>cientista de dados</td>\n",
       "      <td>1234569</td>\n",
       "      <td>True</td>\n",
       "      <td>False</td>\n",
       "      <td>3502.0</td>\n",
       "    </tr>\n",
       "    <tr>\n",
       "      <th>3</th>\n",
       "      <td>geanclm</td>\n",
       "      <td>43</td>\n",
       "      <td>12345678913</td>\n",
       "      <td>1995-10-14</td>\n",
       "      <td>73.0</td>\n",
       "      <td>m</td>\n",
       "      <td>PB</td>\n",
       "      <td>2021-11-28</td>\n",
       "      <td>perito oficial</td>\n",
       "      <td>1234570</td>\n",
       "      <td>True</td>\n",
       "      <td>True</td>\n",
       "      <td>3503.0</td>\n",
       "    </tr>\n",
       "    <tr>\n",
       "      <th>4</th>\n",
       "      <td>jane</td>\n",
       "      <td>44</td>\n",
       "      <td>12345678914</td>\n",
       "      <td>1995-10-15</td>\n",
       "      <td>74.0</td>\n",
       "      <td>f</td>\n",
       "      <td>SC</td>\n",
       "      <td>2022-02-16</td>\n",
       "      <td>empresária</td>\n",
       "      <td>1234571</td>\n",
       "      <td>True</td>\n",
       "      <td>True</td>\n",
       "      <td>3504.0</td>\n",
       "    </tr>\n",
       "    <tr>\n",
       "      <th>5</th>\n",
       "      <td>beatriz</td>\n",
       "      <td>45</td>\n",
       "      <td>12345678915</td>\n",
       "      <td>1995-10-16</td>\n",
       "      <td>75.0</td>\n",
       "      <td>f</td>\n",
       "      <td>SC</td>\n",
       "      <td>2022-02-16</td>\n",
       "      <td>estudante</td>\n",
       "      <td>1234572</td>\n",
       "      <td>True</td>\n",
       "      <td>True</td>\n",
       "      <td>3505.0</td>\n",
       "    </tr>\n",
       "    <tr>\n",
       "      <th>6</th>\n",
       "      <td>maria</td>\n",
       "      <td>46</td>\n",
       "      <td>12345678916</td>\n",
       "      <td>1995-10-17</td>\n",
       "      <td>76.0</td>\n",
       "      <td>f</td>\n",
       "      <td>SC</td>\n",
       "      <td>2022-02-17</td>\n",
       "      <td>dona de casa</td>\n",
       "      <td>1234573</td>\n",
       "      <td>True</td>\n",
       "      <td>False</td>\n",
       "      <td>3506.0</td>\n",
       "    </tr>\n",
       "  </tbody>\n",
       "</table>\n",
       "</div>"
      ],
      "text/plain": [
       "      nome  idade          cpf nascimento  peso sexo estado   registro  \\\n",
       "0     gean     40  12345678910 1995-10-11  70.0    m     SC 2021-11-25   \n",
       "1   carlos     41  12345678911 1995-10-12  71.0    m     SC 2021-11-26   \n",
       "2  luciano     42  12345678912 1995-10-13  72.0    m     DF 2021-11-27   \n",
       "3  geanclm     43  12345678913 1995-10-14  73.0    m     PB 2021-11-28   \n",
       "4     jane     44  12345678914 1995-10-15  74.0    f     SC 2022-02-16   \n",
       "5  beatriz     45  12345678915 1995-10-16  75.0    f     SC 2022-02-16   \n",
       "6    maria     46  12345678916 1995-10-17  76.0    f     SC 2022-02-17   \n",
       "\n",
       "                cargo       rg  investidor  projeto   renda  \n",
       "0          empresário  1234567        True     True  3500.0  \n",
       "1          investidor  1234568        True     True  3501.0  \n",
       "2  cientista de dados  1234569        True    False  3502.0  \n",
       "3      perito oficial  1234570        True     True  3503.0  \n",
       "4          empresária  1234571        True     True  3504.0  \n",
       "5           estudante  1234572        True     True  3505.0  \n",
       "6        dona de casa  1234573        True    False  3506.0  "
      ]
     },
     "execution_count": 21,
     "metadata": {},
     "output_type": "execute_result"
    }
   ],
   "source": [
    "df"
   ]
  },
  {
   "cell_type": "code",
   "execution_count": 22,
   "metadata": {},
   "outputs": [
    {
     "data": {
      "text/plain": [
       "1187"
      ]
     },
     "execution_count": 22,
     "metadata": {},
     "output_type": "execute_result"
    }
   ],
   "source": [
    "df.memory_usage().sum()"
   ]
  },
  {
   "cell_type": "code",
   "execution_count": 6,
   "metadata": {},
   "outputs": [
    {
     "data": {
      "text/plain": [
       "0    SC\n",
       "dtype: object"
      ]
     },
     "execution_count": 6,
     "metadata": {},
     "output_type": "execute_result"
    }
   ],
   "source": [
    "# registro com maior frequência no data frame\n",
    "df['estado'].mode()"
   ]
  },
  {
   "cell_type": "code",
   "execution_count": 26,
   "metadata": {},
   "outputs": [
    {
     "data": {
      "text/html": [
       "<div>\n",
       "<style scoped>\n",
       "    .dataframe tbody tr th:only-of-type {\n",
       "        vertical-align: middle;\n",
       "    }\n",
       "\n",
       "    .dataframe tbody tr th {\n",
       "        vertical-align: top;\n",
       "    }\n",
       "\n",
       "    .dataframe thead th {\n",
       "        text-align: right;\n",
       "    }\n",
       "</style>\n",
       "<table border=\"1\" class=\"dataframe\">\n",
       "  <thead>\n",
       "    <tr style=\"text-align: right;\">\n",
       "      <th></th>\n",
       "      <th>sexo</th>\n",
       "      <th>estado</th>\n",
       "      <th>cargo</th>\n",
       "    </tr>\n",
       "  </thead>\n",
       "  <tbody>\n",
       "    <tr>\n",
       "      <th>0</th>\n",
       "      <td>m</td>\n",
       "      <td>SC</td>\n",
       "      <td>empresário</td>\n",
       "    </tr>\n",
       "    <tr>\n",
       "      <th>1</th>\n",
       "      <td>m</td>\n",
       "      <td>SC</td>\n",
       "      <td>investidor</td>\n",
       "    </tr>\n",
       "    <tr>\n",
       "      <th>2</th>\n",
       "      <td>m</td>\n",
       "      <td>DF</td>\n",
       "      <td>cientista de dados</td>\n",
       "    </tr>\n",
       "    <tr>\n",
       "      <th>3</th>\n",
       "      <td>m</td>\n",
       "      <td>PB</td>\n",
       "      <td>perito oficial</td>\n",
       "    </tr>\n",
       "    <tr>\n",
       "      <th>4</th>\n",
       "      <td>f</td>\n",
       "      <td>SC</td>\n",
       "      <td>empresária</td>\n",
       "    </tr>\n",
       "    <tr>\n",
       "      <th>5</th>\n",
       "      <td>f</td>\n",
       "      <td>SC</td>\n",
       "      <td>estudante</td>\n",
       "    </tr>\n",
       "    <tr>\n",
       "      <th>6</th>\n",
       "      <td>f</td>\n",
       "      <td>SC</td>\n",
       "      <td>dona de casa</td>\n",
       "    </tr>\n",
       "  </tbody>\n",
       "</table>\n",
       "</div>"
      ],
      "text/plain": [
       "  sexo estado               cargo\n",
       "0    m     SC          empresário\n",
       "1    m     SC          investidor\n",
       "2    m     DF  cientista de dados\n",
       "3    m     PB      perito oficial\n",
       "4    f     SC          empresária\n",
       "5    f     SC           estudante\n",
       "6    f     SC        dona de casa"
      ]
     },
     "execution_count": 26,
     "metadata": {},
     "output_type": "execute_result"
    }
   ],
   "source": [
    "# selecionando o tipo de dados\n",
    "df.select_dtypes(include='category')"
   ]
  },
  {
   "cell_type": "code",
   "execution_count": 28,
   "metadata": {},
   "outputs": [
    {
     "data": {
      "text/plain": [
       "peso       511.0\n",
       "renda    24521.0\n",
       "dtype: float64"
      ]
     },
     "execution_count": 28,
     "metadata": {},
     "output_type": "execute_result"
    }
   ],
   "source": [
    "# selecionando o tipo de dados\n",
    "df.select_dtypes(include='float64').sum()"
   ]
  },
  {
   "cell_type": "code",
   "execution_count": 25,
   "metadata": {},
   "outputs": [
    {
     "data": {
      "text/html": [
       "<div>\n",
       "<style scoped>\n",
       "    .dataframe tbody tr th:only-of-type {\n",
       "        vertical-align: middle;\n",
       "    }\n",
       "\n",
       "    .dataframe tbody tr th {\n",
       "        vertical-align: top;\n",
       "    }\n",
       "\n",
       "    .dataframe thead th {\n",
       "        text-align: right;\n",
       "    }\n",
       "</style>\n",
       "<table border=\"1\" class=\"dataframe\">\n",
       "  <thead>\n",
       "    <tr style=\"text-align: right;\">\n",
       "      <th></th>\n",
       "      <th>idade</th>\n",
       "      <th>cpf</th>\n",
       "      <th>rg</th>\n",
       "    </tr>\n",
       "  </thead>\n",
       "  <tbody>\n",
       "    <tr>\n",
       "      <th>0</th>\n",
       "      <td>40</td>\n",
       "      <td>12345678910</td>\n",
       "      <td>1234567</td>\n",
       "    </tr>\n",
       "    <tr>\n",
       "      <th>1</th>\n",
       "      <td>41</td>\n",
       "      <td>12345678911</td>\n",
       "      <td>1234568</td>\n",
       "    </tr>\n",
       "    <tr>\n",
       "      <th>2</th>\n",
       "      <td>42</td>\n",
       "      <td>12345678912</td>\n",
       "      <td>1234569</td>\n",
       "    </tr>\n",
       "    <tr>\n",
       "      <th>3</th>\n",
       "      <td>43</td>\n",
       "      <td>12345678913</td>\n",
       "      <td>1234570</td>\n",
       "    </tr>\n",
       "    <tr>\n",
       "      <th>4</th>\n",
       "      <td>44</td>\n",
       "      <td>12345678914</td>\n",
       "      <td>1234571</td>\n",
       "    </tr>\n",
       "    <tr>\n",
       "      <th>5</th>\n",
       "      <td>45</td>\n",
       "      <td>12345678915</td>\n",
       "      <td>1234572</td>\n",
       "    </tr>\n",
       "    <tr>\n",
       "      <th>6</th>\n",
       "      <td>46</td>\n",
       "      <td>12345678916</td>\n",
       "      <td>1234573</td>\n",
       "    </tr>\n",
       "  </tbody>\n",
       "</table>\n",
       "</div>"
      ],
      "text/plain": [
       "   idade          cpf       rg\n",
       "0     40  12345678910  1234567\n",
       "1     41  12345678911  1234568\n",
       "2     42  12345678912  1234569\n",
       "3     43  12345678913  1234570\n",
       "4     44  12345678914  1234571\n",
       "5     45  12345678915  1234572\n",
       "6     46  12345678916  1234573"
      ]
     },
     "execution_count": 25,
     "metadata": {},
     "output_type": "execute_result"
    }
   ],
   "source": [
    "# selecionando o tipo de dados\n",
    "df.select_dtypes(include='int64')"
   ]
  },
  {
   "cell_type": "code",
   "execution_count": 16,
   "metadata": {},
   "outputs": [
    {
     "data": {
      "text/plain": [
       "SC    5\n",
       "DF    1\n",
       "PB    1\n",
       "Name: estado, dtype: int64"
      ]
     },
     "execution_count": 16,
     "metadata": {},
     "output_type": "execute_result"
    }
   ],
   "source": [
    "df.estado.value_counts()"
   ]
  },
  {
   "cell_type": "code",
   "execution_count": 13,
   "metadata": {},
   "outputs": [
    {
     "data": {
      "text/html": [
       "<div>\n",
       "<style scoped>\n",
       "    .dataframe tbody tr th:only-of-type {\n",
       "        vertical-align: middle;\n",
       "    }\n",
       "\n",
       "    .dataframe tbody tr th {\n",
       "        vertical-align: top;\n",
       "    }\n",
       "\n",
       "    .dataframe thead th {\n",
       "        text-align: right;\n",
       "    }\n",
       "</style>\n",
       "<table border=\"1\" class=\"dataframe\">\n",
       "  <thead>\n",
       "    <tr style=\"text-align: right;\">\n",
       "      <th></th>\n",
       "      <th>nome</th>\n",
       "      <th>cargo</th>\n",
       "      <th>renda</th>\n",
       "    </tr>\n",
       "  </thead>\n",
       "  <tbody>\n",
       "    <tr>\n",
       "      <th>0</th>\n",
       "      <td>gean</td>\n",
       "      <td>empresário</td>\n",
       "      <td>3500</td>\n",
       "    </tr>\n",
       "    <tr>\n",
       "      <th>1</th>\n",
       "      <td>carlos</td>\n",
       "      <td>investidor</td>\n",
       "      <td>3501</td>\n",
       "    </tr>\n",
       "    <tr>\n",
       "      <th>2</th>\n",
       "      <td>luciano</td>\n",
       "      <td>cientista de dados</td>\n",
       "      <td>3502</td>\n",
       "    </tr>\n",
       "    <tr>\n",
       "      <th>3</th>\n",
       "      <td>geanclm</td>\n",
       "      <td>perito oficial</td>\n",
       "      <td>3503</td>\n",
       "    </tr>\n",
       "    <tr>\n",
       "      <th>4</th>\n",
       "      <td>gclm</td>\n",
       "      <td>policial</td>\n",
       "      <td>3504</td>\n",
       "    </tr>\n",
       "    <tr>\n",
       "      <th>5</th>\n",
       "      <td>clm</td>\n",
       "      <td>tecnologia</td>\n",
       "      <td>3505</td>\n",
       "    </tr>\n",
       "  </tbody>\n",
       "</table>\n",
       "</div>"
      ],
      "text/plain": [
       "      nome               cargo  renda\n",
       "0     gean          empresário   3500\n",
       "1   carlos          investidor   3501\n",
       "2  luciano  cientista de dados   3502\n",
       "3  geanclm      perito oficial   3503\n",
       "4     gclm            policial   3504\n",
       "5      clm          tecnologia   3505"
      ]
     },
     "execution_count": 13,
     "metadata": {},
     "output_type": "execute_result"
    }
   ],
   "source": [
    "df[['nome','cargo','renda']]"
   ]
  },
  {
   "cell_type": "code",
   "execution_count": 14,
   "metadata": {},
   "outputs": [
    {
     "data": {
      "text/plain": [
       "12345678911"
      ]
     },
     "execution_count": 14,
     "metadata": {},
     "output_type": "execute_result"
    }
   ],
   "source": [
    "df.iloc[1,2]"
   ]
  },
  {
   "cell_type": "code",
   "execution_count": 15,
   "metadata": {},
   "outputs": [],
   "source": [
    "df.dropna(inplace=True)"
   ]
  },
  {
   "cell_type": "code",
   "execution_count": 16,
   "metadata": {},
   "outputs": [
    {
     "data": {
      "text/html": [
       "<div>\n",
       "<style scoped>\n",
       "    .dataframe tbody tr th:only-of-type {\n",
       "        vertical-align: middle;\n",
       "    }\n",
       "\n",
       "    .dataframe tbody tr th {\n",
       "        vertical-align: top;\n",
       "    }\n",
       "\n",
       "    .dataframe thead th {\n",
       "        text-align: right;\n",
       "    }\n",
       "</style>\n",
       "<table border=\"1\" class=\"dataframe\">\n",
       "  <thead>\n",
       "    <tr style=\"text-align: right;\">\n",
       "      <th></th>\n",
       "      <th>nome</th>\n",
       "      <th>idade</th>\n",
       "      <th>cpf</th>\n",
       "      <th>nascimento</th>\n",
       "      <th>peso</th>\n",
       "      <th>estado</th>\n",
       "      <th>registro</th>\n",
       "      <th>cargo</th>\n",
       "      <th>rg</th>\n",
       "      <th>investidor</th>\n",
       "      <th>projeto</th>\n",
       "      <th>renda</th>\n",
       "    </tr>\n",
       "  </thead>\n",
       "  <tbody>\n",
       "    <tr>\n",
       "      <th>0</th>\n",
       "      <td>gean</td>\n",
       "      <td>40</td>\n",
       "      <td>12345678910</td>\n",
       "      <td>1995-10-11</td>\n",
       "      <td>70</td>\n",
       "      <td>SC</td>\n",
       "      <td>2021-11-25</td>\n",
       "      <td>empresário</td>\n",
       "      <td>1234567</td>\n",
       "      <td>sim</td>\n",
       "      <td>True</td>\n",
       "      <td>3500</td>\n",
       "    </tr>\n",
       "    <tr>\n",
       "      <th>1</th>\n",
       "      <td>carlos</td>\n",
       "      <td>41</td>\n",
       "      <td>12345678911</td>\n",
       "      <td>1995-10-12</td>\n",
       "      <td>71</td>\n",
       "      <td>SC</td>\n",
       "      <td>2021-11-26</td>\n",
       "      <td>investidor</td>\n",
       "      <td>1234568</td>\n",
       "      <td>não</td>\n",
       "      <td>True</td>\n",
       "      <td>3501</td>\n",
       "    </tr>\n",
       "    <tr>\n",
       "      <th>2</th>\n",
       "      <td>luciano</td>\n",
       "      <td>42</td>\n",
       "      <td>12345678912</td>\n",
       "      <td>1995-10-13</td>\n",
       "      <td>72</td>\n",
       "      <td>DF</td>\n",
       "      <td>2021-11-27</td>\n",
       "      <td>cientista de dados</td>\n",
       "      <td>1234569</td>\n",
       "      <td>sim</td>\n",
       "      <td>False</td>\n",
       "      <td>3502</td>\n",
       "    </tr>\n",
       "    <tr>\n",
       "      <th>3</th>\n",
       "      <td>geanclm</td>\n",
       "      <td>43</td>\n",
       "      <td>12345678913</td>\n",
       "      <td>1995-10-14</td>\n",
       "      <td>73</td>\n",
       "      <td>PB</td>\n",
       "      <td>2021-11-28</td>\n",
       "      <td>perito oficial</td>\n",
       "      <td>1234570</td>\n",
       "      <td>não</td>\n",
       "      <td>True</td>\n",
       "      <td>3503</td>\n",
       "    </tr>\n",
       "    <tr>\n",
       "      <th>4</th>\n",
       "      <td>gclm</td>\n",
       "      <td>44</td>\n",
       "      <td>12345678914</td>\n",
       "      <td>1995-10-15</td>\n",
       "      <td>74</td>\n",
       "      <td>PB</td>\n",
       "      <td>2022-02-16</td>\n",
       "      <td>policial</td>\n",
       "      <td>1234571</td>\n",
       "      <td>sim</td>\n",
       "      <td>True</td>\n",
       "      <td>3504</td>\n",
       "    </tr>\n",
       "    <tr>\n",
       "      <th>5</th>\n",
       "      <td>clm</td>\n",
       "      <td>45</td>\n",
       "      <td>12345678915</td>\n",
       "      <td>1995-10-16</td>\n",
       "      <td>75</td>\n",
       "      <td>PB</td>\n",
       "      <td>2022-02-16</td>\n",
       "      <td>tecnologia</td>\n",
       "      <td>1234572</td>\n",
       "      <td>sim</td>\n",
       "      <td>True</td>\n",
       "      <td>3505</td>\n",
       "    </tr>\n",
       "  </tbody>\n",
       "</table>\n",
       "</div>"
      ],
      "text/plain": [
       "      nome  idade          cpf  nascimento  peso estado    registro  \\\n",
       "0     gean     40  12345678910  1995-10-11    70     SC  2021-11-25   \n",
       "1   carlos     41  12345678911  1995-10-12    71     SC  2021-11-26   \n",
       "2  luciano     42  12345678912  1995-10-13    72     DF  2021-11-27   \n",
       "3  geanclm     43  12345678913  1995-10-14    73     PB  2021-11-28   \n",
       "4     gclm     44  12345678914  1995-10-15    74     PB  2022-02-16   \n",
       "5      clm     45  12345678915  1995-10-16    75     PB  2022-02-16   \n",
       "\n",
       "                cargo       rg investidor  projeto  renda  \n",
       "0          empresário  1234567        sim     True   3500  \n",
       "1          investidor  1234568        não     True   3501  \n",
       "2  cientista de dados  1234569        sim    False   3502  \n",
       "3      perito oficial  1234570        não     True   3503  \n",
       "4            policial  1234571        sim     True   3504  \n",
       "5          tecnologia  1234572        sim     True   3505  "
      ]
     },
     "execution_count": 16,
     "metadata": {},
     "output_type": "execute_result"
    }
   ],
   "source": [
    "df"
   ]
  },
  {
   "cell_type": "code",
   "execution_count": 10,
   "metadata": {},
   "outputs": [],
   "source": [
    "# df.fillna(111)"
   ]
  },
  {
   "cell_type": "code",
   "execution_count": 11,
   "metadata": {},
   "outputs": [
    {
     "data": {
      "text/plain": [
       "(5, 12)"
      ]
     },
     "execution_count": 11,
     "metadata": {},
     "output_type": "execute_result"
    }
   ],
   "source": [
    "df.shape"
   ]
  },
  {
   "cell_type": "code",
   "execution_count": 12,
   "metadata": {},
   "outputs": [
    {
     "data": {
      "text/plain": [
       "nome           object\n",
       "idade           int64\n",
       "cpf             int64\n",
       "nascimento     object\n",
       "peso            int64\n",
       "estado         object\n",
       "registro       object\n",
       "cargo          object\n",
       "rg            float64\n",
       "investidor     object\n",
       "projeto          bool\n",
       "renda           int64\n",
       "dtype: object"
      ]
     },
     "execution_count": 12,
     "metadata": {},
     "output_type": "execute_result"
    }
   ],
   "source": [
    "df.dtypes"
   ]
  },
  {
   "cell_type": "code",
   "execution_count": 76,
   "metadata": {},
   "outputs": [],
   "source": [
    "df['nascimento'] = pd.to_datetime(df['nascimento'])\n",
    "df['registro'] = pd.to_datetime(df['registro'])\n",
    "df['rg'] = df['rg'].astype(int)"
   ]
  },
  {
   "cell_type": "code",
   "execution_count": 77,
   "metadata": {},
   "outputs": [
    {
     "data": {
      "text/plain": [
       "nome                  object\n",
       "idade                  int64\n",
       "cpf                    int64\n",
       "nascimento    datetime64[ns]\n",
       "peso                   int64\n",
       "sexo                category\n",
       "estado              category\n",
       "registro      datetime64[ns]\n",
       "cargo               category\n",
       "rg                     int32\n",
       "investidor              bool\n",
       "projeto                 bool\n",
       "renda                  int64\n",
       "dtype: object"
      ]
     },
     "execution_count": 77,
     "metadata": {},
     "output_type": "execute_result"
    }
   ],
   "source": [
    "df.dtypes"
   ]
  },
  {
   "cell_type": "code",
   "execution_count": 58,
   "metadata": {},
   "outputs": [],
   "source": [
    "# df['anos'] = df['registro']-df['nascimento']"
   ]
  },
  {
   "cell_type": "code",
   "execution_count": 59,
   "metadata": {},
   "outputs": [],
   "source": [
    "# df['anos'] = df['anos']"
   ]
  },
  {
   "cell_type": "code",
   "execution_count": 78,
   "metadata": {},
   "outputs": [
    {
     "data": {
      "text/html": [
       "<div>\n",
       "<style scoped>\n",
       "    .dataframe tbody tr th:only-of-type {\n",
       "        vertical-align: middle;\n",
       "    }\n",
       "\n",
       "    .dataframe tbody tr th {\n",
       "        vertical-align: top;\n",
       "    }\n",
       "\n",
       "    .dataframe thead th {\n",
       "        text-align: right;\n",
       "    }\n",
       "</style>\n",
       "<table border=\"1\" class=\"dataframe\">\n",
       "  <thead>\n",
       "    <tr style=\"text-align: right;\">\n",
       "      <th></th>\n",
       "      <th>nome</th>\n",
       "      <th>idade</th>\n",
       "      <th>cpf</th>\n",
       "      <th>nascimento</th>\n",
       "      <th>peso</th>\n",
       "      <th>sexo</th>\n",
       "      <th>estado</th>\n",
       "      <th>registro</th>\n",
       "      <th>cargo</th>\n",
       "      <th>rg</th>\n",
       "      <th>investidor</th>\n",
       "      <th>projeto</th>\n",
       "      <th>renda</th>\n",
       "    </tr>\n",
       "  </thead>\n",
       "  <tbody>\n",
       "    <tr>\n",
       "      <th>0</th>\n",
       "      <td>gean</td>\n",
       "      <td>40</td>\n",
       "      <td>12345678910</td>\n",
       "      <td>1995-10-11</td>\n",
       "      <td>70</td>\n",
       "      <td>m</td>\n",
       "      <td>SC</td>\n",
       "      <td>2021-11-25</td>\n",
       "      <td>empresário</td>\n",
       "      <td>1234567</td>\n",
       "      <td>True</td>\n",
       "      <td>True</td>\n",
       "      <td>3500</td>\n",
       "    </tr>\n",
       "    <tr>\n",
       "      <th>1</th>\n",
       "      <td>carlos</td>\n",
       "      <td>41</td>\n",
       "      <td>12345678911</td>\n",
       "      <td>1995-10-12</td>\n",
       "      <td>71</td>\n",
       "      <td>m</td>\n",
       "      <td>SC</td>\n",
       "      <td>2021-11-26</td>\n",
       "      <td>investidor</td>\n",
       "      <td>1234568</td>\n",
       "      <td>True</td>\n",
       "      <td>True</td>\n",
       "      <td>3501</td>\n",
       "    </tr>\n",
       "    <tr>\n",
       "      <th>2</th>\n",
       "      <td>luciano</td>\n",
       "      <td>42</td>\n",
       "      <td>12345678912</td>\n",
       "      <td>1995-10-13</td>\n",
       "      <td>72</td>\n",
       "      <td>m</td>\n",
       "      <td>DF</td>\n",
       "      <td>2021-11-27</td>\n",
       "      <td>cientista de dados</td>\n",
       "      <td>1234569</td>\n",
       "      <td>True</td>\n",
       "      <td>False</td>\n",
       "      <td>3502</td>\n",
       "    </tr>\n",
       "    <tr>\n",
       "      <th>3</th>\n",
       "      <td>geanclm</td>\n",
       "      <td>43</td>\n",
       "      <td>12345678913</td>\n",
       "      <td>1995-10-14</td>\n",
       "      <td>73</td>\n",
       "      <td>m</td>\n",
       "      <td>PB</td>\n",
       "      <td>2021-11-28</td>\n",
       "      <td>perito oficial</td>\n",
       "      <td>1234570</td>\n",
       "      <td>True</td>\n",
       "      <td>True</td>\n",
       "      <td>3503</td>\n",
       "    </tr>\n",
       "    <tr>\n",
       "      <th>4</th>\n",
       "      <td>jane</td>\n",
       "      <td>44</td>\n",
       "      <td>12345678914</td>\n",
       "      <td>1995-10-15</td>\n",
       "      <td>74</td>\n",
       "      <td>f</td>\n",
       "      <td>SC</td>\n",
       "      <td>2022-02-16</td>\n",
       "      <td>empresária</td>\n",
       "      <td>1234571</td>\n",
       "      <td>True</td>\n",
       "      <td>True</td>\n",
       "      <td>3504</td>\n",
       "    </tr>\n",
       "    <tr>\n",
       "      <th>5</th>\n",
       "      <td>beatriz</td>\n",
       "      <td>45</td>\n",
       "      <td>12345678915</td>\n",
       "      <td>1995-10-16</td>\n",
       "      <td>75</td>\n",
       "      <td>f</td>\n",
       "      <td>SC</td>\n",
       "      <td>2022-02-16</td>\n",
       "      <td>estudante</td>\n",
       "      <td>1234572</td>\n",
       "      <td>True</td>\n",
       "      <td>True</td>\n",
       "      <td>3505</td>\n",
       "    </tr>\n",
       "    <tr>\n",
       "      <th>6</th>\n",
       "      <td>maria</td>\n",
       "      <td>46</td>\n",
       "      <td>12345678916</td>\n",
       "      <td>1995-10-17</td>\n",
       "      <td>76</td>\n",
       "      <td>f</td>\n",
       "      <td>SC</td>\n",
       "      <td>2022-02-17</td>\n",
       "      <td>dona de casa</td>\n",
       "      <td>1234573</td>\n",
       "      <td>True</td>\n",
       "      <td>False</td>\n",
       "      <td>3506</td>\n",
       "    </tr>\n",
       "  </tbody>\n",
       "</table>\n",
       "</div>"
      ],
      "text/plain": [
       "      nome  idade          cpf nascimento  peso sexo estado   registro  \\\n",
       "0     gean     40  12345678910 1995-10-11    70    m     SC 2021-11-25   \n",
       "1   carlos     41  12345678911 1995-10-12    71    m     SC 2021-11-26   \n",
       "2  luciano     42  12345678912 1995-10-13    72    m     DF 2021-11-27   \n",
       "3  geanclm     43  12345678913 1995-10-14    73    m     PB 2021-11-28   \n",
       "4     jane     44  12345678914 1995-10-15    74    f     SC 2022-02-16   \n",
       "5  beatriz     45  12345678915 1995-10-16    75    f     SC 2022-02-16   \n",
       "6    maria     46  12345678916 1995-10-17    76    f     SC 2022-02-17   \n",
       "\n",
       "                cargo       rg  investidor  projeto  renda  \n",
       "0          empresário  1234567        True     True   3500  \n",
       "1          investidor  1234568        True     True   3501  \n",
       "2  cientista de dados  1234569        True    False   3502  \n",
       "3      perito oficial  1234570        True     True   3503  \n",
       "4          empresária  1234571        True     True   3504  \n",
       "5           estudante  1234572        True     True   3505  \n",
       "6        dona de casa  1234573        True    False   3506  "
      ]
     },
     "execution_count": 78,
     "metadata": {},
     "output_type": "execute_result"
    }
   ],
   "source": [
    "df"
   ]
  },
  {
   "cell_type": "code",
   "execution_count": 61,
   "metadata": {},
   "outputs": [],
   "source": [
    "# df.fillna('faltou dado na planilha')"
   ]
  },
  {
   "cell_type": "code",
   "execution_count": 79,
   "metadata": {},
   "outputs": [
    {
     "data": {
      "text/plain": [
       "estado\n",
       "DF    3502.0\n",
       "PB    3503.0\n",
       "SC    3503.2\n",
       "Name: renda, dtype: float64"
      ]
     },
     "execution_count": 79,
     "metadata": {},
     "output_type": "execute_result"
    }
   ],
   "source": [
    "df.groupby(['estado'])['renda'].mean()"
   ]
  },
  {
   "cell_type": "code",
   "execution_count": 23,
   "metadata": {},
   "outputs": [
    {
     "data": {
      "image/png": "[encoded data removed]",
      "text/plain": [
       "<Figure size 432x288 with 1 Axes>"
      ]
     },
     "metadata": {
      "needs_background": "light"
     },
     "output_type": "display_data"
    }
   ],
   "source": [
    "df.groupby(['estado'])['idade'].mean().plot.bar(grid=True);"
   ]
  },
  {
   "cell_type": "code",
   "execution_count": 18,
   "metadata": {},
   "outputs": [
    {
     "data": {
      "text/plain": [
       "estado\n",
       "DF    15000\n",
       "PB    35500\n",
       "SC     8500\n",
       "Name: renda, dtype: int64"
      ]
     },
     "execution_count": 18,
     "metadata": {},
     "output_type": "execute_result"
    }
   ],
   "source": [
    "df.groupby(['estado'])['renda'].sum()"
   ]
  },
  {
   "cell_type": "code",
   "execution_count": 80,
   "metadata": {},
   "outputs": [
    {
     "data": {
      "text/plain": [
       "estado\n",
       "DF         NaN\n",
       "PB         NaN\n",
       "SC    2.588436\n",
       "Name: idade, dtype: float64"
      ]
     },
     "execution_count": 80,
     "metadata": {},
     "output_type": "execute_result"
    }
   ],
   "source": [
    "df.groupby(['estado'])['idade'].std()"
   ]
  },
  {
   "cell_type": "code",
   "execution_count": 81,
   "metadata": {},
   "outputs": [
    {
     "data": {
      "text/plain": [
       "estado\n",
       "DF    42.0\n",
       "PB    43.0\n",
       "SC    43.2\n",
       "Name: idade, dtype: float64"
      ]
     },
     "execution_count": 81,
     "metadata": {},
     "output_type": "execute_result"
    }
   ],
   "source": [
    "df.groupby(['estado'])['idade'].mean()"
   ]
  },
  {
   "cell_type": "markdown",
   "metadata": {},
   "source": [
    "### Dicionário com valores aleatórios para criar o data frame"
   ]
  },
  {
   "cell_type": "code",
   "execution_count": 48,
   "metadata": {},
   "outputs": [],
   "source": [
    "dic = {'Gean':np.random.uniform(0,10,3).round(1), 'Carlos':np.random.uniform(0,10,3).round(1),\n",
    "      'luciano':np.random.uniform(0,10,3).round(1), 'Madeira':np.random.uniform(0,10,3).round(1)}"
   ]
  },
  {
   "cell_type": "code",
   "execution_count": 49,
   "metadata": {},
   "outputs": [],
   "source": [
    "df = pd.DataFrame(dic)"
   ]
  },
  {
   "cell_type": "code",
   "execution_count": 51,
   "metadata": {},
   "outputs": [],
   "source": [
    "df.index = ['P1','P2','P3']"
   ]
  },
  {
   "cell_type": "code",
   "execution_count": 57,
   "metadata": {},
   "outputs": [],
   "source": [
    "df = df.T"
   ]
  },
  {
   "cell_type": "code",
   "execution_count": 67,
   "metadata": {},
   "outputs": [
    {
     "data": {
      "text/html": [
       "<div>\n",
       "<style scoped>\n",
       "    .dataframe tbody tr th:only-of-type {\n",
       "        vertical-align: middle;\n",
       "    }\n",
       "\n",
       "    .dataframe tbody tr th {\n",
       "        vertical-align: top;\n",
       "    }\n",
       "\n",
       "    .dataframe thead th {\n",
       "        text-align: right;\n",
       "    }\n",
       "</style>\n",
       "<table border=\"1\" class=\"dataframe\">\n",
       "  <thead>\n",
       "    <tr style=\"text-align: right;\">\n",
       "      <th></th>\n",
       "      <th>P1</th>\n",
       "      <th>P2</th>\n",
       "      <th>P3</th>\n",
       "      <th>Média</th>\n",
       "    </tr>\n",
       "  </thead>\n",
       "  <tbody>\n",
       "    <tr>\n",
       "      <th>Gean</th>\n",
       "      <td>3.8</td>\n",
       "      <td>0.2</td>\n",
       "      <td>9.0</td>\n",
       "      <td>4.3</td>\n",
       "    </tr>\n",
       "    <tr>\n",
       "      <th>Carlos</th>\n",
       "      <td>7.5</td>\n",
       "      <td>3.4</td>\n",
       "      <td>6.4</td>\n",
       "      <td>5.8</td>\n",
       "    </tr>\n",
       "    <tr>\n",
       "      <th>luciano</th>\n",
       "      <td>7.6</td>\n",
       "      <td>5.0</td>\n",
       "      <td>4.4</td>\n",
       "      <td>5.7</td>\n",
       "    </tr>\n",
       "    <tr>\n",
       "      <th>Madeira</th>\n",
       "      <td>8.8</td>\n",
       "      <td>7.9</td>\n",
       "      <td>5.4</td>\n",
       "      <td>7.4</td>\n",
       "    </tr>\n",
       "  </tbody>\n",
       "</table>\n",
       "</div>"
      ],
      "text/plain": [
       "          P1   P2   P3  Média\n",
       "Gean     3.8  0.2  9.0    4.3\n",
       "Carlos   7.5  3.4  6.4    5.8\n",
       "luciano  7.6  5.0  4.4    5.7\n",
       "Madeira  8.8  7.9  5.4    7.4"
      ]
     },
     "execution_count": 67,
     "metadata": {},
     "output_type": "execute_result"
    }
   ],
   "source": [
    "df"
   ]
  },
  {
   "cell_type": "code",
   "execution_count": 64,
   "metadata": {},
   "outputs": [],
   "source": [
    "df['Média'] = df.mean(axis=1).round(1)"
   ]
  },
  {
   "cell_type": "code",
   "execution_count": 70,
   "metadata": {},
   "outputs": [],
   "source": [
    "def status(x):\n",
    "    if x >= 5:\n",
    "        return \"Aprovado\"\n",
    "    else:\n",
    "        return \"Reprovado\"    "
   ]
  },
  {
   "cell_type": "code",
   "execution_count": 71,
   "metadata": {},
   "outputs": [],
   "source": [
    "df['Situação'] = df['Média'].apply(status)"
   ]
  },
  {
   "cell_type": "code",
   "execution_count": 73,
   "metadata": {},
   "outputs": [
    {
     "data": {
      "text/html": [
       "<div>\n",
       "<style scoped>\n",
       "    .dataframe tbody tr th:only-of-type {\n",
       "        vertical-align: middle;\n",
       "    }\n",
       "\n",
       "    .dataframe tbody tr th {\n",
       "        vertical-align: top;\n",
       "    }\n",
       "\n",
       "    .dataframe thead th {\n",
       "        text-align: right;\n",
       "    }\n",
       "</style>\n",
       "<table border=\"1\" class=\"dataframe\">\n",
       "  <thead>\n",
       "    <tr style=\"text-align: right;\">\n",
       "      <th></th>\n",
       "      <th>P1</th>\n",
       "      <th>P2</th>\n",
       "      <th>P3</th>\n",
       "      <th>Média</th>\n",
       "      <th>Situação</th>\n",
       "    </tr>\n",
       "  </thead>\n",
       "  <tbody>\n",
       "    <tr>\n",
       "      <th>Gean</th>\n",
       "      <td>3.8</td>\n",
       "      <td>0.2</td>\n",
       "      <td>9.0</td>\n",
       "      <td>4.3</td>\n",
       "      <td>Reprovado</td>\n",
       "    </tr>\n",
       "    <tr>\n",
       "      <th>Carlos</th>\n",
       "      <td>7.5</td>\n",
       "      <td>3.4</td>\n",
       "      <td>6.4</td>\n",
       "      <td>5.8</td>\n",
       "      <td>Aprovado</td>\n",
       "    </tr>\n",
       "    <tr>\n",
       "      <th>luciano</th>\n",
       "      <td>7.6</td>\n",
       "      <td>5.0</td>\n",
       "      <td>4.4</td>\n",
       "      <td>5.7</td>\n",
       "      <td>Aprovado</td>\n",
       "    </tr>\n",
       "    <tr>\n",
       "      <th>Madeira</th>\n",
       "      <td>8.8</td>\n",
       "      <td>7.9</td>\n",
       "      <td>5.4</td>\n",
       "      <td>7.4</td>\n",
       "      <td>Aprovado</td>\n",
       "    </tr>\n",
       "  </tbody>\n",
       "</table>\n",
       "</div>"
      ],
      "text/plain": [
       "          P1   P2   P3  Média   Situação\n",
       "Gean     3.8  0.2  9.0    4.3  Reprovado\n",
       "Carlos   7.5  3.4  6.4    5.8   Aprovado\n",
       "luciano  7.6  5.0  4.4    5.7   Aprovado\n",
       "Madeira  8.8  7.9  5.4    7.4   Aprovado"
      ]
     },
     "execution_count": 73,
     "metadata": {},
     "output_type": "execute_result"
    }
   ],
   "source": [
    "df"
   ]
  },
  {
   "cell_type": "code",
   "execution_count": 77,
   "metadata": {},
   "outputs": [
    {
     "data": {
      "text/plain": [
       "<AxesSubplot:>"
      ]
     },
     "execution_count": 77,
     "metadata": {},
     "output_type": "execute_result"
    },
    {
     "data": {
      "image/png": "[encoded data removed]",
      "text/plain": [
       "<Figure size 432x288 with 1 Axes>"
      ]
     },
     "metadata": {
      "needs_background": "light"
     },
     "output_type": "display_data"
    }
   ],
   "source": [
    "df.Situação.value_counts().plot(kind = 'bar', color = ['green','red'])"
   ]
  },
  {
   "cell_type": "code",
   "execution_count": 81,
   "metadata": {},
   "outputs": [
    {
     "data": {
      "image/png": "[encoded data removed]",
      "text/plain": [
       "<Figure size 432x288 with 1 Axes>"
      ]
     },
     "metadata": {},
     "output_type": "display_data"
    }
   ],
   "source": [
    "df.Situação.value_counts().plot(kind = 'pie');"
   ]
  },
  {
   "cell_type": "code",
   "execution_count": 84,
   "metadata": {},
   "outputs": [
    {
     "data": {
      "image/png": "[encoded data removed]",
      "text/plain": [
       "<Figure size 432x288 with 1 Axes>"
      ]
     },
     "metadata": {
      "needs_background": "light"
     },
     "output_type": "display_data"
    }
   ],
   "source": [
    "df.plot(kind = 'box');"
   ]
  },
  {
   "cell_type": "code",
   "execution_count": 87,
   "metadata": {},
   "outputs": [
    {
     "data": {
      "image/png": "[encoded data removed]",
      "text/plain": [
       "<Figure size 432x288 with 1 Axes>"
      ]
     },
     "metadata": {
      "needs_background": "light"
     },
     "output_type": "display_data"
    }
   ],
   "source": [
    "df[['P1','P2','P3']].T.plot(kind = 'line');"
   ]
  },
  {
   "cell_type": "markdown",
   "metadata": {},
   "source": [
    "<a name=\"pmlp1\"></a>\n",
    "<center style=\"font-size:18pt; background-color:orange\">\n",
    "    <br/>\n",
    "        <b style=\"color: #033409\">\n",
    "            Princípios de Machine Learning: Parte 1\n",
    "        </b>\n",
    "    <br/>&nbsp;\n",
    "</center>"
   ]
  },
  {
   "cell_type": "markdown",
   "metadata": {},
   "source": [
    "__O QUE É MACHINE LEARNING?__<br>\n",
    "- Underfitting (falta de ajuste)<br>\n",
    "- Overfitting (sobreajuste)"
   ]
  },
  {
   "cell_type": "markdown",
   "metadata": {},
   "source": [
    "__MODELO DUMMY__<br>\n",
    "\n",
    "    df.loc[:,'predicoes'] = df.valor.shift(1)\n",
    "    df.loc[:,'erro'] = df.predicoes - df.valor\n",
    "    \n",
    "[aula_001_O que é ML_Dummy.ipynb](http://localhost:8888/notebooks/Downloads/DATA%20SCIENCE/Rafinha%20dos%20Dados/Machine%20Learning%20Descomplicado%20-%20curso/Princ%C3%ADpios%20de%20Machine%20Learning/aula_001_O%20que%20%C3%A9%20ML_Dummy.ipynb#)"
   ]
  },
  {
   "cell_type": "markdown",
   "metadata": {},
   "source": [
    "__AS ÁREAS DE MACHINE LEARNING__\n",
    "- Classificação\n",
    "- Regressão\n",
    "- Agrupamento"
   ]
  },
  {
   "cell_type": "markdown",
   "metadata": {},
   "source": [
    "__CLASSIFICAÇÃO__<br>\n",
    "[supervisionado]<br>\n",
    "variável FINITA e não ordenada<br>\n",
    "Execmplo de algorítmo: from sklearn.ensemble import RandomForestClassifier<br>\n",
    "[aula_001_o_que_e_classificacao.ipynb](http://localhost:8888/notebooks/Downloads/DATA%20SCIENCE/Rafinha%20dos%20Dados/Machine%20Learning%20Descomplicado%20-%20curso/Princ%C3%ADpios%20de%20Machine%20Learning/aula_001_o_que_e_classificacao.ipynb)\n",
    "        \n",
    "<br>\n",
    "df = pd.get_dummies(df)"
   ]
  },
  {
   "cell_type": "markdown",
   "metadata": {},
   "source": [
    "__REGRESSÃO__<br>\n",
    "[supervisionado]<br>\n",
    "variável CONTÍNUA e ordenada\n",
    "\n",
    "[aula_003_regressão.ipynb](http://localhost:8888/notebooks/Downloads/DATA%20SCIENCE/Rafinha%20dos%20Dados/Machine%20Learning%20Descomplicado%20-%20curso/Princ%C3%ADpios%20de%20Machine%20Learning/aula_003_regress%C3%A3o.ipynb)"
   ]
  },
  {
   "cell_type": "markdown",
   "metadata": {},
   "source": [
    "__AGRUPAMENTO__<br>\n",
    "[não supervisionado]<br>\n",
    "encontrar GRUPOS e PADRÕES"
   ]
  },
  {
   "cell_type": "markdown",
   "metadata": {},
   "source": [
    "__CLASSIFICAÇÃO MULTICLASSE__\n",
    "\n",
    "[aula 002_classificacao_multiclasse.ipynb](http://localhost:8888/notebooks/Downloads/DATA%20SCIENCE/Rafinha%20dos%20Dados/Machine%20Learning%20Descomplicado%20-%20curso/Princ%C3%ADpios%20de%20Machine%20Learning/aula%20002_classificacao_multiclasse.ipynb)"
   ]
  },
  {
   "cell_type": "markdown",
   "metadata": {},
   "source": [
    "<a name=\"pmlp2\"></a>\n",
    "<center style=\"font-size:18pt; background-color:orange\">\n",
    "    <br/>\n",
    "        <b style=\"color: #033409\">\n",
    "            Princípios de Machine Learning: Parte 2\n",
    "        </b>\n",
    "    <br/>&nbsp;\n",
    "</center>"
   ]
  },
  {
   "cell_type": "markdown",
   "metadata": {},
   "source": [
    "- IMPORTANTE TER UM CARDERNO PARA ANOTAÇÕES (caderno do cientista de dados)\n",
    "\n",
    "\n",
    "### Desenhando um problema de ML - Bloco 1\n",
    "    - caderno do cientista de dados\n",
    "    - entender a necessidade do problema/desafio (dor)\n",
    "        - exemplo: ligações desnecessarias que são feitas para pessoas \n",
    "    \n",
    "    \n",
    "### Desenhando um problema de ML - Bloco 2\n",
    "    - dados estruturados\n",
    "    - organização dos dados\n",
    "    - wordcloud (recurso para localizar as palavras mais frequentes\n",
    "    - ! usar o poder dos textos <b>white paper</b>\n",
    "\n",
    "\n",
    "    \n",
    "### Desenhando um problema de ML - Bloco 3\n",
    "    - Entender o melhor possível sobre o problema proposto\n",
    "    para ter menos esforço durante a constução do modelo\n",
    "\n",
    "\n",
    "    - CLASSIFICAÇÃO\n",
    "        ?\n",
    "        - sim ou não\n",
    "        - variáveis finitas\n",
    "     \n",
    "     \n",
    "    - AGRUPAMENTO\n",
    "        ?\n",
    "        - regras diferentes para grupos e/ou perfis específicos\n",
    "    \n",
    "    \n",
    "    - REGRESSÃO\n",
    "        ?\n",
    "        - prever variável com certas restrições\n",
    "        - Vai chover? Qual o tempo?\n",
    "        - Vai vender? Quanto?\n",
    "        - Vai funcionar? Quanto tempo? \n",
    "        - predição"
   ]
  },
  {
   "cell_type": "markdown",
   "metadata": {},
   "source": [
    "#### CRISP-DM (Cross-Industry Standard Process for Data Mining)"
   ]
  },
  {
   "attachments": {
    "1554133049377.png": {
     "image/png": "[encoded data removed]"
    }
   },
   "cell_type": "markdown",
   "metadata": {},
   "source": [
    "![1554133049377.png](attachment:1554133049377.png)"
   ]
  },
  {
   "cell_type": "code",
   "execution_count": 2,
   "metadata": {},
   "outputs": [],
   "source": [
    "# 0 - business understanfing -> 3 semanas\n",
    "# 1 - data understanfing ->\n",
    "# 2 - data preparation -> 3 meses\n",
    "# 3 - modeling ->\n",
    "# 4 - evaluation -> 2 mês\n",
    "# 5 - deployment -> \n",
    "\n",
    "# Projeto com 1 ou 2 modelos leva entre 3 e 6 meses"
   ]
  },
  {
   "cell_type": "markdown",
   "metadata": {},
   "source": [
    "<center style=\"font-size:18pt; background-color:#0f79b6\">\n",
    "    <br/><b><FONT COLOR=\"#ffffff\">Classificação: Parte 1</FONT><br/><b>&nbsp;</center>"
   ]
  },
  {
   "cell_type": "markdown",
   "metadata": {},
   "source": [
    "O que é Classificação?<br>\n",
    "Encontrar regras para separar as classes\n",
    "\n",
    "\n",
    "Primeiros insights!\n",
    "\n",
    "- Underfit e Overfit\n",
    "    - Overfit: quando o modelo decora os dados e não é capaz de gerar novos resultados. é aceitável assumir erros para um melhor aprendizado.\n",
    "    O modelo vicia em alguns regultados e fica perdido e sem respostas para novas situações.\n",
    "    - Underfit: modelo muito genérico e incapaz de reconhecer novos resultados\n",
    "    O modelo cria falsos positivos. Dependendo do cenário precisa de mais análise dos dados, seja na área da saúde, finanças, previsão de tempo, varejo.\n",
    "    \n",
    "\t- entender que não se pode viciar e nem generalizar de mais um modelo. Que referência podemos utilizar para entender o quão distante nosso modelo está de um bom resultado?\n",
    "- variáveis\n",
    "\t- importante identificar a idependêncai entre variáveis para evitar\n",
    "esforço desnecessário e/ou expectativa de gráficos ineficientes em razão de uma variável\n",
    "escolhida não interferir em outra variável  tanbém escolhida.\n",
    "\tUma dúvida que ficou: como podemos testar essa interdependência de variáeveis com o data frame inicial? Existe algum gráfico mais indicado e amigável para essa compreensão?\n",
    "    \n",
    "    \n",
    "    \n",
    "- naive bayes (sugestões para o módulo e também para o curso by geanclm in 16/09/2021)"
   ]
  },
  {
   "cell_type": "markdown",
   "metadata": {},
   "source": [
    "<center style=\"font-size:18pt; background-color:#0f79b6\">\n",
    "    <br/><b><FONT COLOR=\"#ffffff\">Classificação: Parte 2</FONT><br/><b>&nbsp;</center>"
   ]
  },
  {
   "cell_type": "markdown",
   "metadata": {},
   "source": [
    "    - https://pt.wikipedia.org/wiki/Matriz_de_confus%C3%A3o\n",
    "    - Métricas de Classificação\n",
    "    - Importância de Variáveis"
   ]
  },
  {
   "cell_type": "markdown",
   "metadata": {},
   "source": [
    "<center style=\"font-size:18pt; background-color:#0f79b6\">\n",
    "    <br/>\n",
    "        <b>\n",
    "            <FONT COLOR=\"#ffffff\">\n",
    "                Classificação: Parte 3\n",
    "            </FONT><br/>\n",
    "        <b>&nbsp;\n",
    "</center>"
   ]
  },
  {
   "cell_type": "markdown",
   "metadata": {},
   "source": [
    "- SVM Linear ---> REVER ESSA AULA!<br>\n",
    "[Support Vector Machines](https://scikit-learn.org/stable/modules/svm.html#svm-classification)\n",
    "\n",
    "\n",
    "- SVM Não Linear\n",
    "\n",
    "\n",
    "- [SVM Não Linear Outros Kernels](https://www.csie.ntu.edu.tw/~cjlin/libsvm/)"
   ]
  },
  {
   "cell_type": "markdown",
   "metadata": {},
   "source": [
    "<center style=\"font-size:18pt; background-color:#0f79b6\">\n",
    "    <br/>\n",
    "        <b>\n",
    "            <FONT COLOR=\"#ffffff\">\n",
    "                Classificação: Parte 4\n",
    "            </FONT><br/>\n",
    "        <b>&nbsp;\n",
    "</center>"
   ]
  },
  {
   "cell_type": "markdown",
   "metadata": {},
   "source": [
    "[Logistic regression](https://scikit-learn.org/stable/modules/linear_model.html#logistic-regression)\n",
    "\n",
    "- Regressão Logística\n",
    "    - retorna a probabilidade"
   ]
  },
  {
   "cell_type": "code",
   "execution_count": null,
   "metadata": {},
   "outputs": [],
   "source": []
  },
  {
   "cell_type": "code",
   "execution_count": null,
   "metadata": {},
   "outputs": [],
   "source": []
  },
  {
   "cell_type": "code",
   "execution_count": null,
   "metadata": {},
   "outputs": [],
   "source": []
  },
  {
   "cell_type": "markdown",
   "metadata": {},
   "source": [
    "<a name=\"dsc\"></a>\n",
    "<center style=\"font-size:18pt; background-color:orange\">\n",
    "    <br/>\n",
    "        <b>\n",
    "            <FONT COLOR=\"#000000\">\n",
    "                data science checklist (roadmap)\n",
    "            </FONT><br/>\n",
    "        <b>&nbsp;\n",
    "</center>"
   ]
  },
  {
   "cell_type": "code",
   "execution_count": 1,
   "metadata": {},
   "outputs": [],
   "source": [
    "# to do list Machine Learning\n",
    "# by geanclm in 28/02/2022 at 17:03h"
   ]
  },
  {
   "cell_type": "code",
   "execution_count": null,
   "metadata": {},
   "outputs": [],
   "source": [
    "# Business understanding"
   ]
  },
  {
   "cell_type": "code",
   "execution_count": 8,
   "metadata": {},
   "outputs": [],
   "source": [
    "# Title"
   ]
  },
  {
   "cell_type": "code",
   "execution_count": 9,
   "metadata": {},
   "outputs": [],
   "source": [
    "# Head"
   ]
  },
  {
   "cell_type": "code",
   "execution_count": 10,
   "metadata": {},
   "outputs": [],
   "source": [
    "# Challenge"
   ]
  },
  {
   "cell_type": "code",
   "execution_count": 1,
   "metadata": {},
   "outputs": [],
   "source": [
    "# Data understanding"
   ]
  },
  {
   "cell_type": "code",
   "execution_count": 11,
   "metadata": {},
   "outputs": [],
   "source": [
    "# Local files"
   ]
  },
  {
   "cell_type": "code",
   "execution_count": 12,
   "metadata": {},
   "outputs": [],
   "source": [
    "# Import libs"
   ]
  },
  {
   "cell_type": "code",
   "execution_count": null,
   "metadata": {},
   "outputs": [],
   "source": [
    "# Automation"
   ]
  },
  {
   "cell_type": "code",
   "execution_count": 13,
   "metadata": {},
   "outputs": [],
   "source": [
    "# Dataset"
   ]
  },
  {
   "cell_type": "code",
   "execution_count": 1,
   "metadata": {},
   "outputs": [],
   "source": [
    "# Metadata"
   ]
  },
  {
   "cell_type": "code",
   "execution_count": 1,
   "metadata": {},
   "outputs": [],
   "source": [
    "# Data validation"
   ]
  },
  {
   "cell_type": "code",
   "execution_count": null,
   "metadata": {},
   "outputs": [],
   "source": [
    "# Data cleaning"
   ]
  },
  {
   "cell_type": "code",
   "execution_count": 14,
   "metadata": {},
   "outputs": [],
   "source": [
    "# Data preparation"
   ]
  },
  {
   "cell_type": "code",
   "execution_count": 15,
   "metadata": {},
   "outputs": [],
   "source": [
    "# Data visualization"
   ]
  },
  {
   "cell_type": "code",
   "execution_count": 1,
   "metadata": {},
   "outputs": [],
   "source": [
    "# Data graph"
   ]
  },
  {
   "cell_type": "code",
   "execution_count": null,
   "metadata": {},
   "outputs": [],
   "source": [
    "# Insights"
   ]
  },
  {
   "cell_type": "markdown",
   "metadata": {},
   "source": [
    "<center style=\"font-size:18pt; background-color:orange\">\n",
    "    <br/><b>Machine learning [step by step]</b><br/>&nbsp;</center>"
   ]
  },
  {
   "cell_type": "code",
   "execution_count": null,
   "metadata": {},
   "outputs": [],
   "source": [
    "# Todas as colunas de texto, que do dataframe que interessão ao projeto, devem ser tranformadas\n",
    "# em colunas númericas.\n",
    "# df_d = pd.get_dummies(df)"
   ]
  },
  {
   "cell_type": "code",
   "execution_count": 61,
   "metadata": {},
   "outputs": [],
   "source": [
    "# Sepmentar o dataframe:\n",
    "# X (Varável preditiva. Dados sem a resposta)\n",
    "# X = df - coluna resposta (y)\n",
    "\n",
    "# y (resposta). Coluna com as informações de resultado registrado até o momento.\n",
    "# y = coluna resposta"
   ]
  },
  {
   "cell_type": "markdown",
   "metadata": {},
   "source": [
    "[sklearn.model_selection.train_test_split](https://scikit-learn.org/stable/modules/generated/sklearn.model_selection.train_test_split.html)"
   ]
  },
  {
   "cell_type": "code",
   "execution_count": 63,
   "metadata": {},
   "outputs": [],
   "source": [
    "# Separar os dados em treino e teste\n",
    "# X_tr, X_ts (variáveis preditivas)\n",
    "# y_tr, y_ts (variáveis respostas)\n",
    "\n",
    "# from sklearn.model_selection import train_test_split as tts\n",
    "# X_tr, X_ts, y_tr, y_ts = tts(X,y, test_size=0.3)"
   ]
  },
  {
   "cell_type": "markdown",
   "metadata": {},
   "source": [
    "__Treinar o modelo__"
   ]
  },
  {
   "cell_type": "code",
   "execution_count": 1,
   "metadata": {},
   "outputs": [],
   "source": [
    "# SE FOR CLASSFICAÇÃO\n",
    "# Observação:\n",
    "# fit -> utilizado para variáveis 'tr'\n",
    "# transform -> utilizado para variáveis 'ts'\n",
    "\n",
    "# from sklearn.ensemble import RandomForestClassifier\n",
    "# rf = RandomForestClassifier(n_estimators=500, max_depth=10, random_state=61658, n_jobs=-1)\n",
    "# rf.fit(X_tr, y_tr)\n",
    "\n",
    "# Verificar propensão calculada e não propabilidade\n",
    "# pred = rf.predict_proba(X_ts) # para algorítmo de CLASSIFFICAÇÃO"
   ]
  },
  {
   "cell_type": "code",
   "execution_count": null,
   "metadata": {},
   "outputs": [],
   "source": [
    "# SE FOR REGRESSÃO\n",
    "# Observação:\n",
    "# fit -> utilizado para variáveis 'tr'\n",
    "# transform -> utilizado para variáveis 'ts'\n",
    "\n",
    "# from sklearn.ensemble import RandomForestRegressor\n",
    "# rf = RandomForestRegressor(n_estimators=500, max_depth=8, n_jobs=-1)\n",
    "# rf.fit(X_tr, y_tr)\n",
    "\n",
    "# Verificar propensão calculada\n",
    "# pred = rf.predict(X_ts) # para algorítmo de REGRESSÃO"
   ]
  },
  {
   "cell_type": "code",
   "execution_count": null,
   "metadata": {},
   "outputs": [],
   "source": [
    "# Verificar o quanto o modelo errou\n",
    "# Mean Absolute Error (also called MAE)\n",
    "\n",
    "# from sklearn.metrics import mean_absolute_error\n",
    "# mean_absolute_error(y_ts, rf.predict(X_ts))"
   ]
  },
  {
   "cell_type": "code",
   "execution_count": 2,
   "metadata": {},
   "outputs": [],
   "source": [
    "# Verificar curácia\n",
    "# exemplo de métrica para avaliar o score atual\n",
    "# comparativo entre as variáveis\n",
    "# y_ts (dados atuais) e pred (previsão de dados futuros)\n",
    "\n",
    "# from sklearn.metrics import roc_auc_score\n",
    "# roc_auc_score(y_ts, pred)*100"
   ]
  },
  {
   "cell_type": "code",
   "execution_count": null,
   "metadata": {},
   "outputs": [],
   "source": [
    "# Model validation"
   ]
  },
  {
   "cell_type": "code",
   "execution_count": 1,
   "metadata": {},
   "outputs": [],
   "source": [
    "# Gráfico"
   ]
  }
 ],
 "metadata": {
  "kernelspec": {
   "display_name": "Python 3",
   "language": "python",
   "name": "python3"
  },
  "language_info": {
   "codemirror_mode": {
    "name": "ipython",
    "version": 3
   },
   "file_extension": ".py",
   "mimetype": "text/x-python",
   "name": "python",
   "nbconvert_exporter": "python",
   "pygments_lexer": "ipython3",
   "version": "3.8.5"
  }
 },
 "nbformat": 4,
 "nbformat_minor": 4
}
